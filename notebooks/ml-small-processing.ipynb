{
 "cells": [
  {
   "cell_type": "code",
   "execution_count": 1,
   "metadata": {},
   "outputs": [],
   "source": [
    "import numpy as np\n",
    "import pandas as pd "
   ]
  },
  {
   "cell_type": "markdown",
   "metadata": {},
   "source": [
    "### Exploring MovieLens Dataset"
   ]
  },
  {
   "cell_type": "code",
   "execution_count": 2,
   "metadata": {},
   "outputs": [
    {
     "data": {
      "application/vnd.microsoft.datawrangler.viewer.v0+json": {
       "columns": [
        {
         "name": "index",
         "rawType": "int64",
         "type": "integer"
        },
        {
         "name": "userId",
         "rawType": "int64",
         "type": "integer"
        },
        {
         "name": "movieId",
         "rawType": "int64",
         "type": "integer"
        },
        {
         "name": "rating",
         "rawType": "float64",
         "type": "float"
        },
        {
         "name": "timestamp",
         "rawType": "int64",
         "type": "integer"
        }
       ],
       "conversionMethod": "pd.DataFrame",
       "ref": "b4ed3724-a5b8-481a-823d-2b12bcd138b7",
       "rows": [
        [
         "0",
         "1",
         "1",
         "4.0",
         "964982703"
        ],
        [
         "1",
         "1",
         "3",
         "4.0",
         "964981247"
        ],
        [
         "2",
         "1",
         "6",
         "4.0",
         "964982224"
        ],
        [
         "3",
         "1",
         "47",
         "5.0",
         "964983815"
        ],
        [
         "4",
         "1",
         "50",
         "5.0",
         "964982931"
        ]
       ],
       "shape": {
        "columns": 4,
        "rows": 5
       }
      },
      "text/html": [
       "<div>\n",
       "<style scoped>\n",
       "    .dataframe tbody tr th:only-of-type {\n",
       "        vertical-align: middle;\n",
       "    }\n",
       "\n",
       "    .dataframe tbody tr th {\n",
       "        vertical-align: top;\n",
       "    }\n",
       "\n",
       "    .dataframe thead th {\n",
       "        text-align: right;\n",
       "    }\n",
       "</style>\n",
       "<table border=\"1\" class=\"dataframe\">\n",
       "  <thead>\n",
       "    <tr style=\"text-align: right;\">\n",
       "      <th></th>\n",
       "      <th>userId</th>\n",
       "      <th>movieId</th>\n",
       "      <th>rating</th>\n",
       "      <th>timestamp</th>\n",
       "    </tr>\n",
       "  </thead>\n",
       "  <tbody>\n",
       "    <tr>\n",
       "      <th>0</th>\n",
       "      <td>1</td>\n",
       "      <td>1</td>\n",
       "      <td>4.0</td>\n",
       "      <td>964982703</td>\n",
       "    </tr>\n",
       "    <tr>\n",
       "      <th>1</th>\n",
       "      <td>1</td>\n",
       "      <td>3</td>\n",
       "      <td>4.0</td>\n",
       "      <td>964981247</td>\n",
       "    </tr>\n",
       "    <tr>\n",
       "      <th>2</th>\n",
       "      <td>1</td>\n",
       "      <td>6</td>\n",
       "      <td>4.0</td>\n",
       "      <td>964982224</td>\n",
       "    </tr>\n",
       "    <tr>\n",
       "      <th>3</th>\n",
       "      <td>1</td>\n",
       "      <td>47</td>\n",
       "      <td>5.0</td>\n",
       "      <td>964983815</td>\n",
       "    </tr>\n",
       "    <tr>\n",
       "      <th>4</th>\n",
       "      <td>1</td>\n",
       "      <td>50</td>\n",
       "      <td>5.0</td>\n",
       "      <td>964982931</td>\n",
       "    </tr>\n",
       "  </tbody>\n",
       "</table>\n",
       "</div>"
      ],
      "text/plain": [
       "   userId  movieId  rating  timestamp\n",
       "0       1        1     4.0  964982703\n",
       "1       1        3     4.0  964981247\n",
       "2       1        6     4.0  964982224\n",
       "3       1       47     5.0  964983815\n",
       "4       1       50     5.0  964982931"
      ]
     },
     "execution_count": 2,
     "metadata": {},
     "output_type": "execute_result"
    }
   ],
   "source": [
    "ml_small = pd.read_csv(\"../datasets/ml-latest-small/ratings.csv\")\n",
    "ml_small.head()"
   ]
  },
  {
   "cell_type": "code",
   "execution_count": 3,
   "metadata": {},
   "outputs": [
    {
     "data": {
      "application/vnd.microsoft.datawrangler.viewer.v0+json": {
       "columns": [
        {
         "name": "index",
         "rawType": "int64",
         "type": "integer"
        },
        {
         "name": "movieId",
         "rawType": "int64",
         "type": "integer"
        },
        {
         "name": "title",
         "rawType": "object",
         "type": "string"
        },
        {
         "name": "genres",
         "rawType": "object",
         "type": "string"
        }
       ],
       "conversionMethod": "pd.DataFrame",
       "ref": "02431f60-d553-452d-8888-ed6b6f6d47ed",
       "rows": [
        [
         "0",
         "1",
         "Toy Story (1995)",
         "Adventure|Animation|Children|Comedy|Fantasy"
        ],
        [
         "1",
         "2",
         "Jumanji (1995)",
         "Adventure|Children|Fantasy"
        ],
        [
         "2",
         "3",
         "Grumpier Old Men (1995)",
         "Comedy|Romance"
        ],
        [
         "3",
         "4",
         "Waiting to Exhale (1995)",
         "Comedy|Drama|Romance"
        ],
        [
         "4",
         "5",
         "Father of the Bride Part II (1995)",
         "Comedy"
        ]
       ],
       "shape": {
        "columns": 3,
        "rows": 5
       }
      },
      "text/html": [
       "<div>\n",
       "<style scoped>\n",
       "    .dataframe tbody tr th:only-of-type {\n",
       "        vertical-align: middle;\n",
       "    }\n",
       "\n",
       "    .dataframe tbody tr th {\n",
       "        vertical-align: top;\n",
       "    }\n",
       "\n",
       "    .dataframe thead th {\n",
       "        text-align: right;\n",
       "    }\n",
       "</style>\n",
       "<table border=\"1\" class=\"dataframe\">\n",
       "  <thead>\n",
       "    <tr style=\"text-align: right;\">\n",
       "      <th></th>\n",
       "      <th>movieId</th>\n",
       "      <th>title</th>\n",
       "      <th>genres</th>\n",
       "    </tr>\n",
       "  </thead>\n",
       "  <tbody>\n",
       "    <tr>\n",
       "      <th>0</th>\n",
       "      <td>1</td>\n",
       "      <td>Toy Story (1995)</td>\n",
       "      <td>Adventure|Animation|Children|Comedy|Fantasy</td>\n",
       "    </tr>\n",
       "    <tr>\n",
       "      <th>1</th>\n",
       "      <td>2</td>\n",
       "      <td>Jumanji (1995)</td>\n",
       "      <td>Adventure|Children|Fantasy</td>\n",
       "    </tr>\n",
       "    <tr>\n",
       "      <th>2</th>\n",
       "      <td>3</td>\n",
       "      <td>Grumpier Old Men (1995)</td>\n",
       "      <td>Comedy|Romance</td>\n",
       "    </tr>\n",
       "    <tr>\n",
       "      <th>3</th>\n",
       "      <td>4</td>\n",
       "      <td>Waiting to Exhale (1995)</td>\n",
       "      <td>Comedy|Drama|Romance</td>\n",
       "    </tr>\n",
       "    <tr>\n",
       "      <th>4</th>\n",
       "      <td>5</td>\n",
       "      <td>Father of the Bride Part II (1995)</td>\n",
       "      <td>Comedy</td>\n",
       "    </tr>\n",
       "  </tbody>\n",
       "</table>\n",
       "</div>"
      ],
      "text/plain": [
       "   movieId                               title  \\\n",
       "0        1                    Toy Story (1995)   \n",
       "1        2                      Jumanji (1995)   \n",
       "2        3             Grumpier Old Men (1995)   \n",
       "3        4            Waiting to Exhale (1995)   \n",
       "4        5  Father of the Bride Part II (1995)   \n",
       "\n",
       "                                        genres  \n",
       "0  Adventure|Animation|Children|Comedy|Fantasy  \n",
       "1                   Adventure|Children|Fantasy  \n",
       "2                               Comedy|Romance  \n",
       "3                         Comedy|Drama|Romance  \n",
       "4                                       Comedy  "
      ]
     },
     "execution_count": 3,
     "metadata": {},
     "output_type": "execute_result"
    }
   ],
   "source": [
    "ml_movies = pd.read_csv(\"../datasets/ml-latest-small/movies.csv\")\n",
    "ml_movies.head()"
   ]
  },
  {
   "cell_type": "code",
   "execution_count": 4,
   "metadata": {},
   "outputs": [
    {
     "data": {
      "application/vnd.microsoft.datawrangler.viewer.v0+json": {
       "columns": [
        {
         "name": "index",
         "rawType": "int64",
         "type": "integer"
        },
        {
         "name": "movieId",
         "rawType": "int64",
         "type": "integer"
        },
        {
         "name": "title",
         "rawType": "object",
         "type": "string"
        },
        {
         "name": "prop",
         "rawType": "object",
         "type": "string"
        },
        {
         "name": "obj",
         "rawType": "object",
         "type": "string"
        },
        {
         "name": "imdbId",
         "rawType": "object",
         "type": "string"
        }
       ],
       "conversionMethod": "pd.DataFrame",
       "ref": "d72505f0-ec49-4e10-a7dd-3da2bb1cd2a9",
       "rows": [
        [
         "0",
         "199",
         "The Umbrellas of Cherbourg",
         "director",
         "Jacques Demy",
         "tt0058450"
        ],
        [
         "1",
         "199",
         "The Umbrellas of Cherbourg",
         "screenwriter",
         "Jacques Demy",
         "tt0058450"
        ],
        [
         "2",
         "199",
         "The Umbrellas of Cherbourg",
         "composer",
         "Michel Legrand",
         "tt0058450"
        ],
        [
         "3",
         "199",
         "The Umbrellas of Cherbourg",
         "genre",
         "drama",
         "tt0058450"
        ],
        [
         "4",
         "199",
         "The Umbrellas of Cherbourg",
         "genre",
         "musical film",
         "tt0058450"
        ]
       ],
       "shape": {
        "columns": 5,
        "rows": 5
       }
      },
      "text/html": [
       "<div>\n",
       "<style scoped>\n",
       "    .dataframe tbody tr th:only-of-type {\n",
       "        vertical-align: middle;\n",
       "    }\n",
       "\n",
       "    .dataframe tbody tr th {\n",
       "        vertical-align: top;\n",
       "    }\n",
       "\n",
       "    .dataframe thead th {\n",
       "        text-align: right;\n",
       "    }\n",
       "</style>\n",
       "<table border=\"1\" class=\"dataframe\">\n",
       "  <thead>\n",
       "    <tr style=\"text-align: right;\">\n",
       "      <th></th>\n",
       "      <th>movieId</th>\n",
       "      <th>title</th>\n",
       "      <th>prop</th>\n",
       "      <th>obj</th>\n",
       "      <th>imdbId</th>\n",
       "    </tr>\n",
       "  </thead>\n",
       "  <tbody>\n",
       "    <tr>\n",
       "      <th>0</th>\n",
       "      <td>199</td>\n",
       "      <td>The Umbrellas of Cherbourg</td>\n",
       "      <td>director</td>\n",
       "      <td>Jacques Demy</td>\n",
       "      <td>tt0058450</td>\n",
       "    </tr>\n",
       "    <tr>\n",
       "      <th>1</th>\n",
       "      <td>199</td>\n",
       "      <td>The Umbrellas of Cherbourg</td>\n",
       "      <td>screenwriter</td>\n",
       "      <td>Jacques Demy</td>\n",
       "      <td>tt0058450</td>\n",
       "    </tr>\n",
       "    <tr>\n",
       "      <th>2</th>\n",
       "      <td>199</td>\n",
       "      <td>The Umbrellas of Cherbourg</td>\n",
       "      <td>composer</td>\n",
       "      <td>Michel Legrand</td>\n",
       "      <td>tt0058450</td>\n",
       "    </tr>\n",
       "    <tr>\n",
       "      <th>3</th>\n",
       "      <td>199</td>\n",
       "      <td>The Umbrellas of Cherbourg</td>\n",
       "      <td>genre</td>\n",
       "      <td>drama</td>\n",
       "      <td>tt0058450</td>\n",
       "    </tr>\n",
       "    <tr>\n",
       "      <th>4</th>\n",
       "      <td>199</td>\n",
       "      <td>The Umbrellas of Cherbourg</td>\n",
       "      <td>genre</td>\n",
       "      <td>musical film</td>\n",
       "      <td>tt0058450</td>\n",
       "    </tr>\n",
       "  </tbody>\n",
       "</table>\n",
       "</div>"
      ],
      "text/plain": [
       "   movieId                       title          prop             obj  \\\n",
       "0      199  The Umbrellas of Cherbourg      director    Jacques Demy   \n",
       "1      199  The Umbrellas of Cherbourg  screenwriter    Jacques Demy   \n",
       "2      199  The Umbrellas of Cherbourg      composer  Michel Legrand   \n",
       "3      199  The Umbrellas of Cherbourg         genre           drama   \n",
       "4      199  The Umbrellas of Cherbourg         genre    musical film   \n",
       "\n",
       "      imdbId  \n",
       "0  tt0058450  \n",
       "1  tt0058450  \n",
       "2  tt0058450  \n",
       "3  tt0058450  \n",
       "4  tt0058450  "
      ]
     },
     "execution_count": 4,
     "metadata": {},
     "output_type": "execute_result"
    }
   ],
   "source": [
    "kg_movies = pd.read_csv(\"../knowledge-graphs/props_wikidata_movielens_small.csv\")\n",
    "kg_movies.head()"
   ]
  },
  {
   "cell_type": "code",
   "execution_count": 5,
   "metadata": {},
   "outputs": [
    {
     "name": "stdout",
     "output_type": "stream",
     "text": [
      "9724\n"
     ]
    }
   ],
   "source": [
    "# number of unique movies that are on movie interactions\n",
    "movies_id = ml_small[\"movieId\"].unique()\n",
    "print(len(movies_id))"
   ]
  },
  {
   "cell_type": "code",
   "execution_count": 6,
   "metadata": {},
   "outputs": [
    {
     "name": "stdout",
     "output_type": "stream",
     "text": [
      "9742\n"
     ]
    }
   ],
   "source": [
    "# number of movies in listed in the item file\n",
    "all_movies_id = ml_movies[\"movieId\"].unique()\n",
    "print(len(all_movies_id))"
   ]
  },
  {
   "cell_type": "code",
   "execution_count": 7,
   "metadata": {},
   "outputs": [
    {
     "name": "stdout",
     "output_type": "stream",
     "text": [
      "9535\n"
     ]
    }
   ],
   "source": [
    "# knowledge graph movies \n",
    "kg_movies_id = kg_movies[\"movieId\"].unique()\n",
    "print(len(kg_movies_id))"
   ]
  },
  {
   "cell_type": "code",
   "execution_count": 8,
   "metadata": {},
   "outputs": [
    {
     "data": {
      "text/plain": [
       "[1, 2, 3, 4, 5, 6, 7, 8, 9, 10]"
      ]
     },
     "execution_count": 8,
     "metadata": {},
     "output_type": "execute_result"
    }
   ],
   "source": [
    "# check intersection between all movies and extracted from the kg\n",
    "intersection = set(all_movies_id).intersection(set(kg_movies_id))\n",
    "list(intersection)[:10]"
   ]
  },
  {
   "cell_type": "code",
   "execution_count": 9,
   "metadata": {},
   "outputs": [
    {
     "name": "stdout",
     "output_type": "stream",
     "text": [
      "9535\n"
     ]
    }
   ],
   "source": [
    "print(len(intersection))"
   ]
  },
  {
   "cell_type": "code",
   "execution_count": 10,
   "metadata": {},
   "outputs": [
    {
     "data": {
      "text/plain": [
       "[]"
      ]
     },
     "execution_count": 10,
     "metadata": {},
     "output_type": "execute_result"
    }
   ],
   "source": [
    "# checking if there are movies in the kg that are not in the set of all movies\n",
    "list(set(kg_movies_id).difference(set(all_movies_id)))"
   ]
  },
  {
   "cell_type": "code",
   "execution_count": 11,
   "metadata": {},
   "outputs": [
    {
     "data": {
      "text/plain": [
       "207"
      ]
     },
     "execution_count": 11,
     "metadata": {},
     "output_type": "execute_result"
    }
   ],
   "source": [
    "# checking the oposite, if there are movies on the set of all movies but not in the kg\n",
    "len(list(set(all_movies_id).difference(set(kg_movies_id))))"
   ]
  },
  {
   "cell_type": "code",
   "execution_count": 12,
   "metadata": {},
   "outputs": [
    {
     "data": {
      "text/plain": [
       "9742"
      ]
     },
     "execution_count": 12,
     "metadata": {},
     "output_type": "execute_result"
    }
   ],
   "source": [
    "# checking union, should be equal to total movies\n",
    "union = set(all_movies_id).union(set(kg_movies_id))\n",
    "len(list(union))"
   ]
  },
  {
   "cell_type": "code",
   "execution_count": 13,
   "metadata": {},
   "outputs": [
    {
     "data": {
      "text/plain": [
       "0.9787517963457195"
      ]
     },
     "execution_count": 13,
     "metadata": {},
     "output_type": "execute_result"
    }
   ],
   "source": [
    "# checking the percentage of items covered in the kg\n",
    "len(list(intersection)) / len(list(union))"
   ]
  },
  {
   "cell_type": "code",
   "execution_count": 14,
   "metadata": {},
   "outputs": [
    {
     "data": {
      "application/vnd.microsoft.datawrangler.viewer.v0+json": {
       "columns": [
        {
         "name": "index",
         "rawType": "int64",
         "type": "integer"
        },
        {
         "name": "userId",
         "rawType": "int64",
         "type": "integer"
        },
        {
         "name": "movieId",
         "rawType": "int64",
         "type": "integer"
        },
        {
         "name": "rating",
         "rawType": "float64",
         "type": "float"
        },
        {
         "name": "timestamp",
         "rawType": "int64",
         "type": "integer"
        }
       ],
       "conversionMethod": "pd.DataFrame",
       "ref": "e08b3339-5caf-4cf6-b500-5efb4f86bf80",
       "rows": [
        [
         "0",
         "1",
         "1",
         "4.0",
         "964982703"
        ],
        [
         "1",
         "1",
         "3",
         "4.0",
         "964981247"
        ],
        [
         "2",
         "1",
         "6",
         "4.0",
         "964982224"
        ],
        [
         "3",
         "1",
         "47",
         "5.0",
         "964983815"
        ],
        [
         "4",
         "1",
         "50",
         "5.0",
         "964982931"
        ]
       ],
       "shape": {
        "columns": 4,
        "rows": 5
       }
      },
      "text/html": [
       "<div>\n",
       "<style scoped>\n",
       "    .dataframe tbody tr th:only-of-type {\n",
       "        vertical-align: middle;\n",
       "    }\n",
       "\n",
       "    .dataframe tbody tr th {\n",
       "        vertical-align: top;\n",
       "    }\n",
       "\n",
       "    .dataframe thead th {\n",
       "        text-align: right;\n",
       "    }\n",
       "</style>\n",
       "<table border=\"1\" class=\"dataframe\">\n",
       "  <thead>\n",
       "    <tr style=\"text-align: right;\">\n",
       "      <th></th>\n",
       "      <th>userId</th>\n",
       "      <th>movieId</th>\n",
       "      <th>rating</th>\n",
       "      <th>timestamp</th>\n",
       "    </tr>\n",
       "  </thead>\n",
       "  <tbody>\n",
       "    <tr>\n",
       "      <th>0</th>\n",
       "      <td>1</td>\n",
       "      <td>1</td>\n",
       "      <td>4.0</td>\n",
       "      <td>964982703</td>\n",
       "    </tr>\n",
       "    <tr>\n",
       "      <th>1</th>\n",
       "      <td>1</td>\n",
       "      <td>3</td>\n",
       "      <td>4.0</td>\n",
       "      <td>964981247</td>\n",
       "    </tr>\n",
       "    <tr>\n",
       "      <th>2</th>\n",
       "      <td>1</td>\n",
       "      <td>6</td>\n",
       "      <td>4.0</td>\n",
       "      <td>964982224</td>\n",
       "    </tr>\n",
       "    <tr>\n",
       "      <th>3</th>\n",
       "      <td>1</td>\n",
       "      <td>47</td>\n",
       "      <td>5.0</td>\n",
       "      <td>964983815</td>\n",
       "    </tr>\n",
       "    <tr>\n",
       "      <th>4</th>\n",
       "      <td>1</td>\n",
       "      <td>50</td>\n",
       "      <td>5.0</td>\n",
       "      <td>964982931</td>\n",
       "    </tr>\n",
       "  </tbody>\n",
       "</table>\n",
       "</div>"
      ],
      "text/plain": [
       "   userId  movieId  rating  timestamp\n",
       "0       1        1     4.0  964982703\n",
       "1       1        3     4.0  964981247\n",
       "2       1        6     4.0  964982224\n",
       "3       1       47     5.0  964983815\n",
       "4       1       50     5.0  964982931"
      ]
     },
     "execution_count": 14,
     "metadata": {},
     "output_type": "execute_result"
    }
   ],
   "source": [
    "ml_small.head()"
   ]
  },
  {
   "cell_type": "markdown",
   "metadata": {},
   "source": [
    "### Keeping in the dataset only movies contained in the KG"
   ]
  },
  {
   "cell_type": "code",
   "execution_count": 15,
   "metadata": {},
   "outputs": [
    {
     "data": {
      "application/vnd.microsoft.datawrangler.viewer.v0+json": {
       "columns": [
        {
         "name": "index",
         "rawType": "int64",
         "type": "integer"
        },
        {
         "name": "userId",
         "rawType": "int64",
         "type": "integer"
        },
        {
         "name": "movieId",
         "rawType": "int64",
         "type": "integer"
        },
        {
         "name": "rating",
         "rawType": "float64",
         "type": "float"
        },
        {
         "name": "timestamp",
         "rawType": "int64",
         "type": "integer"
        }
       ],
       "conversionMethod": "pd.DataFrame",
       "ref": "714044da-b917-432d-9265-4542f38f6a10",
       "rows": [
        [
         "0",
         "1",
         "1",
         "4.0",
         "964982703"
        ],
        [
         "1",
         "1",
         "3",
         "4.0",
         "964981247"
        ],
        [
         "2",
         "1",
         "6",
         "4.0",
         "964982224"
        ],
        [
         "3",
         "1",
         "47",
         "5.0",
         "964983815"
        ],
        [
         "4",
         "1",
         "50",
         "5.0",
         "964982931"
        ]
       ],
       "shape": {
        "columns": 4,
        "rows": 5
       }
      },
      "text/html": [
       "<div>\n",
       "<style scoped>\n",
       "    .dataframe tbody tr th:only-of-type {\n",
       "        vertical-align: middle;\n",
       "    }\n",
       "\n",
       "    .dataframe tbody tr th {\n",
       "        vertical-align: top;\n",
       "    }\n",
       "\n",
       "    .dataframe thead th {\n",
       "        text-align: right;\n",
       "    }\n",
       "</style>\n",
       "<table border=\"1\" class=\"dataframe\">\n",
       "  <thead>\n",
       "    <tr style=\"text-align: right;\">\n",
       "      <th></th>\n",
       "      <th>userId</th>\n",
       "      <th>movieId</th>\n",
       "      <th>rating</th>\n",
       "      <th>timestamp</th>\n",
       "    </tr>\n",
       "  </thead>\n",
       "  <tbody>\n",
       "    <tr>\n",
       "      <th>0</th>\n",
       "      <td>1</td>\n",
       "      <td>1</td>\n",
       "      <td>4.0</td>\n",
       "      <td>964982703</td>\n",
       "    </tr>\n",
       "    <tr>\n",
       "      <th>1</th>\n",
       "      <td>1</td>\n",
       "      <td>3</td>\n",
       "      <td>4.0</td>\n",
       "      <td>964981247</td>\n",
       "    </tr>\n",
       "    <tr>\n",
       "      <th>2</th>\n",
       "      <td>1</td>\n",
       "      <td>6</td>\n",
       "      <td>4.0</td>\n",
       "      <td>964982224</td>\n",
       "    </tr>\n",
       "    <tr>\n",
       "      <th>3</th>\n",
       "      <td>1</td>\n",
       "      <td>47</td>\n",
       "      <td>5.0</td>\n",
       "      <td>964983815</td>\n",
       "    </tr>\n",
       "    <tr>\n",
       "      <th>4</th>\n",
       "      <td>1</td>\n",
       "      <td>50</td>\n",
       "      <td>5.0</td>\n",
       "      <td>964982931</td>\n",
       "    </tr>\n",
       "  </tbody>\n",
       "</table>\n",
       "</div>"
      ],
      "text/plain": [
       "   userId  movieId  rating  timestamp\n",
       "0       1        1     4.0  964982703\n",
       "1       1        3     4.0  964981247\n",
       "2       1        6     4.0  964982224\n",
       "3       1       47     5.0  964983815\n",
       "4       1       50     5.0  964982931"
      ]
     },
     "execution_count": 15,
     "metadata": {},
     "output_type": "execute_result"
    }
   ],
   "source": [
    "processed = ml_small.loc[ml_small[\"movieId\"].isin(list(intersection))]\n",
    "processed.head()"
   ]
  },
  {
   "cell_type": "code",
   "execution_count": 16,
   "metadata": {},
   "outputs": [
    {
     "data": {
      "text/plain": [
       "(100521, 4)"
      ]
     },
     "execution_count": 16,
     "metadata": {},
     "output_type": "execute_result"
    }
   ],
   "source": [
    "processed.shape"
   ]
  },
  {
   "cell_type": "code",
   "execution_count": 17,
   "metadata": {},
   "outputs": [
    {
     "data": {
      "text/plain": [
       "(100836, 4)"
      ]
     },
     "execution_count": 17,
     "metadata": {},
     "output_type": "execute_result"
    }
   ],
   "source": [
    "ml_small.shape"
   ]
  },
  {
   "cell_type": "code",
   "execution_count": 18,
   "metadata": {},
   "outputs": [
    {
     "data": {
      "text/plain": [
       "0.996876115672974"
      ]
     },
     "execution_count": 18,
     "metadata": {},
     "output_type": "execute_result"
    }
   ],
   "source": [
    "# We were able to keep 99% of interactions even thought we covered 97% of movies\n",
    "processed.shape[0]/ml_small.shape[0]"
   ]
  },
  {
   "cell_type": "code",
   "execution_count": 19,
   "metadata": {},
   "outputs": [],
   "source": [
    "# saving new dataset\n",
    "processed.to_csv(\"../datasets/ml-latest-small/ratings_processed.csv\", header=True, index=False)"
   ]
  },
  {
   "cell_type": "code",
   "execution_count": 20,
   "metadata": {},
   "outputs": [
    {
     "name": "stdout",
     "output_type": "stream",
     "text": [
      "0.996876115672974\n"
     ]
    }
   ],
   "source": [
    "# reading new dataset \n",
    "r_processed = pd.read_csv(\"../datasets/ml-latest-small/ratings_processed.csv\")\n",
    "print(r_processed.shape[0]/ml_small.shape[0])"
   ]
  },
  {
   "cell_type": "code",
   "execution_count": 21,
   "metadata": {},
   "outputs": [
    {
     "data": {
      "application/vnd.microsoft.datawrangler.viewer.v0+json": {
       "columns": [
        {
         "name": "index",
         "rawType": "int64",
         "type": "integer"
        },
        {
         "name": "userId",
         "rawType": "int64",
         "type": "integer"
        },
        {
         "name": "movieId",
         "rawType": "int64",
         "type": "integer"
        },
        {
         "name": "rating",
         "rawType": "float64",
         "type": "float"
        },
        {
         "name": "timestamp",
         "rawType": "int64",
         "type": "integer"
        }
       ],
       "conversionMethod": "pd.DataFrame",
       "ref": "be2dda79-358d-4ba2-83d8-09911e917378",
       "rows": [
        [
         "0",
         "1",
         "1",
         "4.0",
         "964982703"
        ],
        [
         "1",
         "1",
         "3",
         "4.0",
         "964981247"
        ],
        [
         "2",
         "1",
         "6",
         "4.0",
         "964982224"
        ],
        [
         "3",
         "1",
         "47",
         "5.0",
         "964983815"
        ],
        [
         "4",
         "1",
         "50",
         "5.0",
         "964982931"
        ]
       ],
       "shape": {
        "columns": 4,
        "rows": 5
       }
      },
      "text/html": [
       "<div>\n",
       "<style scoped>\n",
       "    .dataframe tbody tr th:only-of-type {\n",
       "        vertical-align: middle;\n",
       "    }\n",
       "\n",
       "    .dataframe tbody tr th {\n",
       "        vertical-align: top;\n",
       "    }\n",
       "\n",
       "    .dataframe thead th {\n",
       "        text-align: right;\n",
       "    }\n",
       "</style>\n",
       "<table border=\"1\" class=\"dataframe\">\n",
       "  <thead>\n",
       "    <tr style=\"text-align: right;\">\n",
       "      <th></th>\n",
       "      <th>userId</th>\n",
       "      <th>movieId</th>\n",
       "      <th>rating</th>\n",
       "      <th>timestamp</th>\n",
       "    </tr>\n",
       "  </thead>\n",
       "  <tbody>\n",
       "    <tr>\n",
       "      <th>0</th>\n",
       "      <td>1</td>\n",
       "      <td>1</td>\n",
       "      <td>4.0</td>\n",
       "      <td>964982703</td>\n",
       "    </tr>\n",
       "    <tr>\n",
       "      <th>1</th>\n",
       "      <td>1</td>\n",
       "      <td>3</td>\n",
       "      <td>4.0</td>\n",
       "      <td>964981247</td>\n",
       "    </tr>\n",
       "    <tr>\n",
       "      <th>2</th>\n",
       "      <td>1</td>\n",
       "      <td>6</td>\n",
       "      <td>4.0</td>\n",
       "      <td>964982224</td>\n",
       "    </tr>\n",
       "    <tr>\n",
       "      <th>3</th>\n",
       "      <td>1</td>\n",
       "      <td>47</td>\n",
       "      <td>5.0</td>\n",
       "      <td>964983815</td>\n",
       "    </tr>\n",
       "    <tr>\n",
       "      <th>4</th>\n",
       "      <td>1</td>\n",
       "      <td>50</td>\n",
       "      <td>5.0</td>\n",
       "      <td>964982931</td>\n",
       "    </tr>\n",
       "  </tbody>\n",
       "</table>\n",
       "</div>"
      ],
      "text/plain": [
       "   userId  movieId  rating  timestamp\n",
       "0       1        1     4.0  964982703\n",
       "1       1        3     4.0  964981247\n",
       "2       1        6     4.0  964982224\n",
       "3       1       47     5.0  964983815\n",
       "4       1       50     5.0  964982931"
      ]
     },
     "execution_count": 21,
     "metadata": {},
     "output_type": "execute_result"
    }
   ],
   "source": [
    "r_processed.head()"
   ]
  },
  {
   "cell_type": "code",
   "execution_count": 22,
   "metadata": {},
   "outputs": [
    {
     "data": {
      "text/plain": [
       "(100521, 4)"
      ]
     },
     "execution_count": 22,
     "metadata": {},
     "output_type": "execute_result"
    }
   ],
   "source": [
    "r_processed.shape"
   ]
  },
  {
   "cell_type": "markdown",
   "metadata": {},
   "source": [
    "### Spliting Data with a KFold Temporal User Approach\n",
    "In this method we first need to sort the interactions by timestamp and then split the dataset into training, validation and testing. However, if we are also doing a K-Fold this means that we roughly divide the dataset into 6 parts, initially the first one is for trainig and the other is divided into validation and testing. The second fold has three parts: the first two from the first fold and another. In this second fold the two initial parts are for training and the thrid for validation and testing. In the third, it has four parts, the first three from the previous fold with the three initial for training and the last divided into validation and testing and so it goes... "
   ]
  },
  {
   "cell_type": "markdown",
   "metadata": {},
   "source": [
    "The code bellow has been moved to the ./dataset_experiment/movielens100k.py"
   ]
  },
  {
   "cell_type": "code",
   "execution_count": 23,
   "metadata": {},
   "outputs": [
    {
     "data": {
      "text/plain": [
       "array([ 1,  2,  3,  4,  5,  6,  7,  8,  9, 10], dtype=int64)"
      ]
     },
     "execution_count": 23,
     "metadata": {},
     "output_type": "execute_result"
    }
   ],
   "source": [
    "users = r_processed[\"userId\"].unique()\n",
    "users[:10]"
   ]
  },
  {
   "cell_type": "code",
   "execution_count": 24,
   "metadata": {},
   "outputs": [],
   "source": [
    "from sklearn.model_selection import TimeSeriesSplit\n",
    "\n",
    "n_splits = 5\n",
    "train_folds = [pd.DataFrame() for _ in range(n_splits)]\n",
    "validation_folds = [pd.DataFrame() for _ in range(n_splits)]\n",
    "test_folds = [pd.DataFrame() for _ in range(n_splits)]\n",
    "\n",
    "timesplit = TimeSeriesSplit(n_splits=n_splits)"
   ]
  },
  {
   "cell_type": "code",
   "execution_count": 25,
   "metadata": {},
   "outputs": [
    {
     "name": "stderr",
     "output_type": "stream",
     "text": [
      "100%|██████████| 610/610 [00:06<00:00, 96.81it/s] \n"
     ]
    }
   ],
   "source": [
    "from tqdm import tqdm\n",
    "for user in tqdm(users):\n",
    "    user_ds = r_processed[r_processed[\"userId\"] == user].sort_values(\"timestamp\")\n",
    "    for i, (train_index, test_index) in enumerate(timesplit.split(user_ds)):\n",
    "        train_folds[i] = pd.concat([train_folds[i], r_processed.loc[user_ds.iloc[train_index].index]])\n",
    "        \n",
    "        test_val_df = r_processed.loc[user_ds.iloc[test_index].index]\n",
    "        half = int(test_val_df.shape[0] / 2)\n",
    "        validation_df = test_val_df.iloc[:half,:]\n",
    "        test_df = test_val_df.iloc[half:,:]\n",
    "\n",
    "        validation_folds[i] = pd.concat([validation_folds[i], validation_df])  \n",
    "        test_folds[i] = pd.concat([test_folds[i], test_df])"
   ]
  },
  {
   "cell_type": "code",
   "execution_count": 26,
   "metadata": {},
   "outputs": [
    {
     "data": {
      "application/vnd.microsoft.datawrangler.viewer.v0+json": {
       "columns": [
        {
         "name": "index",
         "rawType": "int64",
         "type": "integer"
        },
        {
         "name": "userId",
         "rawType": "int64",
         "type": "integer"
        },
        {
         "name": "movieId",
         "rawType": "int64",
         "type": "integer"
        },
        {
         "name": "rating",
         "rawType": "float64",
         "type": "float"
        },
        {
         "name": "timestamp",
         "rawType": "int64",
         "type": "integer"
        }
       ],
       "conversionMethod": "pd.DataFrame",
       "ref": "fe409568-22a7-4910-8075-4e5591918577",
       "rows": [
        [
         "0",
         "1",
         "1",
         "4.0",
         "964982703"
        ],
        [
         "1",
         "1",
         "3",
         "4.0",
         "964981247"
        ],
        [
         "2",
         "1",
         "6",
         "4.0",
         "964982224"
        ],
        [
         "3",
         "1",
         "47",
         "5.0",
         "964983815"
        ],
        [
         "4",
         "1",
         "50",
         "5.0",
         "964982931"
        ],
        [
         "5",
         "1",
         "70",
         "3.0",
         "964982400"
        ],
        [
         "6",
         "1",
         "101",
         "5.0",
         "964980868"
        ],
        [
         "7",
         "1",
         "110",
         "4.0",
         "964982176"
        ],
        [
         "8",
         "1",
         "151",
         "5.0",
         "964984041"
        ],
        [
         "9",
         "1",
         "157",
         "5.0",
         "964984100"
        ],
        [
         "10",
         "1",
         "163",
         "5.0",
         "964983650"
        ],
        [
         "11",
         "1",
         "216",
         "5.0",
         "964981208"
        ],
        [
         "12",
         "1",
         "223",
         "3.0",
         "964980985"
        ],
        [
         "13",
         "1",
         "231",
         "5.0",
         "964981179"
        ],
        [
         "14",
         "1",
         "235",
         "4.0",
         "964980908"
        ],
        [
         "15",
         "1",
         "260",
         "5.0",
         "964981680"
        ],
        [
         "16",
         "1",
         "296",
         "3.0",
         "964982967"
        ],
        [
         "17",
         "1",
         "316",
         "3.0",
         "964982310"
        ],
        [
         "18",
         "1",
         "333",
         "5.0",
         "964981179"
        ],
        [
         "19",
         "1",
         "349",
         "4.0",
         "964982563"
        ],
        [
         "20",
         "1",
         "356",
         "4.0",
         "964980962"
        ],
        [
         "21",
         "1",
         "362",
         "5.0",
         "964982588"
        ],
        [
         "22",
         "1",
         "367",
         "4.0",
         "964981710"
        ],
        [
         "23",
         "1",
         "423",
         "3.0",
         "964982363"
        ],
        [
         "24",
         "1",
         "441",
         "4.0",
         "964980868"
        ],
        [
         "25",
         "1",
         "457",
         "5.0",
         "964981909"
        ],
        [
         "26",
         "1",
         "480",
         "4.0",
         "964982346"
        ],
        [
         "27",
         "1",
         "500",
         "3.0",
         "964981208"
        ],
        [
         "28",
         "1",
         "527",
         "5.0",
         "964984002"
        ],
        [
         "29",
         "1",
         "543",
         "4.0",
         "964981179"
        ],
        [
         "30",
         "1",
         "552",
         "4.0",
         "964982653"
        ],
        [
         "31",
         "1",
         "553",
         "5.0",
         "964984153"
        ],
        [
         "32",
         "1",
         "590",
         "4.0",
         "964982546"
        ],
        [
         "33",
         "1",
         "592",
         "4.0",
         "964982271"
        ],
        [
         "34",
         "1",
         "593",
         "4.0",
         "964983793"
        ],
        [
         "35",
         "1",
         "596",
         "5.0",
         "964982838"
        ],
        [
         "36",
         "1",
         "608",
         "5.0",
         "964982931"
        ],
        [
         "37",
         "1",
         "648",
         "3.0",
         "964982563"
        ],
        [
         "38",
         "1",
         "661",
         "5.0",
         "964982838"
        ],
        [
         "39",
         "1",
         "673",
         "3.0",
         "964981775"
        ],
        [
         "40",
         "1",
         "733",
         "4.0",
         "964982400"
        ],
        [
         "41",
         "1",
         "736",
         "3.0",
         "964982653"
        ],
        [
         "42",
         "1",
         "780",
         "3.0",
         "964984086"
        ],
        [
         "43",
         "1",
         "804",
         "4.0",
         "964980499"
        ],
        [
         "44",
         "1",
         "919",
         "5.0",
         "964982475"
        ],
        [
         "45",
         "1",
         "923",
         "5.0",
         "964981529"
        ],
        [
         "46",
         "1",
         "940",
         "5.0",
         "964982176"
        ],
        [
         "47",
         "1",
         "943",
         "4.0",
         "964983614"
        ],
        [
         "48",
         "1",
         "954",
         "5.0",
         "964983219"
        ],
        [
         "49",
         "1",
         "1009",
         "3.0",
         "964981775"
        ]
       ],
       "shape": {
        "columns": 4,
        "rows": 100521
       }
      },
      "text/html": [
       "<div>\n",
       "<style scoped>\n",
       "    .dataframe tbody tr th:only-of-type {\n",
       "        vertical-align: middle;\n",
       "    }\n",
       "\n",
       "    .dataframe tbody tr th {\n",
       "        vertical-align: top;\n",
       "    }\n",
       "\n",
       "    .dataframe thead th {\n",
       "        text-align: right;\n",
       "    }\n",
       "</style>\n",
       "<table border=\"1\" class=\"dataframe\">\n",
       "  <thead>\n",
       "    <tr style=\"text-align: right;\">\n",
       "      <th></th>\n",
       "      <th>userId</th>\n",
       "      <th>movieId</th>\n",
       "      <th>rating</th>\n",
       "      <th>timestamp</th>\n",
       "    </tr>\n",
       "  </thead>\n",
       "  <tbody>\n",
       "    <tr>\n",
       "      <th>0</th>\n",
       "      <td>1</td>\n",
       "      <td>1</td>\n",
       "      <td>4.0</td>\n",
       "      <td>964982703</td>\n",
       "    </tr>\n",
       "    <tr>\n",
       "      <th>1</th>\n",
       "      <td>1</td>\n",
       "      <td>3</td>\n",
       "      <td>4.0</td>\n",
       "      <td>964981247</td>\n",
       "    </tr>\n",
       "    <tr>\n",
       "      <th>2</th>\n",
       "      <td>1</td>\n",
       "      <td>6</td>\n",
       "      <td>4.0</td>\n",
       "      <td>964982224</td>\n",
       "    </tr>\n",
       "    <tr>\n",
       "      <th>3</th>\n",
       "      <td>1</td>\n",
       "      <td>47</td>\n",
       "      <td>5.0</td>\n",
       "      <td>964983815</td>\n",
       "    </tr>\n",
       "    <tr>\n",
       "      <th>4</th>\n",
       "      <td>1</td>\n",
       "      <td>50</td>\n",
       "      <td>5.0</td>\n",
       "      <td>964982931</td>\n",
       "    </tr>\n",
       "    <tr>\n",
       "      <th>...</th>\n",
       "      <td>...</td>\n",
       "      <td>...</td>\n",
       "      <td>...</td>\n",
       "      <td>...</td>\n",
       "    </tr>\n",
       "    <tr>\n",
       "      <th>100516</th>\n",
       "      <td>610</td>\n",
       "      <td>166534</td>\n",
       "      <td>4.0</td>\n",
       "      <td>1493848402</td>\n",
       "    </tr>\n",
       "    <tr>\n",
       "      <th>100517</th>\n",
       "      <td>610</td>\n",
       "      <td>168248</td>\n",
       "      <td>5.0</td>\n",
       "      <td>1493850091</td>\n",
       "    </tr>\n",
       "    <tr>\n",
       "      <th>100518</th>\n",
       "      <td>610</td>\n",
       "      <td>168250</td>\n",
       "      <td>5.0</td>\n",
       "      <td>1494273047</td>\n",
       "    </tr>\n",
       "    <tr>\n",
       "      <th>100519</th>\n",
       "      <td>610</td>\n",
       "      <td>168252</td>\n",
       "      <td>5.0</td>\n",
       "      <td>1493846352</td>\n",
       "    </tr>\n",
       "    <tr>\n",
       "      <th>100520</th>\n",
       "      <td>610</td>\n",
       "      <td>170875</td>\n",
       "      <td>3.0</td>\n",
       "      <td>1493846415</td>\n",
       "    </tr>\n",
       "  </tbody>\n",
       "</table>\n",
       "<p>100521 rows × 4 columns</p>\n",
       "</div>"
      ],
      "text/plain": [
       "        userId  movieId  rating   timestamp\n",
       "0            1        1     4.0   964982703\n",
       "1            1        3     4.0   964981247\n",
       "2            1        6     4.0   964982224\n",
       "3            1       47     5.0   964983815\n",
       "4            1       50     5.0   964982931\n",
       "...        ...      ...     ...         ...\n",
       "100516     610   166534     4.0  1493848402\n",
       "100517     610   168248     5.0  1493850091\n",
       "100518     610   168250     5.0  1494273047\n",
       "100519     610   168252     5.0  1493846352\n",
       "100520     610   170875     3.0  1493846415\n",
       "\n",
       "[100521 rows x 4 columns]"
      ]
     },
     "execution_count": 26,
     "metadata": {},
     "output_type": "execute_result"
    }
   ],
   "source": [
    "r_processed.sort_index()"
   ]
  },
  {
   "cell_type": "code",
   "execution_count": 27,
   "metadata": {},
   "outputs": [
    {
     "data": {
      "application/vnd.microsoft.datawrangler.viewer.v0+json": {
       "columns": [
        {
         "name": "index",
         "rawType": "int64",
         "type": "integer"
        },
        {
         "name": "userId",
         "rawType": "int64",
         "type": "integer"
        },
        {
         "name": "movieId",
         "rawType": "int64",
         "type": "integer"
        },
        {
         "name": "rating",
         "rawType": "float64",
         "type": "float"
        },
        {
         "name": "timestamp",
         "rawType": "int64",
         "type": "integer"
        }
       ],
       "conversionMethod": "pd.DataFrame",
       "ref": "4b328486-1a6d-4961-bca5-358f06d55ec7",
       "rows": [
        [
         "0",
         "1",
         "1",
         "4.0",
         "964982703"
        ],
        [
         "1",
         "1",
         "3",
         "4.0",
         "964981247"
        ],
        [
         "2",
         "1",
         "6",
         "4.0",
         "964982224"
        ],
        [
         "3",
         "1",
         "47",
         "5.0",
         "964983815"
        ],
        [
         "4",
         "1",
         "50",
         "5.0",
         "964982931"
        ],
        [
         "5",
         "1",
         "70",
         "3.0",
         "964982400"
        ],
        [
         "6",
         "1",
         "101",
         "5.0",
         "964980868"
        ],
        [
         "7",
         "1",
         "110",
         "4.0",
         "964982176"
        ],
        [
         "8",
         "1",
         "151",
         "5.0",
         "964984041"
        ],
        [
         "9",
         "1",
         "157",
         "5.0",
         "964984100"
        ],
        [
         "10",
         "1",
         "163",
         "5.0",
         "964983650"
        ],
        [
         "11",
         "1",
         "216",
         "5.0",
         "964981208"
        ],
        [
         "12",
         "1",
         "223",
         "3.0",
         "964980985"
        ],
        [
         "13",
         "1",
         "231",
         "5.0",
         "964981179"
        ],
        [
         "14",
         "1",
         "235",
         "4.0",
         "964980908"
        ],
        [
         "15",
         "1",
         "260",
         "5.0",
         "964981680"
        ],
        [
         "16",
         "1",
         "296",
         "3.0",
         "964982967"
        ],
        [
         "17",
         "1",
         "316",
         "3.0",
         "964982310"
        ],
        [
         "18",
         "1",
         "333",
         "5.0",
         "964981179"
        ],
        [
         "19",
         "1",
         "349",
         "4.0",
         "964982563"
        ],
        [
         "20",
         "1",
         "356",
         "4.0",
         "964980962"
        ],
        [
         "21",
         "1",
         "362",
         "5.0",
         "964982588"
        ],
        [
         "22",
         "1",
         "367",
         "4.0",
         "964981710"
        ],
        [
         "23",
         "1",
         "423",
         "3.0",
         "964982363"
        ],
        [
         "24",
         "1",
         "441",
         "4.0",
         "964980868"
        ],
        [
         "25",
         "1",
         "457",
         "5.0",
         "964981909"
        ],
        [
         "26",
         "1",
         "480",
         "4.0",
         "964982346"
        ],
        [
         "27",
         "1",
         "500",
         "3.0",
         "964981208"
        ],
        [
         "28",
         "1",
         "527",
         "5.0",
         "964984002"
        ],
        [
         "29",
         "1",
         "543",
         "4.0",
         "964981179"
        ],
        [
         "30",
         "1",
         "552",
         "4.0",
         "964982653"
        ],
        [
         "31",
         "1",
         "553",
         "5.0",
         "964984153"
        ],
        [
         "32",
         "1",
         "590",
         "4.0",
         "964982546"
        ],
        [
         "33",
         "1",
         "592",
         "4.0",
         "964982271"
        ],
        [
         "34",
         "1",
         "593",
         "4.0",
         "964983793"
        ],
        [
         "35",
         "1",
         "596",
         "5.0",
         "964982838"
        ],
        [
         "36",
         "1",
         "608",
         "5.0",
         "964982931"
        ],
        [
         "37",
         "1",
         "648",
         "3.0",
         "964982563"
        ],
        [
         "38",
         "1",
         "661",
         "5.0",
         "964982838"
        ],
        [
         "39",
         "1",
         "673",
         "3.0",
         "964981775"
        ],
        [
         "40",
         "1",
         "733",
         "4.0",
         "964982400"
        ],
        [
         "41",
         "1",
         "736",
         "3.0",
         "964982653"
        ],
        [
         "42",
         "1",
         "780",
         "3.0",
         "964984086"
        ],
        [
         "43",
         "1",
         "804",
         "4.0",
         "964980499"
        ],
        [
         "44",
         "1",
         "919",
         "5.0",
         "964982475"
        ],
        [
         "45",
         "1",
         "923",
         "5.0",
         "964981529"
        ],
        [
         "46",
         "1",
         "940",
         "5.0",
         "964982176"
        ],
        [
         "47",
         "1",
         "943",
         "4.0",
         "964983614"
        ],
        [
         "48",
         "1",
         "954",
         "5.0",
         "964983219"
        ],
        [
         "49",
         "1",
         "1009",
         "3.0",
         "964981775"
        ]
       ],
       "shape": {
        "columns": 4,
        "rows": 100521
       }
      },
      "text/html": [
       "<div>\n",
       "<style scoped>\n",
       "    .dataframe tbody tr th:only-of-type {\n",
       "        vertical-align: middle;\n",
       "    }\n",
       "\n",
       "    .dataframe tbody tr th {\n",
       "        vertical-align: top;\n",
       "    }\n",
       "\n",
       "    .dataframe thead th {\n",
       "        text-align: right;\n",
       "    }\n",
       "</style>\n",
       "<table border=\"1\" class=\"dataframe\">\n",
       "  <thead>\n",
       "    <tr style=\"text-align: right;\">\n",
       "      <th></th>\n",
       "      <th>userId</th>\n",
       "      <th>movieId</th>\n",
       "      <th>rating</th>\n",
       "      <th>timestamp</th>\n",
       "    </tr>\n",
       "  </thead>\n",
       "  <tbody>\n",
       "    <tr>\n",
       "      <th>0</th>\n",
       "      <td>1</td>\n",
       "      <td>1</td>\n",
       "      <td>4.0</td>\n",
       "      <td>964982703</td>\n",
       "    </tr>\n",
       "    <tr>\n",
       "      <th>1</th>\n",
       "      <td>1</td>\n",
       "      <td>3</td>\n",
       "      <td>4.0</td>\n",
       "      <td>964981247</td>\n",
       "    </tr>\n",
       "    <tr>\n",
       "      <th>2</th>\n",
       "      <td>1</td>\n",
       "      <td>6</td>\n",
       "      <td>4.0</td>\n",
       "      <td>964982224</td>\n",
       "    </tr>\n",
       "    <tr>\n",
       "      <th>3</th>\n",
       "      <td>1</td>\n",
       "      <td>47</td>\n",
       "      <td>5.0</td>\n",
       "      <td>964983815</td>\n",
       "    </tr>\n",
       "    <tr>\n",
       "      <th>4</th>\n",
       "      <td>1</td>\n",
       "      <td>50</td>\n",
       "      <td>5.0</td>\n",
       "      <td>964982931</td>\n",
       "    </tr>\n",
       "    <tr>\n",
       "      <th>...</th>\n",
       "      <td>...</td>\n",
       "      <td>...</td>\n",
       "      <td>...</td>\n",
       "      <td>...</td>\n",
       "    </tr>\n",
       "    <tr>\n",
       "      <th>100516</th>\n",
       "      <td>610</td>\n",
       "      <td>166534</td>\n",
       "      <td>4.0</td>\n",
       "      <td>1493848402</td>\n",
       "    </tr>\n",
       "    <tr>\n",
       "      <th>100517</th>\n",
       "      <td>610</td>\n",
       "      <td>168248</td>\n",
       "      <td>5.0</td>\n",
       "      <td>1493850091</td>\n",
       "    </tr>\n",
       "    <tr>\n",
       "      <th>100518</th>\n",
       "      <td>610</td>\n",
       "      <td>168250</td>\n",
       "      <td>5.0</td>\n",
       "      <td>1494273047</td>\n",
       "    </tr>\n",
       "    <tr>\n",
       "      <th>100519</th>\n",
       "      <td>610</td>\n",
       "      <td>168252</td>\n",
       "      <td>5.0</td>\n",
       "      <td>1493846352</td>\n",
       "    </tr>\n",
       "    <tr>\n",
       "      <th>100520</th>\n",
       "      <td>610</td>\n",
       "      <td>170875</td>\n",
       "      <td>3.0</td>\n",
       "      <td>1493846415</td>\n",
       "    </tr>\n",
       "  </tbody>\n",
       "</table>\n",
       "<p>100521 rows × 4 columns</p>\n",
       "</div>"
      ],
      "text/plain": [
       "        userId  movieId  rating   timestamp\n",
       "0            1        1     4.0   964982703\n",
       "1            1        3     4.0   964981247\n",
       "2            1        6     4.0   964982224\n",
       "3            1       47     5.0   964983815\n",
       "4            1       50     5.0   964982931\n",
       "...        ...      ...     ...         ...\n",
       "100516     610   166534     4.0  1493848402\n",
       "100517     610   168248     5.0  1493850091\n",
       "100518     610   168250     5.0  1494273047\n",
       "100519     610   168252     5.0  1493846352\n",
       "100520     610   170875     3.0  1493846415\n",
       "\n",
       "[100521 rows x 4 columns]"
      ]
     },
     "execution_count": 27,
     "metadata": {},
     "output_type": "execute_result"
    }
   ],
   "source": [
    "pd.concat([train_folds[4], validation_folds[4], test_folds[4]]).sort_index()"
   ]
  },
  {
   "cell_type": "code",
   "execution_count": 28,
   "metadata": {},
   "outputs": [
    {
     "data": {
      "application/vnd.microsoft.datawrangler.viewer.v0+json": {
       "columns": [
        {
         "name": "index",
         "rawType": "int64",
         "type": "integer"
        }
       ],
       "conversionMethod": "pd.DataFrame",
       "ref": "98b79550-2f79-4f66-9ad9-e64fdb0c87c2",
       "rows": [],
       "shape": {
        "columns": 0,
        "rows": 0
       }
      },
      "text/html": [
       "<div>\n",
       "<style scoped>\n",
       "    .dataframe tbody tr th:only-of-type {\n",
       "        vertical-align: middle;\n",
       "    }\n",
       "\n",
       "    .dataframe tbody tr th {\n",
       "        vertical-align: top;\n",
       "    }\n",
       "\n",
       "    .dataframe thead tr th {\n",
       "        text-align: left;\n",
       "    }\n",
       "</style>\n",
       "<table border=\"1\" class=\"dataframe\">\n",
       "  <thead>\n",
       "  </thead>\n",
       "  <tbody>\n",
       "  </tbody>\n",
       "</table>\n",
       "</div>"
      ],
      "text/plain": [
       "Empty DataFrame\n",
       "Columns: []\n",
       "Index: []"
      ]
     },
     "execution_count": 28,
     "metadata": {},
     "output_type": "execute_result"
    }
   ],
   "source": [
    "diff = r_processed.sort_index().compare(pd.concat([train_folds[4], validation_folds[4], test_folds[4]]).sort_index())\n",
    "diff.head()"
   ]
  },
  {
   "cell_type": "code",
   "execution_count": 29,
   "metadata": {},
   "outputs": [],
   "source": [
    "def split_percentage(train: pd.DataFrame, val: pd.DataFrame, test: pd.DataFrame, full_df: pd.DataFrame) -> None:\n",
    "    trn_s = train.shape[0]\n",
    "    val_s = val.shape[0]\n",
    "    tst_s = test.shape[0]\n",
    "    total = trn_s + val_s + tst_s\n",
    "    full = full_df.shape[0]\n",
    "\n",
    "    print('''--- Dataset Raw Stats ---''')\n",
    "    print(f'''Train size:\\t\\t {trn_s}''')\n",
    "    print(f'''Validation size:\\t {val_s}''')\n",
    "    print(f'''Test size:\\t\\t {tst_s}''')\n",
    "    print(f'''Total fold size:\\t {total}''')\n",
    "    print(f'''Full Dataset size:\\t {full}''')\n",
    "    print()\n",
    "\n",
    "    print('''--- Dataset Percentage Stats ---''')\n",
    "    print(f'''Training percentage:\\t {trn_s/total}''')\n",
    "    print(f'''Validation percentage:\\t {val_s/total}''')\n",
    "    print(f'''Test percentage:\\t {tst_s/total}''')\n",
    "    print(f'''Dataset used:\\t\\t {total/full}''')"
   ]
  },
  {
   "cell_type": "code",
   "execution_count": 30,
   "metadata": {},
   "outputs": [
    {
     "name": "stdout",
     "output_type": "stream",
     "text": [
      "--- Dataset Raw Stats ---\n",
      "Train size:\t\t 18076\n",
      "Validation size:\t 8078\n",
      "Test size:\t\t 8411\n",
      "Total fold size:\t 34565\n",
      "Full Dataset size:\t 100521\n",
      "\n",
      "--- Dataset Percentage Stats ---\n",
      "Training percentage:\t 0.5229567481556487\n",
      "Validation percentage:\t 0.23370461449443078\n",
      "Test percentage:\t 0.24333863734992045\n",
      "Dataset used:\t\t 0.3438584972294346\n"
     ]
    }
   ],
   "source": [
    "split_percentage(train_folds[0], validation_folds[0], test_folds[0], r_processed)"
   ]
  },
  {
   "cell_type": "code",
   "execution_count": 31,
   "metadata": {},
   "outputs": [
    {
     "name": "stdout",
     "output_type": "stream",
     "text": [
      "--- Dataset Raw Stats ---\n",
      "Train size:\t\t 34565\n",
      "Validation size:\t 8078\n",
      "Test size:\t\t 8411\n",
      "Total fold size:\t 51054\n",
      "Full Dataset size:\t 100521\n",
      "\n",
      "--- Dataset Percentage Stats ---\n",
      "Training percentage:\t 0.6770282446037529\n",
      "Validation percentage:\t 0.15822462490696126\n",
      "Test percentage:\t 0.16474713048928585\n",
      "Dataset used:\t\t 0.507893872922076\n"
     ]
    }
   ],
   "source": [
    "split_percentage(train_folds[1], validation_folds[1], test_folds[1], r_processed)"
   ]
  },
  {
   "cell_type": "code",
   "execution_count": 32,
   "metadata": {},
   "outputs": [
    {
     "name": "stdout",
     "output_type": "stream",
     "text": [
      "--- Dataset Raw Stats ---\n",
      "Train size:\t\t 51054\n",
      "Validation size:\t 8078\n",
      "Test size:\t\t 8411\n",
      "Total fold size:\t 67543\n",
      "Full Dataset size:\t 100521\n",
      "\n",
      "--- Dataset Percentage Stats ---\n",
      "Training percentage:\t 0.7558740357994167\n",
      "Validation percentage:\t 0.1195978857912737\n",
      "Test percentage:\t 0.12452807840930963\n",
      "Dataset used:\t\t 0.6719292486147174\n"
     ]
    }
   ],
   "source": [
    "split_percentage(train_folds[2], validation_folds[2], test_folds[2], r_processed)"
   ]
  },
  {
   "cell_type": "code",
   "execution_count": 33,
   "metadata": {},
   "outputs": [
    {
     "name": "stdout",
     "output_type": "stream",
     "text": [
      "--- Dataset Raw Stats ---\n",
      "Train size:\t\t 67543\n",
      "Validation size:\t 8078\n",
      "Test size:\t\t 8411\n",
      "Total fold size:\t 84032\n",
      "Full Dataset size:\t 100521\n",
      "\n",
      "--- Dataset Percentage Stats ---\n",
      "Training percentage:\t 0.8037771325209444\n",
      "Validation percentage:\t 0.09613004569687739\n",
      "Test percentage:\t 0.10009282178217822\n",
      "Dataset used:\t\t 0.8359646243073586\n"
     ]
    }
   ],
   "source": [
    "split_percentage(train_folds[3], validation_folds[3], test_folds[3], r_processed)"
   ]
  },
  {
   "cell_type": "code",
   "execution_count": 34,
   "metadata": {},
   "outputs": [
    {
     "name": "stdout",
     "output_type": "stream",
     "text": [
      "--- Dataset Raw Stats ---\n",
      "Train size:\t\t 84032\n",
      "Validation size:\t 8078\n",
      "Test size:\t\t 8411\n",
      "Total fold size:\t 100521\n",
      "Full Dataset size:\t 100521\n",
      "\n",
      "--- Dataset Percentage Stats ---\n",
      "Training percentage:\t 0.8359646243073586\n",
      "Validation percentage:\t 0.08036131753563931\n",
      "Test percentage:\t 0.08367405815700202\n",
      "Dataset used:\t\t 1.0\n"
     ]
    }
   ],
   "source": [
    "split_percentage(train_folds[4], validation_folds[4], test_folds[4], r_processed)"
   ]
  },
  {
   "cell_type": "markdown",
   "metadata": {},
   "source": [
    "### Saving each fold"
   ]
  },
  {
   "cell_type": "code",
   "execution_count": 35,
   "metadata": {},
   "outputs": [],
   "source": [
    "import os\n",
    "\n",
    "if not(os.path.exists(\"../datasets/ml-latest-small/folds/\")):\n",
    "    os.mkdir(\"../datasets/ml-latest-small/folds/\")\n",
    "    \n",
    "for f in range(0, n_splits):\n",
    "    fold_name = \"../datasets/ml-latest-small/folds/\" + str(f)\n",
    "    if not(os.path.exists(fold_name)):\n",
    "        os.mkdir(fold_name)\n",
    "\n",
    "    train_folds[f].to_csv(fold_name + \"/train.csv\", header=True, index=False)\n",
    "    validation_folds[f].to_csv(fold_name + \"/validation.csv\", header=True, index=False)\n",
    "    test_folds[f].to_csv(fold_name + \"/test.csv\", header=True, index=False)"
   ]
  },
  {
   "cell_type": "markdown",
   "metadata": {},
   "source": [
    "### After saving validation\n",
    "Lets validate if everything went ok with saving the folds"
   ]
  },
  {
   "cell_type": "code",
   "execution_count": 36,
   "metadata": {},
   "outputs": [],
   "source": [
    "def get_fold(i: int) -> tuple[pd.DataFrame, pd.DataFrame, pd.DataFrame] :\n",
    "    fold_name = \"../datasets/ml-latest-small/folds/\" + str(i)\n",
    "    train_set = pd.read_csv(fold_name + \"/train.csv\")\n",
    "    validation_set = pd.read_csv(fold_name + \"/validation.csv\")\n",
    "    test_set = pd.read_csv(fold_name + \"/test.csv\")\n",
    "\n",
    "    return train_set, validation_set, test_set"
   ]
  },
  {
   "cell_type": "code",
   "execution_count": 37,
   "metadata": {},
   "outputs": [],
   "source": [
    "# lets check the folds\n",
    "train, validation, test = get_fold(0)"
   ]
  },
  {
   "cell_type": "code",
   "execution_count": 38,
   "metadata": {},
   "outputs": [
    {
     "data": {
      "application/vnd.microsoft.datawrangler.viewer.v0+json": {
       "columns": [
        {
         "name": "index",
         "rawType": "int64",
         "type": "integer"
        },
        {
         "name": "userId",
         "rawType": "int64",
         "type": "integer"
        },
        {
         "name": "movieId",
         "rawType": "int64",
         "type": "integer"
        },
        {
         "name": "rating",
         "rawType": "float64",
         "type": "float"
        },
        {
         "name": "timestamp",
         "rawType": "int64",
         "type": "integer"
        }
       ],
       "conversionMethod": "pd.DataFrame",
       "ref": "44ea5fde-e513-48bc-97ba-38c8223682b6",
       "rows": [
        [
         "0",
         "1",
         "1210",
         "5.0",
         "964980499"
        ],
        [
         "1",
         "1",
         "804",
         "4.0",
         "964980499"
        ],
        [
         "2",
         "1",
         "2018",
         "5.0",
         "964980523"
        ],
        [
         "3",
         "1",
         "2628",
         "4.0",
         "964980523"
        ],
        [
         "4",
         "1",
         "2826",
         "4.0",
         "964980523"
        ]
       ],
       "shape": {
        "columns": 4,
        "rows": 5
       }
      },
      "text/html": [
       "<div>\n",
       "<style scoped>\n",
       "    .dataframe tbody tr th:only-of-type {\n",
       "        vertical-align: middle;\n",
       "    }\n",
       "\n",
       "    .dataframe tbody tr th {\n",
       "        vertical-align: top;\n",
       "    }\n",
       "\n",
       "    .dataframe thead th {\n",
       "        text-align: right;\n",
       "    }\n",
       "</style>\n",
       "<table border=\"1\" class=\"dataframe\">\n",
       "  <thead>\n",
       "    <tr style=\"text-align: right;\">\n",
       "      <th></th>\n",
       "      <th>userId</th>\n",
       "      <th>movieId</th>\n",
       "      <th>rating</th>\n",
       "      <th>timestamp</th>\n",
       "    </tr>\n",
       "  </thead>\n",
       "  <tbody>\n",
       "    <tr>\n",
       "      <th>0</th>\n",
       "      <td>1</td>\n",
       "      <td>1210</td>\n",
       "      <td>5.0</td>\n",
       "      <td>964980499</td>\n",
       "    </tr>\n",
       "    <tr>\n",
       "      <th>1</th>\n",
       "      <td>1</td>\n",
       "      <td>804</td>\n",
       "      <td>4.0</td>\n",
       "      <td>964980499</td>\n",
       "    </tr>\n",
       "    <tr>\n",
       "      <th>2</th>\n",
       "      <td>1</td>\n",
       "      <td>2018</td>\n",
       "      <td>5.0</td>\n",
       "      <td>964980523</td>\n",
       "    </tr>\n",
       "    <tr>\n",
       "      <th>3</th>\n",
       "      <td>1</td>\n",
       "      <td>2628</td>\n",
       "      <td>4.0</td>\n",
       "      <td>964980523</td>\n",
       "    </tr>\n",
       "    <tr>\n",
       "      <th>4</th>\n",
       "      <td>1</td>\n",
       "      <td>2826</td>\n",
       "      <td>4.0</td>\n",
       "      <td>964980523</td>\n",
       "    </tr>\n",
       "  </tbody>\n",
       "</table>\n",
       "</div>"
      ],
      "text/plain": [
       "   userId  movieId  rating  timestamp\n",
       "0       1     1210     5.0  964980499\n",
       "1       1      804     4.0  964980499\n",
       "2       1     2018     5.0  964980523\n",
       "3       1     2628     4.0  964980523\n",
       "4       1     2826     4.0  964980523"
      ]
     },
     "execution_count": 38,
     "metadata": {},
     "output_type": "execute_result"
    }
   ],
   "source": [
    "train.head()"
   ]
  },
  {
   "cell_type": "code",
   "execution_count": 39,
   "metadata": {},
   "outputs": [
    {
     "data": {
      "application/vnd.microsoft.datawrangler.viewer.v0+json": {
       "columns": [
        {
         "name": "index",
         "rawType": "int64",
         "type": "integer"
        },
        {
         "name": "userId",
         "rawType": "int64",
         "type": "integer"
        },
        {
         "name": "movieId",
         "rawType": "int64",
         "type": "integer"
        },
        {
         "name": "rating",
         "rawType": "float64",
         "type": "float"
        },
        {
         "name": "timestamp",
         "rawType": "int64",
         "type": "integer"
        }
       ],
       "conversionMethod": "pd.DataFrame",
       "ref": "c28a9399-92c9-4169-963e-739581132458",
       "rows": [
        [
         "0",
         "1",
         "1256",
         "5.0",
         "964981442"
        ],
        [
         "1",
         "1",
         "1927",
         "5.0",
         "964981497"
        ],
        [
         "2",
         "1",
         "923",
         "5.0",
         "964981529"
        ],
        [
         "3",
         "1",
         "3671",
         "5.0",
         "964981589"
        ],
        [
         "4",
         "1",
         "2872",
         "5.0",
         "964981680"
        ]
       ],
       "shape": {
        "columns": 4,
        "rows": 5
       }
      },
      "text/html": [
       "<div>\n",
       "<style scoped>\n",
       "    .dataframe tbody tr th:only-of-type {\n",
       "        vertical-align: middle;\n",
       "    }\n",
       "\n",
       "    .dataframe tbody tr th {\n",
       "        vertical-align: top;\n",
       "    }\n",
       "\n",
       "    .dataframe thead th {\n",
       "        text-align: right;\n",
       "    }\n",
       "</style>\n",
       "<table border=\"1\" class=\"dataframe\">\n",
       "  <thead>\n",
       "    <tr style=\"text-align: right;\">\n",
       "      <th></th>\n",
       "      <th>userId</th>\n",
       "      <th>movieId</th>\n",
       "      <th>rating</th>\n",
       "      <th>timestamp</th>\n",
       "    </tr>\n",
       "  </thead>\n",
       "  <tbody>\n",
       "    <tr>\n",
       "      <th>0</th>\n",
       "      <td>1</td>\n",
       "      <td>1256</td>\n",
       "      <td>5.0</td>\n",
       "      <td>964981442</td>\n",
       "    </tr>\n",
       "    <tr>\n",
       "      <th>1</th>\n",
       "      <td>1</td>\n",
       "      <td>1927</td>\n",
       "      <td>5.0</td>\n",
       "      <td>964981497</td>\n",
       "    </tr>\n",
       "    <tr>\n",
       "      <th>2</th>\n",
       "      <td>1</td>\n",
       "      <td>923</td>\n",
       "      <td>5.0</td>\n",
       "      <td>964981529</td>\n",
       "    </tr>\n",
       "    <tr>\n",
       "      <th>3</th>\n",
       "      <td>1</td>\n",
       "      <td>3671</td>\n",
       "      <td>5.0</td>\n",
       "      <td>964981589</td>\n",
       "    </tr>\n",
       "    <tr>\n",
       "      <th>4</th>\n",
       "      <td>1</td>\n",
       "      <td>2872</td>\n",
       "      <td>5.0</td>\n",
       "      <td>964981680</td>\n",
       "    </tr>\n",
       "  </tbody>\n",
       "</table>\n",
       "</div>"
      ],
      "text/plain": [
       "   userId  movieId  rating  timestamp\n",
       "0       1     1256     5.0  964981442\n",
       "1       1     1927     5.0  964981497\n",
       "2       1      923     5.0  964981529\n",
       "3       1     3671     5.0  964981589\n",
       "4       1     2872     5.0  964981680"
      ]
     },
     "execution_count": 39,
     "metadata": {},
     "output_type": "execute_result"
    }
   ],
   "source": [
    "validation.head()"
   ]
  },
  {
   "cell_type": "code",
   "execution_count": 40,
   "metadata": {},
   "outputs": [
    {
     "data": {
      "application/vnd.microsoft.datawrangler.viewer.v0+json": {
       "columns": [
        {
         "name": "index",
         "rawType": "int64",
         "type": "integer"
        },
        {
         "name": "userId",
         "rawType": "int64",
         "type": "integer"
        },
        {
         "name": "movieId",
         "rawType": "int64",
         "type": "integer"
        },
        {
         "name": "rating",
         "rawType": "float64",
         "type": "float"
        },
        {
         "name": "timestamp",
         "rawType": "int64",
         "type": "integer"
        }
       ],
       "conversionMethod": "pd.DataFrame",
       "ref": "4418f2e7-4f84-4ec9-b2c0-ef00bd7f4030",
       "rows": [
        [
         "0",
         "1",
         "2054",
         "4.0",
         "964981747"
        ],
        [
         "1",
         "1",
         "1009",
         "3.0",
         "964981775"
        ],
        [
         "2",
         "1",
         "673",
         "3.0",
         "964981775"
        ],
        [
         "3",
         "1",
         "3489",
         "4.0",
         "964981775"
        ],
        [
         "4",
         "1",
         "2253",
         "2.0",
         "964981775"
        ]
       ],
       "shape": {
        "columns": 4,
        "rows": 5
       }
      },
      "text/html": [
       "<div>\n",
       "<style scoped>\n",
       "    .dataframe tbody tr th:only-of-type {\n",
       "        vertical-align: middle;\n",
       "    }\n",
       "\n",
       "    .dataframe tbody tr th {\n",
       "        vertical-align: top;\n",
       "    }\n",
       "\n",
       "    .dataframe thead th {\n",
       "        text-align: right;\n",
       "    }\n",
       "</style>\n",
       "<table border=\"1\" class=\"dataframe\">\n",
       "  <thead>\n",
       "    <tr style=\"text-align: right;\">\n",
       "      <th></th>\n",
       "      <th>userId</th>\n",
       "      <th>movieId</th>\n",
       "      <th>rating</th>\n",
       "      <th>timestamp</th>\n",
       "    </tr>\n",
       "  </thead>\n",
       "  <tbody>\n",
       "    <tr>\n",
       "      <th>0</th>\n",
       "      <td>1</td>\n",
       "      <td>2054</td>\n",
       "      <td>4.0</td>\n",
       "      <td>964981747</td>\n",
       "    </tr>\n",
       "    <tr>\n",
       "      <th>1</th>\n",
       "      <td>1</td>\n",
       "      <td>1009</td>\n",
       "      <td>3.0</td>\n",
       "      <td>964981775</td>\n",
       "    </tr>\n",
       "    <tr>\n",
       "      <th>2</th>\n",
       "      <td>1</td>\n",
       "      <td>673</td>\n",
       "      <td>3.0</td>\n",
       "      <td>964981775</td>\n",
       "    </tr>\n",
       "    <tr>\n",
       "      <th>3</th>\n",
       "      <td>1</td>\n",
       "      <td>3489</td>\n",
       "      <td>4.0</td>\n",
       "      <td>964981775</td>\n",
       "    </tr>\n",
       "    <tr>\n",
       "      <th>4</th>\n",
       "      <td>1</td>\n",
       "      <td>2253</td>\n",
       "      <td>2.0</td>\n",
       "      <td>964981775</td>\n",
       "    </tr>\n",
       "  </tbody>\n",
       "</table>\n",
       "</div>"
      ],
      "text/plain": [
       "   userId  movieId  rating  timestamp\n",
       "0       1     2054     4.0  964981747\n",
       "1       1     1009     3.0  964981775\n",
       "2       1      673     3.0  964981775\n",
       "3       1     3489     4.0  964981775\n",
       "4       1     2253     2.0  964981775"
      ]
     },
     "execution_count": 40,
     "metadata": {},
     "output_type": "execute_result"
    }
   ],
   "source": [
    "test.head()"
   ]
  },
  {
   "cell_type": "code",
   "execution_count": 41,
   "metadata": {},
   "outputs": [
    {
     "data": {
      "application/vnd.microsoft.datawrangler.viewer.v0+json": {
       "columns": [
        {
         "name": "index",
         "rawType": "int64",
         "type": "integer"
        },
        {
         "name": "userId",
         "rawType": "int64",
         "type": "integer"
        },
        {
         "name": "movieId",
         "rawType": "int64",
         "type": "integer"
        },
        {
         "name": "rating",
         "rawType": "float64",
         "type": "float"
        },
        {
         "name": "timestamp",
         "rawType": "int64",
         "type": "integer"
        }
       ],
       "conversionMethod": "pd.DataFrame",
       "ref": "b5079ff7-0f16-4196-a282-57a0ac9923c0",
       "rows": [
        [
         "0",
         "1",
         "1210",
         "5.0",
         "964980499"
        ],
        [
         "1",
         "1",
         "804",
         "4.0",
         "964980499"
        ],
        [
         "2",
         "1",
         "2018",
         "5.0",
         "964980523"
        ],
        [
         "3",
         "1",
         "2628",
         "4.0",
         "964980523"
        ],
        [
         "4",
         "1",
         "2826",
         "4.0",
         "964980523"
        ],
        [
         "5",
         "1",
         "3578",
         "5.0",
         "964980668"
        ],
        [
         "6",
         "1",
         "3617",
         "4.0",
         "964980683"
        ],
        [
         "7",
         "1",
         "3744",
         "4.0",
         "964980694"
        ],
        [
         "8",
         "1",
         "2858",
         "5.0",
         "964980868"
        ],
        [
         "9",
         "1",
         "101",
         "5.0",
         "964980868"
        ],
        [
         "10",
         "1",
         "441",
         "4.0",
         "964980868"
        ],
        [
         "11",
         "1",
         "1473",
         "4.0",
         "964980875"
        ],
        [
         "12",
         "1",
         "2997",
         "4.0",
         "964980896"
        ],
        [
         "13",
         "1",
         "235",
         "4.0",
         "964980908"
        ],
        [
         "14",
         "1",
         "1060",
         "4.0",
         "964980924"
        ],
        [
         "15",
         "1",
         "356",
         "4.0",
         "964980962"
        ],
        [
         "16",
         "1",
         "223",
         "3.0",
         "964980985"
        ],
        [
         "17",
         "1",
         "1500",
         "4.0",
         "964980985"
        ],
        [
         "18",
         "1",
         "2700",
         "5.0",
         "964980985"
        ],
        [
         "19",
         "1",
         "2395",
         "5.0",
         "964981093"
        ],
        [
         "20",
         "1",
         "3243",
         "3.0",
         "964981093"
        ],
        [
         "21",
         "1",
         "3253",
         "5.0",
         "964981107"
        ],
        [
         "22",
         "1",
         "1517",
         "5.0",
         "964981107"
        ],
        [
         "23",
         "1",
         "1580",
         "3.0",
         "964981125"
        ],
        [
         "24",
         "1",
         "1732",
         "5.0",
         "964981125"
        ],
        [
         "25",
         "1",
         "2596",
         "5.0",
         "964981144"
        ],
        [
         "26",
         "1",
         "3450",
         "5.0",
         "964981144"
        ],
        [
         "27",
         "1",
         "1042",
         "4.0",
         "964981179"
        ],
        [
         "28",
         "1",
         "543",
         "4.0",
         "964981179"
        ],
        [
         "29",
         "1",
         "231",
         "5.0",
         "964981179"
        ],
        [
         "30",
         "1",
         "333",
         "5.0",
         "964981179"
        ],
        [
         "31",
         "1",
         "500",
         "3.0",
         "964981208"
        ],
        [
         "32",
         "1",
         "216",
         "5.0",
         "964981208"
        ],
        [
         "33",
         "1",
         "3052",
         "5.0",
         "964981208"
        ],
        [
         "34",
         "1",
         "3809",
         "4.0",
         "964981220"
        ],
        [
         "35",
         "1",
         "1777",
         "4.0",
         "964981230"
        ],
        [
         "36",
         "1",
         "3",
         "4.0",
         "964981247"
        ],
        [
         "37",
         "1",
         "2542",
         "5.0",
         "964981265"
        ],
        [
         "38",
         "1",
         "2502",
         "5.0",
         "964981278"
        ],
        [
         "39",
         "1",
         "1136",
         "5.0",
         "964981327"
        ],
        [
         "40",
         "1",
         "1080",
         "5.0",
         "964981327"
        ],
        [
         "41",
         "1",
         "1793",
         "4.0",
         "964981404"
        ],
        [
         "42",
         "2",
         "318",
         "3.0",
         "1445714835"
        ],
        [
         "43",
         "2",
         "79132",
         "4.0",
         "1445714841"
        ],
        [
         "44",
         "2",
         "131724",
         "5.0",
         "1445714851"
        ],
        [
         "45",
         "2",
         "115713",
         "3.5",
         "1445714854"
        ],
        [
         "46",
         "2",
         "99114",
         "3.5",
         "1445714874"
        ],
        [
         "47",
         "2",
         "112552",
         "4.0",
         "1445714882"
        ],
        [
         "48",
         "2",
         "3578",
         "4.0",
         "1445714885"
        ],
        [
         "49",
         "2",
         "91529",
         "3.5",
         "1445714891"
        ]
       ],
       "shape": {
        "columns": 4,
        "rows": 34565
       }
      },
      "text/html": [
       "<div>\n",
       "<style scoped>\n",
       "    .dataframe tbody tr th:only-of-type {\n",
       "        vertical-align: middle;\n",
       "    }\n",
       "\n",
       "    .dataframe tbody tr th {\n",
       "        vertical-align: top;\n",
       "    }\n",
       "\n",
       "    .dataframe thead th {\n",
       "        text-align: right;\n",
       "    }\n",
       "</style>\n",
       "<table border=\"1\" class=\"dataframe\">\n",
       "  <thead>\n",
       "    <tr style=\"text-align: right;\">\n",
       "      <th></th>\n",
       "      <th>userId</th>\n",
       "      <th>movieId</th>\n",
       "      <th>rating</th>\n",
       "      <th>timestamp</th>\n",
       "    </tr>\n",
       "  </thead>\n",
       "  <tbody>\n",
       "    <tr>\n",
       "      <th>0</th>\n",
       "      <td>1</td>\n",
       "      <td>1210</td>\n",
       "      <td>5.0</td>\n",
       "      <td>964980499</td>\n",
       "    </tr>\n",
       "    <tr>\n",
       "      <th>1</th>\n",
       "      <td>1</td>\n",
       "      <td>804</td>\n",
       "      <td>4.0</td>\n",
       "      <td>964980499</td>\n",
       "    </tr>\n",
       "    <tr>\n",
       "      <th>2</th>\n",
       "      <td>1</td>\n",
       "      <td>2018</td>\n",
       "      <td>5.0</td>\n",
       "      <td>964980523</td>\n",
       "    </tr>\n",
       "    <tr>\n",
       "      <th>3</th>\n",
       "      <td>1</td>\n",
       "      <td>2628</td>\n",
       "      <td>4.0</td>\n",
       "      <td>964980523</td>\n",
       "    </tr>\n",
       "    <tr>\n",
       "      <th>4</th>\n",
       "      <td>1</td>\n",
       "      <td>2826</td>\n",
       "      <td>4.0</td>\n",
       "      <td>964980523</td>\n",
       "    </tr>\n",
       "    <tr>\n",
       "      <th>...</th>\n",
       "      <td>...</td>\n",
       "      <td>...</td>\n",
       "      <td>...</td>\n",
       "      <td>...</td>\n",
       "    </tr>\n",
       "    <tr>\n",
       "      <th>34560</th>\n",
       "      <td>610</td>\n",
       "      <td>60069</td>\n",
       "      <td>4.5</td>\n",
       "      <td>1493844866</td>\n",
       "    </tr>\n",
       "    <tr>\n",
       "      <th>34561</th>\n",
       "      <td>610</td>\n",
       "      <td>59315</td>\n",
       "      <td>4.0</td>\n",
       "      <td>1493844870</td>\n",
       "    </tr>\n",
       "    <tr>\n",
       "      <th>34562</th>\n",
       "      <td>610</td>\n",
       "      <td>6365</td>\n",
       "      <td>4.0</td>\n",
       "      <td>1493844872</td>\n",
       "    </tr>\n",
       "    <tr>\n",
       "      <th>34563</th>\n",
       "      <td>610</td>\n",
       "      <td>3897</td>\n",
       "      <td>5.0</td>\n",
       "      <td>1493844879</td>\n",
       "    </tr>\n",
       "    <tr>\n",
       "      <th>34564</th>\n",
       "      <td>610</td>\n",
       "      <td>68954</td>\n",
       "      <td>3.5</td>\n",
       "      <td>1493844881</td>\n",
       "    </tr>\n",
       "  </tbody>\n",
       "</table>\n",
       "<p>34565 rows × 4 columns</p>\n",
       "</div>"
      ],
      "text/plain": [
       "       userId  movieId  rating   timestamp\n",
       "0           1     1210     5.0   964980499\n",
       "1           1      804     4.0   964980499\n",
       "2           1     2018     5.0   964980523\n",
       "3           1     2628     4.0   964980523\n",
       "4           1     2826     4.0   964980523\n",
       "...       ...      ...     ...         ...\n",
       "34560     610    60069     4.5  1493844866\n",
       "34561     610    59315     4.0  1493844870\n",
       "34562     610     6365     4.0  1493844872\n",
       "34563     610     3897     5.0  1493844879\n",
       "34564     610    68954     3.5  1493844881\n",
       "\n",
       "[34565 rows x 4 columns]"
      ]
     },
     "execution_count": 41,
     "metadata": {},
     "output_type": "execute_result"
    }
   ],
   "source": [
    "pd.concat([train, validation, test], ignore_index=True)"
   ]
  },
  {
   "cell_type": "code",
   "execution_count": 42,
   "metadata": {},
   "outputs": [
    {
     "data": {
      "application/vnd.microsoft.datawrangler.viewer.v0+json": {
       "columns": [
        {
         "name": "index",
         "rawType": "int64",
         "type": "integer"
        }
       ],
       "conversionMethod": "pd.DataFrame",
       "ref": "23a5df1d-3a5a-4708-91d3-f1c83b206e42",
       "rows": [],
       "shape": {
        "columns": 0,
        "rows": 0
       }
      },
      "text/html": [
       "<div>\n",
       "<style scoped>\n",
       "    .dataframe tbody tr th:only-of-type {\n",
       "        vertical-align: middle;\n",
       "    }\n",
       "\n",
       "    .dataframe tbody tr th {\n",
       "        vertical-align: top;\n",
       "    }\n",
       "\n",
       "    .dataframe thead tr th {\n",
       "        text-align: left;\n",
       "    }\n",
       "</style>\n",
       "<table border=\"1\" class=\"dataframe\">\n",
       "  <thead>\n",
       "  </thead>\n",
       "  <tbody>\n",
       "  </tbody>\n",
       "</table>\n",
       "</div>"
      ],
      "text/plain": [
       "Empty DataFrame\n",
       "Columns: []\n",
       "Index: []"
      ]
     },
     "execution_count": 42,
     "metadata": {},
     "output_type": "execute_result"
    }
   ],
   "source": [
    "pd.concat([train, validation, test], ignore_index=True)\\\n",
    "    .compare(pd.concat([train, validation, test], ignore_index=True).drop_duplicates())"
   ]
  },
  {
   "cell_type": "code",
   "execution_count": 43,
   "metadata": {},
   "outputs": [],
   "source": [
    "train, validation, test = get_fold(4)"
   ]
  },
  {
   "cell_type": "code",
   "execution_count": 44,
   "metadata": {},
   "outputs": [
    {
     "data": {
      "application/vnd.microsoft.datawrangler.viewer.v0+json": {
       "columns": [
        {
         "name": "index",
         "rawType": "int64",
         "type": "integer"
        }
       ],
       "conversionMethod": "pd.DataFrame",
       "ref": "2112f5c3-680a-46bf-bdff-f43348281256",
       "rows": [],
       "shape": {
        "columns": 0,
        "rows": 0
       }
      },
      "text/html": [
       "<div>\n",
       "<style scoped>\n",
       "    .dataframe tbody tr th:only-of-type {\n",
       "        vertical-align: middle;\n",
       "    }\n",
       "\n",
       "    .dataframe tbody tr th {\n",
       "        vertical-align: top;\n",
       "    }\n",
       "\n",
       "    .dataframe thead tr th {\n",
       "        text-align: left;\n",
       "    }\n",
       "</style>\n",
       "<table border=\"1\" class=\"dataframe\">\n",
       "  <thead>\n",
       "  </thead>\n",
       "  <tbody>\n",
       "  </tbody>\n",
       "</table>\n",
       "</div>"
      ],
      "text/plain": [
       "Empty DataFrame\n",
       "Columns: []\n",
       "Index: []"
      ]
     },
     "execution_count": 44,
     "metadata": {},
     "output_type": "execute_result"
    }
   ],
   "source": [
    "pd.concat([train, validation, test], ignore_index=True).\\\n",
    "    compare(pd.concat([train, validation, test], ignore_index=True).drop_duplicates())"
   ]
  },
  {
   "cell_type": "code",
   "execution_count": 45,
   "metadata": {},
   "outputs": [
    {
     "data": {
      "application/vnd.microsoft.datawrangler.viewer.v0+json": {
       "columns": [
        {
         "name": "index",
         "rawType": "int64",
         "type": "integer"
        },
        {
         "name": "userId",
         "rawType": "int64",
         "type": "integer"
        },
        {
         "name": "movieId",
         "rawType": "int64",
         "type": "integer"
        },
        {
         "name": "rating",
         "rawType": "float64",
         "type": "float"
        },
        {
         "name": "timestamp",
         "rawType": "int64",
         "type": "integer"
        }
       ],
       "conversionMethod": "pd.DataFrame",
       "ref": "d7bd2e18-a35b-4f74-b99f-7ebbba1668b8",
       "rows": [
        [
         "0",
         "1",
         "1",
         "4.0",
         "964982703"
        ],
        [
         "1",
         "1",
         "3",
         "4.0",
         "964981247"
        ],
        [
         "2",
         "1",
         "6",
         "4.0",
         "964982224"
        ],
        [
         "3",
         "1",
         "47",
         "5.0",
         "964983815"
        ],
        [
         "4",
         "1",
         "50",
         "5.0",
         "964982931"
        ],
        [
         "5",
         "1",
         "70",
         "3.0",
         "964982400"
        ],
        [
         "6",
         "1",
         "101",
         "5.0",
         "964980868"
        ],
        [
         "7",
         "1",
         "110",
         "4.0",
         "964982176"
        ],
        [
         "8",
         "1",
         "151",
         "5.0",
         "964984041"
        ],
        [
         "9",
         "1",
         "157",
         "5.0",
         "964984100"
        ],
        [
         "10",
         "1",
         "163",
         "5.0",
         "964983650"
        ],
        [
         "11",
         "1",
         "216",
         "5.0",
         "964981208"
        ],
        [
         "12",
         "1",
         "223",
         "3.0",
         "964980985"
        ],
        [
         "13",
         "1",
         "231",
         "5.0",
         "964981179"
        ],
        [
         "14",
         "1",
         "235",
         "4.0",
         "964980908"
        ],
        [
         "15",
         "1",
         "260",
         "5.0",
         "964981680"
        ],
        [
         "16",
         "1",
         "296",
         "3.0",
         "964982967"
        ],
        [
         "17",
         "1",
         "316",
         "3.0",
         "964982310"
        ],
        [
         "18",
         "1",
         "333",
         "5.0",
         "964981179"
        ],
        [
         "19",
         "1",
         "349",
         "4.0",
         "964982563"
        ],
        [
         "20",
         "1",
         "356",
         "4.0",
         "964980962"
        ],
        [
         "21",
         "1",
         "362",
         "5.0",
         "964982588"
        ],
        [
         "22",
         "1",
         "367",
         "4.0",
         "964981710"
        ],
        [
         "23",
         "1",
         "423",
         "3.0",
         "964982363"
        ],
        [
         "24",
         "1",
         "441",
         "4.0",
         "964980868"
        ],
        [
         "25",
         "1",
         "457",
         "5.0",
         "964981909"
        ],
        [
         "26",
         "1",
         "480",
         "4.0",
         "964982346"
        ],
        [
         "27",
         "1",
         "500",
         "3.0",
         "964981208"
        ],
        [
         "28",
         "1",
         "527",
         "5.0",
         "964984002"
        ],
        [
         "29",
         "1",
         "543",
         "4.0",
         "964981179"
        ],
        [
         "30",
         "1",
         "552",
         "4.0",
         "964982653"
        ],
        [
         "31",
         "1",
         "553",
         "5.0",
         "964984153"
        ],
        [
         "32",
         "1",
         "590",
         "4.0",
         "964982546"
        ],
        [
         "33",
         "1",
         "592",
         "4.0",
         "964982271"
        ],
        [
         "34",
         "1",
         "593",
         "4.0",
         "964983793"
        ],
        [
         "35",
         "1",
         "596",
         "5.0",
         "964982838"
        ],
        [
         "36",
         "1",
         "608",
         "5.0",
         "964982931"
        ],
        [
         "37",
         "1",
         "648",
         "3.0",
         "964982563"
        ],
        [
         "38",
         "1",
         "661",
         "5.0",
         "964982838"
        ],
        [
         "39",
         "1",
         "673",
         "3.0",
         "964981775"
        ],
        [
         "40",
         "1",
         "733",
         "4.0",
         "964982400"
        ],
        [
         "41",
         "1",
         "736",
         "3.0",
         "964982653"
        ],
        [
         "42",
         "1",
         "780",
         "3.0",
         "964984086"
        ],
        [
         "43",
         "1",
         "804",
         "4.0",
         "964980499"
        ],
        [
         "44",
         "1",
         "919",
         "5.0",
         "964982475"
        ],
        [
         "45",
         "1",
         "923",
         "5.0",
         "964981529"
        ],
        [
         "46",
         "1",
         "940",
         "5.0",
         "964982176"
        ],
        [
         "47",
         "1",
         "943",
         "4.0",
         "964983614"
        ],
        [
         "48",
         "1",
         "954",
         "5.0",
         "964983219"
        ],
        [
         "49",
         "1",
         "1009",
         "3.0",
         "964981775"
        ]
       ],
       "shape": {
        "columns": 4,
        "rows": 100521
       }
      },
      "text/html": [
       "<div>\n",
       "<style scoped>\n",
       "    .dataframe tbody tr th:only-of-type {\n",
       "        vertical-align: middle;\n",
       "    }\n",
       "\n",
       "    .dataframe tbody tr th {\n",
       "        vertical-align: top;\n",
       "    }\n",
       "\n",
       "    .dataframe thead th {\n",
       "        text-align: right;\n",
       "    }\n",
       "</style>\n",
       "<table border=\"1\" class=\"dataframe\">\n",
       "  <thead>\n",
       "    <tr style=\"text-align: right;\">\n",
       "      <th></th>\n",
       "      <th>userId</th>\n",
       "      <th>movieId</th>\n",
       "      <th>rating</th>\n",
       "      <th>timestamp</th>\n",
       "    </tr>\n",
       "  </thead>\n",
       "  <tbody>\n",
       "    <tr>\n",
       "      <th>0</th>\n",
       "      <td>1</td>\n",
       "      <td>1</td>\n",
       "      <td>4.0</td>\n",
       "      <td>964982703</td>\n",
       "    </tr>\n",
       "    <tr>\n",
       "      <th>1</th>\n",
       "      <td>1</td>\n",
       "      <td>3</td>\n",
       "      <td>4.0</td>\n",
       "      <td>964981247</td>\n",
       "    </tr>\n",
       "    <tr>\n",
       "      <th>2</th>\n",
       "      <td>1</td>\n",
       "      <td>6</td>\n",
       "      <td>4.0</td>\n",
       "      <td>964982224</td>\n",
       "    </tr>\n",
       "    <tr>\n",
       "      <th>3</th>\n",
       "      <td>1</td>\n",
       "      <td>47</td>\n",
       "      <td>5.0</td>\n",
       "      <td>964983815</td>\n",
       "    </tr>\n",
       "    <tr>\n",
       "      <th>4</th>\n",
       "      <td>1</td>\n",
       "      <td>50</td>\n",
       "      <td>5.0</td>\n",
       "      <td>964982931</td>\n",
       "    </tr>\n",
       "    <tr>\n",
       "      <th>...</th>\n",
       "      <td>...</td>\n",
       "      <td>...</td>\n",
       "      <td>...</td>\n",
       "      <td>...</td>\n",
       "    </tr>\n",
       "    <tr>\n",
       "      <th>100516</th>\n",
       "      <td>610</td>\n",
       "      <td>166534</td>\n",
       "      <td>4.0</td>\n",
       "      <td>1493848402</td>\n",
       "    </tr>\n",
       "    <tr>\n",
       "      <th>100517</th>\n",
       "      <td>610</td>\n",
       "      <td>168248</td>\n",
       "      <td>5.0</td>\n",
       "      <td>1493850091</td>\n",
       "    </tr>\n",
       "    <tr>\n",
       "      <th>100518</th>\n",
       "      <td>610</td>\n",
       "      <td>168250</td>\n",
       "      <td>5.0</td>\n",
       "      <td>1494273047</td>\n",
       "    </tr>\n",
       "    <tr>\n",
       "      <th>100519</th>\n",
       "      <td>610</td>\n",
       "      <td>168252</td>\n",
       "      <td>5.0</td>\n",
       "      <td>1493846352</td>\n",
       "    </tr>\n",
       "    <tr>\n",
       "      <th>100520</th>\n",
       "      <td>610</td>\n",
       "      <td>170875</td>\n",
       "      <td>3.0</td>\n",
       "      <td>1493846415</td>\n",
       "    </tr>\n",
       "  </tbody>\n",
       "</table>\n",
       "<p>100521 rows × 4 columns</p>\n",
       "</div>"
      ],
      "text/plain": [
       "        userId  movieId  rating   timestamp\n",
       "0            1        1     4.0   964982703\n",
       "1            1        3     4.0   964981247\n",
       "2            1        6     4.0   964982224\n",
       "3            1       47     5.0   964983815\n",
       "4            1       50     5.0   964982931\n",
       "...        ...      ...     ...         ...\n",
       "100516     610   166534     4.0  1493848402\n",
       "100517     610   168248     5.0  1493850091\n",
       "100518     610   168250     5.0  1494273047\n",
       "100519     610   168252     5.0  1493846352\n",
       "100520     610   170875     3.0  1493846415\n",
       "\n",
       "[100521 rows x 4 columns]"
      ]
     },
     "execution_count": 45,
     "metadata": {},
     "output_type": "execute_result"
    }
   ],
   "source": [
    "pd.concat([train, validation, test])\\\n",
    "    .sort_values([\"userId\", \"movieId\", \"timestamp\", \"rating\"])\\\n",
    "    .reset_index(drop=True)"
   ]
  },
  {
   "cell_type": "code",
   "execution_count": 46,
   "metadata": {},
   "outputs": [
    {
     "data": {
      "application/vnd.microsoft.datawrangler.viewer.v0+json": {
       "columns": [
        {
         "name": "index",
         "rawType": "int64",
         "type": "integer"
        },
        {
         "name": "userId",
         "rawType": "int64",
         "type": "integer"
        },
        {
         "name": "movieId",
         "rawType": "int64",
         "type": "integer"
        },
        {
         "name": "rating",
         "rawType": "float64",
         "type": "float"
        },
        {
         "name": "timestamp",
         "rawType": "int64",
         "type": "integer"
        }
       ],
       "conversionMethod": "pd.DataFrame",
       "ref": "efdb7c09-0cb4-40b3-a8d8-ae6e3a2bab71",
       "rows": [
        [
         "0",
         "1",
         "1",
         "4.0",
         "964982703"
        ],
        [
         "1",
         "1",
         "3",
         "4.0",
         "964981247"
        ],
        [
         "2",
         "1",
         "6",
         "4.0",
         "964982224"
        ],
        [
         "3",
         "1",
         "47",
         "5.0",
         "964983815"
        ],
        [
         "4",
         "1",
         "50",
         "5.0",
         "964982931"
        ],
        [
         "5",
         "1",
         "70",
         "3.0",
         "964982400"
        ],
        [
         "6",
         "1",
         "101",
         "5.0",
         "964980868"
        ],
        [
         "7",
         "1",
         "110",
         "4.0",
         "964982176"
        ],
        [
         "8",
         "1",
         "151",
         "5.0",
         "964984041"
        ],
        [
         "9",
         "1",
         "157",
         "5.0",
         "964984100"
        ],
        [
         "10",
         "1",
         "163",
         "5.0",
         "964983650"
        ],
        [
         "11",
         "1",
         "216",
         "5.0",
         "964981208"
        ],
        [
         "12",
         "1",
         "223",
         "3.0",
         "964980985"
        ],
        [
         "13",
         "1",
         "231",
         "5.0",
         "964981179"
        ],
        [
         "14",
         "1",
         "235",
         "4.0",
         "964980908"
        ],
        [
         "15",
         "1",
         "260",
         "5.0",
         "964981680"
        ],
        [
         "16",
         "1",
         "296",
         "3.0",
         "964982967"
        ],
        [
         "17",
         "1",
         "316",
         "3.0",
         "964982310"
        ],
        [
         "18",
         "1",
         "333",
         "5.0",
         "964981179"
        ],
        [
         "19",
         "1",
         "349",
         "4.0",
         "964982563"
        ],
        [
         "20",
         "1",
         "356",
         "4.0",
         "964980962"
        ],
        [
         "21",
         "1",
         "362",
         "5.0",
         "964982588"
        ],
        [
         "22",
         "1",
         "367",
         "4.0",
         "964981710"
        ],
        [
         "23",
         "1",
         "423",
         "3.0",
         "964982363"
        ],
        [
         "24",
         "1",
         "441",
         "4.0",
         "964980868"
        ],
        [
         "25",
         "1",
         "457",
         "5.0",
         "964981909"
        ],
        [
         "26",
         "1",
         "480",
         "4.0",
         "964982346"
        ],
        [
         "27",
         "1",
         "500",
         "3.0",
         "964981208"
        ],
        [
         "28",
         "1",
         "527",
         "5.0",
         "964984002"
        ],
        [
         "29",
         "1",
         "543",
         "4.0",
         "964981179"
        ],
        [
         "30",
         "1",
         "552",
         "4.0",
         "964982653"
        ],
        [
         "31",
         "1",
         "553",
         "5.0",
         "964984153"
        ],
        [
         "32",
         "1",
         "590",
         "4.0",
         "964982546"
        ],
        [
         "33",
         "1",
         "592",
         "4.0",
         "964982271"
        ],
        [
         "34",
         "1",
         "593",
         "4.0",
         "964983793"
        ],
        [
         "35",
         "1",
         "596",
         "5.0",
         "964982838"
        ],
        [
         "36",
         "1",
         "608",
         "5.0",
         "964982931"
        ],
        [
         "37",
         "1",
         "648",
         "3.0",
         "964982563"
        ],
        [
         "38",
         "1",
         "661",
         "5.0",
         "964982838"
        ],
        [
         "39",
         "1",
         "673",
         "3.0",
         "964981775"
        ],
        [
         "40",
         "1",
         "733",
         "4.0",
         "964982400"
        ],
        [
         "41",
         "1",
         "736",
         "3.0",
         "964982653"
        ],
        [
         "42",
         "1",
         "780",
         "3.0",
         "964984086"
        ],
        [
         "43",
         "1",
         "804",
         "4.0",
         "964980499"
        ],
        [
         "44",
         "1",
         "919",
         "5.0",
         "964982475"
        ],
        [
         "45",
         "1",
         "923",
         "5.0",
         "964981529"
        ],
        [
         "46",
         "1",
         "940",
         "5.0",
         "964982176"
        ],
        [
         "47",
         "1",
         "943",
         "4.0",
         "964983614"
        ],
        [
         "48",
         "1",
         "954",
         "5.0",
         "964983219"
        ],
        [
         "49",
         "1",
         "1009",
         "3.0",
         "964981775"
        ]
       ],
       "shape": {
        "columns": 4,
        "rows": 100521
       }
      },
      "text/html": [
       "<div>\n",
       "<style scoped>\n",
       "    .dataframe tbody tr th:only-of-type {\n",
       "        vertical-align: middle;\n",
       "    }\n",
       "\n",
       "    .dataframe tbody tr th {\n",
       "        vertical-align: top;\n",
       "    }\n",
       "\n",
       "    .dataframe thead th {\n",
       "        text-align: right;\n",
       "    }\n",
       "</style>\n",
       "<table border=\"1\" class=\"dataframe\">\n",
       "  <thead>\n",
       "    <tr style=\"text-align: right;\">\n",
       "      <th></th>\n",
       "      <th>userId</th>\n",
       "      <th>movieId</th>\n",
       "      <th>rating</th>\n",
       "      <th>timestamp</th>\n",
       "    </tr>\n",
       "  </thead>\n",
       "  <tbody>\n",
       "    <tr>\n",
       "      <th>0</th>\n",
       "      <td>1</td>\n",
       "      <td>1</td>\n",
       "      <td>4.0</td>\n",
       "      <td>964982703</td>\n",
       "    </tr>\n",
       "    <tr>\n",
       "      <th>1</th>\n",
       "      <td>1</td>\n",
       "      <td>3</td>\n",
       "      <td>4.0</td>\n",
       "      <td>964981247</td>\n",
       "    </tr>\n",
       "    <tr>\n",
       "      <th>2</th>\n",
       "      <td>1</td>\n",
       "      <td>6</td>\n",
       "      <td>4.0</td>\n",
       "      <td>964982224</td>\n",
       "    </tr>\n",
       "    <tr>\n",
       "      <th>3</th>\n",
       "      <td>1</td>\n",
       "      <td>47</td>\n",
       "      <td>5.0</td>\n",
       "      <td>964983815</td>\n",
       "    </tr>\n",
       "    <tr>\n",
       "      <th>4</th>\n",
       "      <td>1</td>\n",
       "      <td>50</td>\n",
       "      <td>5.0</td>\n",
       "      <td>964982931</td>\n",
       "    </tr>\n",
       "    <tr>\n",
       "      <th>...</th>\n",
       "      <td>...</td>\n",
       "      <td>...</td>\n",
       "      <td>...</td>\n",
       "      <td>...</td>\n",
       "    </tr>\n",
       "    <tr>\n",
       "      <th>100516</th>\n",
       "      <td>610</td>\n",
       "      <td>166534</td>\n",
       "      <td>4.0</td>\n",
       "      <td>1493848402</td>\n",
       "    </tr>\n",
       "    <tr>\n",
       "      <th>100517</th>\n",
       "      <td>610</td>\n",
       "      <td>168248</td>\n",
       "      <td>5.0</td>\n",
       "      <td>1493850091</td>\n",
       "    </tr>\n",
       "    <tr>\n",
       "      <th>100518</th>\n",
       "      <td>610</td>\n",
       "      <td>168250</td>\n",
       "      <td>5.0</td>\n",
       "      <td>1494273047</td>\n",
       "    </tr>\n",
       "    <tr>\n",
       "      <th>100519</th>\n",
       "      <td>610</td>\n",
       "      <td>168252</td>\n",
       "      <td>5.0</td>\n",
       "      <td>1493846352</td>\n",
       "    </tr>\n",
       "    <tr>\n",
       "      <th>100520</th>\n",
       "      <td>610</td>\n",
       "      <td>170875</td>\n",
       "      <td>3.0</td>\n",
       "      <td>1493846415</td>\n",
       "    </tr>\n",
       "  </tbody>\n",
       "</table>\n",
       "<p>100521 rows × 4 columns</p>\n",
       "</div>"
      ],
      "text/plain": [
       "        userId  movieId  rating   timestamp\n",
       "0            1        1     4.0   964982703\n",
       "1            1        3     4.0   964981247\n",
       "2            1        6     4.0   964982224\n",
       "3            1       47     5.0   964983815\n",
       "4            1       50     5.0   964982931\n",
       "...        ...      ...     ...         ...\n",
       "100516     610   166534     4.0  1493848402\n",
       "100517     610   168248     5.0  1493850091\n",
       "100518     610   168250     5.0  1494273047\n",
       "100519     610   168252     5.0  1493846352\n",
       "100520     610   170875     3.0  1493846415\n",
       "\n",
       "[100521 rows x 4 columns]"
      ]
     },
     "execution_count": 46,
     "metadata": {},
     "output_type": "execute_result"
    }
   ],
   "source": [
    "r_processed.sort_values([\"userId\", \"movieId\", \"timestamp\", \"rating\"])"
   ]
  },
  {
   "cell_type": "code",
   "execution_count": 47,
   "metadata": {},
   "outputs": [
    {
     "data": {
      "application/vnd.microsoft.datawrangler.viewer.v0+json": {
       "columns": [
        {
         "name": "index",
         "rawType": "int64",
         "type": "integer"
        }
       ],
       "conversionMethod": "pd.DataFrame",
       "ref": "7d17beb4-0fc7-4b01-bb9a-8b542a317ec8",
       "rows": [],
       "shape": {
        "columns": 0,
        "rows": 0
       }
      },
      "text/html": [
       "<div>\n",
       "<style scoped>\n",
       "    .dataframe tbody tr th:only-of-type {\n",
       "        vertical-align: middle;\n",
       "    }\n",
       "\n",
       "    .dataframe tbody tr th {\n",
       "        vertical-align: top;\n",
       "    }\n",
       "\n",
       "    .dataframe thead tr th {\n",
       "        text-align: left;\n",
       "    }\n",
       "</style>\n",
       "<table border=\"1\" class=\"dataframe\">\n",
       "  <thead>\n",
       "  </thead>\n",
       "  <tbody>\n",
       "  </tbody>\n",
       "</table>\n",
       "</div>"
      ],
      "text/plain": [
       "Empty DataFrame\n",
       "Columns: []\n",
       "Index: []"
      ]
     },
     "execution_count": 47,
     "metadata": {},
     "output_type": "execute_result"
    }
   ],
   "source": [
    "diff = pd.concat([train, validation, test]).sort_values([\"userId\", \"movieId\", \"timestamp\", \"rating\"])\\\n",
    "    .reset_index(drop=True)\\\n",
    "    .compare(r_processed.sort_values([\"userId\", \"movieId\", \"timestamp\", \"rating\"]))\n",
    "diff.head()"
   ]
  },
  {
   "cell_type": "code",
   "execution_count": 48,
   "metadata": {},
   "outputs": [
    {
     "name": "stdout",
     "output_type": "stream",
     "text": [
      "--- Dataset Raw Stats ---\n",
      "Train size:\t\t 18076\n",
      "Validation size:\t 8078\n",
      "Test size:\t\t 8411\n",
      "Total fold size:\t 34565\n",
      "Full Dataset size:\t 100521\n",
      "\n",
      "--- Dataset Percentage Stats ---\n",
      "Training percentage:\t 0.5229567481556487\n",
      "Validation percentage:\t 0.23370461449443078\n",
      "Test percentage:\t 0.24333863734992045\n",
      "Dataset used:\t\t 0.3438584972294346\n"
     ]
    }
   ],
   "source": [
    "train, validation, test = get_fold(0)\n",
    "split_percentage(train, validation, test, r_processed)"
   ]
  },
  {
   "cell_type": "code",
   "execution_count": 49,
   "metadata": {},
   "outputs": [
    {
     "name": "stdout",
     "output_type": "stream",
     "text": [
      "--- Dataset Raw Stats ---\n",
      "Train size:\t\t 34565\n",
      "Validation size:\t 8078\n",
      "Test size:\t\t 8411\n",
      "Total fold size:\t 51054\n",
      "Full Dataset size:\t 100521\n",
      "\n",
      "--- Dataset Percentage Stats ---\n",
      "Training percentage:\t 0.6770282446037529\n",
      "Validation percentage:\t 0.15822462490696126\n",
      "Test percentage:\t 0.16474713048928585\n",
      "Dataset used:\t\t 0.507893872922076\n"
     ]
    }
   ],
   "source": [
    "train, validation, test = get_fold(1)\n",
    "split_percentage(train, validation, test, r_processed)"
   ]
  },
  {
   "cell_type": "code",
   "execution_count": 50,
   "metadata": {},
   "outputs": [
    {
     "name": "stdout",
     "output_type": "stream",
     "text": [
      "--- Dataset Raw Stats ---\n",
      "Train size:\t\t 51054\n",
      "Validation size:\t 8078\n",
      "Test size:\t\t 8411\n",
      "Total fold size:\t 67543\n",
      "Full Dataset size:\t 100521\n",
      "\n",
      "--- Dataset Percentage Stats ---\n",
      "Training percentage:\t 0.7558740357994167\n",
      "Validation percentage:\t 0.1195978857912737\n",
      "Test percentage:\t 0.12452807840930963\n",
      "Dataset used:\t\t 0.6719292486147174\n"
     ]
    }
   ],
   "source": [
    "train, validation, test = get_fold(2)\n",
    "split_percentage(train, validation, test, r_processed)"
   ]
  },
  {
   "cell_type": "code",
   "execution_count": 51,
   "metadata": {},
   "outputs": [
    {
     "name": "stdout",
     "output_type": "stream",
     "text": [
      "--- Dataset Raw Stats ---\n",
      "Train size:\t\t 67543\n",
      "Validation size:\t 8078\n",
      "Test size:\t\t 8411\n",
      "Total fold size:\t 84032\n",
      "Full Dataset size:\t 100521\n",
      "\n",
      "--- Dataset Percentage Stats ---\n",
      "Training percentage:\t 0.8037771325209444\n",
      "Validation percentage:\t 0.09613004569687739\n",
      "Test percentage:\t 0.10009282178217822\n",
      "Dataset used:\t\t 0.8359646243073586\n"
     ]
    }
   ],
   "source": [
    "train, validation, test = get_fold(3)\n",
    "split_percentage(train, validation, test, r_processed)"
   ]
  },
  {
   "cell_type": "code",
   "execution_count": 52,
   "metadata": {},
   "outputs": [
    {
     "name": "stdout",
     "output_type": "stream",
     "text": [
      "--- Dataset Raw Stats ---\n",
      "Train size:\t\t 84032\n",
      "Validation size:\t 8078\n",
      "Test size:\t\t 8411\n",
      "Total fold size:\t 100521\n",
      "Full Dataset size:\t 100521\n",
      "\n",
      "--- Dataset Percentage Stats ---\n",
      "Training percentage:\t 0.8359646243073586\n",
      "Validation percentage:\t 0.08036131753563931\n",
      "Test percentage:\t 0.08367405815700202\n",
      "Dataset used:\t\t 1.0\n"
     ]
    }
   ],
   "source": [
    "train, validation, test = get_fold(4)\n",
    "split_percentage(train, validation, test, r_processed)"
   ]
  }
 ],
 "metadata": {
  "kernelspec": {
   "display_name": "recsys",
   "language": "python",
   "name": "python3"
  },
  "language_info": {
   "codemirror_mode": {
    "name": "ipython",
    "version": 3
   },
   "file_extension": ".py",
   "mimetype": "text/x-python",
   "name": "python",
   "nbconvert_exporter": "python",
   "pygments_lexer": "ipython3",
   "version": "3.12.3"
  }
 },
 "nbformat": 4,
 "nbformat_minor": 2
}

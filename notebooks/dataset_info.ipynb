{
 "cells": [
  {
   "cell_type": "code",
   "execution_count": 1,
   "id": "fea5c543",
   "metadata": {},
   "outputs": [],
   "source": [
    "import sys\n",
    "import os\n",
    "\n",
    "# Manually set the project root relative to this notebook\n",
    "project_root = os.path.abspath(os.path.join(os.getcwd(), '..'))\n",
    "sys.path.append(project_root)\n",
    "\n",
    "import os\n",
    "os.chdir('..')\n"
   ]
  },
  {
   "cell_type": "code",
   "execution_count": 2,
   "id": "71953e03",
   "metadata": {},
   "outputs": [],
   "source": [
    "import pandas as pd\n",
    "from dataset_experiment.movielens100k import MovieLens100K\n",
    "from dataset_experiment.lastfm import LastFM "
   ]
  },
  {
   "cell_type": "markdown",
   "id": "3f395003",
   "metadata": {},
   "source": [
    "### MovieLens 100K dataset"
   ]
  },
  {
   "cell_type": "code",
   "execution_count": 3,
   "id": "b61bc4c7",
   "metadata": {},
   "outputs": [
    {
     "data": {
      "application/vnd.microsoft.datawrangler.viewer.v0+json": {
       "columns": [
        {
         "name": "index",
         "rawType": "int64",
         "type": "integer"
        },
        {
         "name": "userId",
         "rawType": "int64",
         "type": "integer"
        },
        {
         "name": "movieId",
         "rawType": "int64",
         "type": "integer"
        },
        {
         "name": "rating",
         "rawType": "float64",
         "type": "float"
        },
        {
         "name": "timestamp",
         "rawType": "int64",
         "type": "integer"
        }
       ],
       "ref": "84887ee8-ea27-44f5-9981-9efcae17ae5a",
       "rows": [
        [
         "0",
         "1",
         "1",
         "4.0",
         "964982703"
        ],
        [
         "1",
         "1",
         "3",
         "4.0",
         "964981247"
        ],
        [
         "2",
         "1",
         "6",
         "4.0",
         "964982224"
        ],
        [
         "3",
         "1",
         "47",
         "5.0",
         "964983815"
        ],
        [
         "4",
         "1",
         "50",
         "5.0",
         "964982931"
        ]
       ],
       "shape": {
        "columns": 4,
        "rows": 5
       }
      },
      "text/html": [
       "<div>\n",
       "<style scoped>\n",
       "    .dataframe tbody tr th:only-of-type {\n",
       "        vertical-align: middle;\n",
       "    }\n",
       "\n",
       "    .dataframe tbody tr th {\n",
       "        vertical-align: top;\n",
       "    }\n",
       "\n",
       "    .dataframe thead th {\n",
       "        text-align: right;\n",
       "    }\n",
       "</style>\n",
       "<table border=\"1\" class=\"dataframe\">\n",
       "  <thead>\n",
       "    <tr style=\"text-align: right;\">\n",
       "      <th></th>\n",
       "      <th>userId</th>\n",
       "      <th>movieId</th>\n",
       "      <th>rating</th>\n",
       "      <th>timestamp</th>\n",
       "    </tr>\n",
       "  </thead>\n",
       "  <tbody>\n",
       "    <tr>\n",
       "      <th>0</th>\n",
       "      <td>1</td>\n",
       "      <td>1</td>\n",
       "      <td>4.0</td>\n",
       "      <td>964982703</td>\n",
       "    </tr>\n",
       "    <tr>\n",
       "      <th>1</th>\n",
       "      <td>1</td>\n",
       "      <td>3</td>\n",
       "      <td>4.0</td>\n",
       "      <td>964981247</td>\n",
       "    </tr>\n",
       "    <tr>\n",
       "      <th>2</th>\n",
       "      <td>1</td>\n",
       "      <td>6</td>\n",
       "      <td>4.0</td>\n",
       "      <td>964982224</td>\n",
       "    </tr>\n",
       "    <tr>\n",
       "      <th>3</th>\n",
       "      <td>1</td>\n",
       "      <td>47</td>\n",
       "      <td>5.0</td>\n",
       "      <td>964983815</td>\n",
       "    </tr>\n",
       "    <tr>\n",
       "      <th>4</th>\n",
       "      <td>1</td>\n",
       "      <td>50</td>\n",
       "      <td>5.0</td>\n",
       "      <td>964982931</td>\n",
       "    </tr>\n",
       "  </tbody>\n",
       "</table>\n",
       "</div>"
      ],
      "text/plain": [
       "   userId  movieId  rating  timestamp\n",
       "0       1        1     4.0  964982703\n",
       "1       1        3     4.0  964981247\n",
       "2       1        6     4.0  964982224\n",
       "3       1       47     5.0  964983815\n",
       "4       1       50     5.0  964982931"
      ]
     },
     "execution_count": 3,
     "metadata": {},
     "output_type": "execute_result"
    }
   ],
   "source": [
    "ml_small = pd.read_csv(\"./datasets/ml-latest-small/ratings.csv\")\n",
    "ml_small.head()"
   ]
  },
  {
   "cell_type": "code",
   "execution_count": 4,
   "id": "12cb79f2",
   "metadata": {},
   "outputs": [
    {
     "name": "stdout",
     "output_type": "stream",
     "text": [
      "--- Dataset Raw Stats ---\n",
      "Number of users:\t 610\n",
      "Number of items:\t 9724\n",
      "Number of ratings:\t 100836\n"
     ]
    }
   ],
   "source": [
    "print('''--- Dataset Raw Stats ---''')\n",
    "print(f'''Number of users:\\t {ml_small[\"userId\"].nunique()}''')\n",
    "print(f'''Number of items:\\t {ml_small[\"movieId\"].nunique()}''')\n",
    "print(f'''Number of ratings:\\t {ml_small.shape[0]}''')"
   ]
  },
  {
   "cell_type": "code",
   "execution_count": 5,
   "id": "1a0ef5af",
   "metadata": {},
   "outputs": [
    {
     "data": {
      "application/vnd.microsoft.datawrangler.viewer.v0+json": {
       "columns": [
        {
         "name": "index",
         "rawType": "int64",
         "type": "integer"
        },
        {
         "name": "userId",
         "rawType": "int64",
         "type": "integer"
        },
        {
         "name": "movieId",
         "rawType": "int64",
         "type": "integer"
        },
        {
         "name": "rating",
         "rawType": "float64",
         "type": "float"
        },
        {
         "name": "timestamp",
         "rawType": "int64",
         "type": "integer"
        }
       ],
       "ref": "a1aa0004-0671-4d41-84b9-bbf0a87d2c7a",
       "rows": [
        [
         "0",
         "1",
         "1",
         "4.0",
         "964982703"
        ],
        [
         "1",
         "1",
         "3",
         "4.0",
         "964981247"
        ],
        [
         "2",
         "1",
         "6",
         "4.0",
         "964982224"
        ],
        [
         "3",
         "1",
         "47",
         "5.0",
         "964983815"
        ],
        [
         "4",
         "1",
         "50",
         "5.0",
         "964982931"
        ]
       ],
       "shape": {
        "columns": 4,
        "rows": 5
       }
      },
      "text/html": [
       "<div>\n",
       "<style scoped>\n",
       "    .dataframe tbody tr th:only-of-type {\n",
       "        vertical-align: middle;\n",
       "    }\n",
       "\n",
       "    .dataframe tbody tr th {\n",
       "        vertical-align: top;\n",
       "    }\n",
       "\n",
       "    .dataframe thead th {\n",
       "        text-align: right;\n",
       "    }\n",
       "</style>\n",
       "<table border=\"1\" class=\"dataframe\">\n",
       "  <thead>\n",
       "    <tr style=\"text-align: right;\">\n",
       "      <th></th>\n",
       "      <th>userId</th>\n",
       "      <th>movieId</th>\n",
       "      <th>rating</th>\n",
       "      <th>timestamp</th>\n",
       "    </tr>\n",
       "  </thead>\n",
       "  <tbody>\n",
       "    <tr>\n",
       "      <th>0</th>\n",
       "      <td>1</td>\n",
       "      <td>1</td>\n",
       "      <td>4.0</td>\n",
       "      <td>964982703</td>\n",
       "    </tr>\n",
       "    <tr>\n",
       "      <th>1</th>\n",
       "      <td>1</td>\n",
       "      <td>3</td>\n",
       "      <td>4.0</td>\n",
       "      <td>964981247</td>\n",
       "    </tr>\n",
       "    <tr>\n",
       "      <th>2</th>\n",
       "      <td>1</td>\n",
       "      <td>6</td>\n",
       "      <td>4.0</td>\n",
       "      <td>964982224</td>\n",
       "    </tr>\n",
       "    <tr>\n",
       "      <th>3</th>\n",
       "      <td>1</td>\n",
       "      <td>47</td>\n",
       "      <td>5.0</td>\n",
       "      <td>964983815</td>\n",
       "    </tr>\n",
       "    <tr>\n",
       "      <th>4</th>\n",
       "      <td>1</td>\n",
       "      <td>50</td>\n",
       "      <td>5.0</td>\n",
       "      <td>964982931</td>\n",
       "    </tr>\n",
       "  </tbody>\n",
       "</table>\n",
       "</div>"
      ],
      "text/plain": [
       "   userId  movieId  rating  timestamp\n",
       "0       1        1     4.0  964982703\n",
       "1       1        3     4.0  964981247\n",
       "2       1        6     4.0  964982224\n",
       "3       1       47     5.0  964983815\n",
       "4       1       50     5.0  964982931"
      ]
     },
     "execution_count": 5,
     "metadata": {},
     "output_type": "execute_result"
    }
   ],
   "source": [
    "p_ml_small = pd.read_csv(\"./datasets/ml-latest-small/ratings_processed.csv\")\n",
    "p_ml_small.head()"
   ]
  },
  {
   "cell_type": "code",
   "execution_count": 6,
   "id": "52ce3779",
   "metadata": {},
   "outputs": [
    {
     "name": "stdout",
     "output_type": "stream",
     "text": [
      "--- Processed Raw Stats ---\n",
      "Number of users:\t 610\n",
      "Number of items:\t 9517\n",
      "Number of ratings:\t 100521\n"
     ]
    }
   ],
   "source": [
    "print('''--- Processed Raw Stats ---''')\n",
    "print(f'''Number of users:\\t {p_ml_small[\"userId\"].nunique()}''')\n",
    "print(f'''Number of items:\\t {p_ml_small[\"movieId\"].nunique()}''')\n",
    "print(f'''Number of ratings:\\t {p_ml_small.shape[0]}''')"
   ]
  },
  {
   "cell_type": "code",
   "execution_count": 7,
   "id": "e14dd26c",
   "metadata": {},
   "outputs": [
    {
     "name": "stdout",
     "output_type": "stream",
     "text": [
      " Percentage of Data Remained:\t 99.6876115672974\n"
     ]
    }
   ],
   "source": [
    "print(f''' Percentage of Data Remained:\\t {p_ml_small.shape[0] / ml_small.shape[0] * 100}''') "
   ]
  },
  {
   "cell_type": "code",
   "execution_count": 8,
   "id": "1f06a7cc",
   "metadata": {},
   "outputs": [
    {
     "data": {
      "application/vnd.microsoft.datawrangler.viewer.v0+json": {
       "columns": [
        {
         "name": "index",
         "rawType": "int64",
         "type": "integer"
        },
        {
         "name": "movieId",
         "rawType": "int64",
         "type": "integer"
        },
        {
         "name": "title",
         "rawType": "object",
         "type": "string"
        },
        {
         "name": "prop",
         "rawType": "object",
         "type": "string"
        },
        {
         "name": "obj",
         "rawType": "object",
         "type": "string"
        },
        {
         "name": "imdbId",
         "rawType": "object",
         "type": "string"
        }
       ],
       "ref": "996026ea-71d5-4a44-bd49-5b227e4c17a1",
       "rows": [
        [
         "0",
         "199",
         "The Umbrellas of Cherbourg",
         "director",
         "Jacques Demy",
         "tt0058450"
        ],
        [
         "1",
         "199",
         "The Umbrellas of Cherbourg",
         "screenwriter",
         "Jacques Demy",
         "tt0058450"
        ],
        [
         "2",
         "199",
         "The Umbrellas of Cherbourg",
         "composer",
         "Michel Legrand",
         "tt0058450"
        ],
        [
         "3",
         "199",
         "The Umbrellas of Cherbourg",
         "genre",
         "drama",
         "tt0058450"
        ],
        [
         "4",
         "199",
         "The Umbrellas of Cherbourg",
         "genre",
         "musical film",
         "tt0058450"
        ],
        [
         "5",
         "199",
         "The Umbrellas of Cherbourg",
         "genre",
         "romance film",
         "tt0058450"
        ],
        [
         "6",
         "199",
         "The Umbrellas of Cherbourg",
         "cast member",
         "Catherine Deneuve",
         "tt0058450"
        ],
        [
         "7",
         "199",
         "The Umbrellas of Cherbourg",
         "cast member",
         "Jacques Demy",
         "tt0058450"
        ],
        [
         "8",
         "199",
         "The Umbrellas of Cherbourg",
         "cast member",
         "Michel Legrand",
         "tt0058450"
        ],
        [
         "9",
         "199",
         "The Umbrellas of Cherbourg",
         "cast member",
         "Anne Vernon",
         "tt0058450"
        ],
        [
         "10",
         "199",
         "The Umbrellas of Cherbourg",
         "cast member",
         "Christiane Legrand",
         "tt0058450"
        ],
        [
         "11",
         "199",
         "The Umbrellas of Cherbourg",
         "cast member",
         "Nino Castelnuovo",
         "tt0058450"
        ],
        [
         "12",
         "199",
         "The Umbrellas of Cherbourg",
         "cast member",
         "Claire Leclerc",
         "tt0058450"
        ],
        [
         "13",
         "199",
         "The Umbrellas of Cherbourg",
         "cast member",
         "Danielle Licari",
         "tt0058450"
        ],
        [
         "14",
         "199",
         "The Umbrellas of Cherbourg",
         "cast member",
         "Dorothée Blanck",
         "tt0058450"
        ],
        [
         "15",
         "199",
         "The Umbrellas of Cherbourg",
         "cast member",
         "Ellen Farner",
         "tt0058450"
        ],
        [
         "16",
         "199",
         "The Umbrellas of Cherbourg",
         "cast member",
         "Georges Blaness",
         "tt0058450"
        ],
        [
         "17",
         "199",
         "The Umbrellas of Cherbourg",
         "cast member",
         "Gisèle Grandpré",
         "tt0058450"
        ],
        [
         "18",
         "199",
         "The Umbrellas of Cherbourg",
         "cast member",
         "Harald Wolff",
         "tt0058450"
        ],
        [
         "19",
         "199",
         "The Umbrellas of Cherbourg",
         "cast member",
         "Jean-Claude Briodin",
         "tt0058450"
        ],
        [
         "20",
         "199",
         "The Umbrellas of Cherbourg",
         "cast member",
         "Jean Champion",
         "tt0058450"
        ],
        [
         "21",
         "199",
         "The Umbrellas of Cherbourg",
         "cast member",
         "José Bartel",
         "tt0058450"
        ],
        [
         "22",
         "199",
         "The Umbrellas of Cherbourg",
         "cast member",
         "Marc Michel",
         "tt0058450"
        ],
        [
         "23",
         "199",
         "The Umbrellas of Cherbourg",
         "cast member",
         "Mireille Perrey",
         "tt0058450"
        ],
        [
         "24",
         "199",
         "The Umbrellas of Cherbourg",
         "cast member",
         "Patrick Bricard",
         "tt0058450"
        ],
        [
         "25",
         "199",
         "The Umbrellas of Cherbourg",
         "cast member",
         "Philippe Dumat",
         "tt0058450"
        ],
        [
         "26",
         "199",
         "The Umbrellas of Cherbourg",
         "cast member",
         "Raoul Curet",
         "tt0058450"
        ],
        [
         "27",
         "199",
         "The Umbrellas of Cherbourg",
         "cast member",
         "Rosalie Varda",
         "tt0058450"
        ],
        [
         "28",
         "199",
         "The Umbrellas of Cherbourg",
         "cast member",
         "Jean Cussac",
         "tt0058450"
        ],
        [
         "29",
         "199",
         "The Umbrellas of Cherbourg",
         "cast member",
         "Hervé Legrand",
         "tt0058450"
        ],
        [
         "30",
         "199",
         "The Umbrellas of Cherbourg",
         "cast member",
         "Jean-Pierre Dorat",
         "tt0058450"
        ],
        [
         "31",
         "199",
         "The Umbrellas of Cherbourg",
         "cast member",
         "Claudine Meunier",
         "tt0058450"
        ],
        [
         "32",
         "199",
         "The Umbrellas of Cherbourg",
         "cast member",
         "Myriam Michelson",
         "tt0058450"
        ],
        [
         "33",
         "199",
         "The Umbrellas of Cherbourg",
         "cast member",
         "José Germain",
         "tt0058450"
        ],
        [
         "34",
         "199",
         "The Umbrellas of Cherbourg",
         "cast member",
         "Jean Valière",
         "tt0058450"
        ],
        [
         "35",
         "199",
         "The Umbrellas of Cherbourg",
         "producer",
         "Mag Bodard",
         "tt0058450"
        ],
        [
         "36",
         "199",
         "The Umbrellas of Cherbourg",
         "award received",
         "Palme d'Or",
         "tt0058450"
        ],
        [
         "37",
         "199",
         "The Umbrellas of Cherbourg",
         "award received",
         "Louis Delluc Prize",
         "tt0058450"
        ],
        [
         "38",
         "199",
         "The Umbrellas of Cherbourg",
         "director of photography",
         "Jean Rabier",
         "tt0058450"
        ],
        [
         "39",
         "199",
         "The Umbrellas of Cherbourg",
         "country of origin",
         "France",
         "tt0058450"
        ],
        [
         "40",
         "199",
         "The Umbrellas of Cherbourg",
         "country of origin",
         "Germany",
         "tt0058450"
        ],
        [
         "41",
         "199",
         "The Umbrellas of Cherbourg",
         "filming location",
         "passage Pommeraye",
         "tt0058450"
        ],
        [
         "42",
         "199",
         "The Umbrellas of Cherbourg",
         "main subject",
         "Algerian War of Independence",
         "tt0058450"
        ],
        [
         "43",
         "199",
         "The Umbrellas of Cherbourg",
         "film editor",
         "Anne-Marie Cotret",
         "tt0058450"
        ],
        [
         "44",
         "199",
         "The Umbrellas of Cherbourg",
         "nominated for",
         "Academy Award for Best Writing, Original Screenplay",
         "tt0058450"
        ],
        [
         "45",
         "199",
         "The Umbrellas of Cherbourg",
         "nominated for",
         "Academy Award for Best Foreign Language Film",
         "tt0058450"
        ],
        [
         "46",
         "199",
         "The Umbrellas of Cherbourg",
         "nominated for",
         "Academy Award for Best Original Score",
         "tt0058450"
        ],
        [
         "47",
         "199",
         "The Umbrellas of Cherbourg",
         "nominated for",
         "Academy Award for Best Score, Adaptation or Treatment",
         "tt0058450"
        ],
        [
         "48",
         "199",
         "The Umbrellas of Cherbourg",
         "title",
         "Les Parapluies de Cherbourg",
         "tt0058450"
        ],
        [
         "49",
         "390",
         "Faster, Pussycat! Kill! Kill!",
         "director",
         "Russ Meyer",
         "tt0059170"
        ]
       ],
       "shape": {
        "columns": 5,
        "rows": 295787
       }
      },
      "text/html": [
       "<div>\n",
       "<style scoped>\n",
       "    .dataframe tbody tr th:only-of-type {\n",
       "        vertical-align: middle;\n",
       "    }\n",
       "\n",
       "    .dataframe tbody tr th {\n",
       "        vertical-align: top;\n",
       "    }\n",
       "\n",
       "    .dataframe thead th {\n",
       "        text-align: right;\n",
       "    }\n",
       "</style>\n",
       "<table border=\"1\" class=\"dataframe\">\n",
       "  <thead>\n",
       "    <tr style=\"text-align: right;\">\n",
       "      <th></th>\n",
       "      <th>movieId</th>\n",
       "      <th>title</th>\n",
       "      <th>prop</th>\n",
       "      <th>obj</th>\n",
       "      <th>imdbId</th>\n",
       "    </tr>\n",
       "  </thead>\n",
       "  <tbody>\n",
       "    <tr>\n",
       "      <th>0</th>\n",
       "      <td>199</td>\n",
       "      <td>The Umbrellas of Cherbourg</td>\n",
       "      <td>director</td>\n",
       "      <td>Jacques Demy</td>\n",
       "      <td>tt0058450</td>\n",
       "    </tr>\n",
       "    <tr>\n",
       "      <th>1</th>\n",
       "      <td>199</td>\n",
       "      <td>The Umbrellas of Cherbourg</td>\n",
       "      <td>screenwriter</td>\n",
       "      <td>Jacques Demy</td>\n",
       "      <td>tt0058450</td>\n",
       "    </tr>\n",
       "    <tr>\n",
       "      <th>2</th>\n",
       "      <td>199</td>\n",
       "      <td>The Umbrellas of Cherbourg</td>\n",
       "      <td>composer</td>\n",
       "      <td>Michel Legrand</td>\n",
       "      <td>tt0058450</td>\n",
       "    </tr>\n",
       "    <tr>\n",
       "      <th>3</th>\n",
       "      <td>199</td>\n",
       "      <td>The Umbrellas of Cherbourg</td>\n",
       "      <td>genre</td>\n",
       "      <td>drama</td>\n",
       "      <td>tt0058450</td>\n",
       "    </tr>\n",
       "    <tr>\n",
       "      <th>4</th>\n",
       "      <td>199</td>\n",
       "      <td>The Umbrellas of Cherbourg</td>\n",
       "      <td>genre</td>\n",
       "      <td>musical film</td>\n",
       "      <td>tt0058450</td>\n",
       "    </tr>\n",
       "    <tr>\n",
       "      <th>...</th>\n",
       "      <td>...</td>\n",
       "      <td>...</td>\n",
       "      <td>...</td>\n",
       "      <td>...</td>\n",
       "      <td>...</td>\n",
       "    </tr>\n",
       "    <tr>\n",
       "      <th>295782</th>\n",
       "      <td>179053</td>\n",
       "      <td>2048: Nowhere to Run</td>\n",
       "      <td>cast member</td>\n",
       "      <td>Orion Ben</td>\n",
       "      <td>tt7387408</td>\n",
       "    </tr>\n",
       "    <tr>\n",
       "      <th>295783</th>\n",
       "      <td>179053</td>\n",
       "      <td>2048: Nowhere to Run</td>\n",
       "      <td>director of photography</td>\n",
       "      <td>Pierre Gill</td>\n",
       "      <td>tt7387408</td>\n",
       "    </tr>\n",
       "    <tr>\n",
       "      <th>295784</th>\n",
       "      <td>179053</td>\n",
       "      <td>2048: Nowhere to Run</td>\n",
       "      <td>country of origin</td>\n",
       "      <td>United States of America</td>\n",
       "      <td>tt7387408</td>\n",
       "    </tr>\n",
       "    <tr>\n",
       "      <th>295785</th>\n",
       "      <td>179053</td>\n",
       "      <td>2048: Nowhere to Run</td>\n",
       "      <td>narrative location</td>\n",
       "      <td>Los Angeles</td>\n",
       "      <td>tt7387408</td>\n",
       "    </tr>\n",
       "    <tr>\n",
       "      <th>295786</th>\n",
       "      <td>179053</td>\n",
       "      <td>2048: Nowhere to Run</td>\n",
       "      <td>title</td>\n",
       "      <td>2048: Nowhere to Run</td>\n",
       "      <td>tt7387408</td>\n",
       "    </tr>\n",
       "  </tbody>\n",
       "</table>\n",
       "<p>295787 rows × 5 columns</p>\n",
       "</div>"
      ],
      "text/plain": [
       "        movieId                       title                     prop  \\\n",
       "0           199  The Umbrellas of Cherbourg                 director   \n",
       "1           199  The Umbrellas of Cherbourg             screenwriter   \n",
       "2           199  The Umbrellas of Cherbourg                 composer   \n",
       "3           199  The Umbrellas of Cherbourg                    genre   \n",
       "4           199  The Umbrellas of Cherbourg                    genre   \n",
       "...         ...                         ...                      ...   \n",
       "295782   179053        2048: Nowhere to Run              cast member   \n",
       "295783   179053        2048: Nowhere to Run  director of photography   \n",
       "295784   179053        2048: Nowhere to Run        country of origin   \n",
       "295785   179053        2048: Nowhere to Run       narrative location   \n",
       "295786   179053        2048: Nowhere to Run                    title   \n",
       "\n",
       "                             obj     imdbId  \n",
       "0                   Jacques Demy  tt0058450  \n",
       "1                   Jacques Demy  tt0058450  \n",
       "2                 Michel Legrand  tt0058450  \n",
       "3                          drama  tt0058450  \n",
       "4                   musical film  tt0058450  \n",
       "...                          ...        ...  \n",
       "295782                 Orion Ben  tt7387408  \n",
       "295783               Pierre Gill  tt7387408  \n",
       "295784  United States of America  tt7387408  \n",
       "295785               Los Angeles  tt7387408  \n",
       "295786      2048: Nowhere to Run  tt7387408  \n",
       "\n",
       "[295787 rows x 5 columns]"
      ]
     },
     "execution_count": 8,
     "metadata": {},
     "output_type": "execute_result"
    }
   ],
   "source": [
    "kg_movies = pd.read_csv(\"./knowledge-graphs/props_wikidata_movielens_small.csv\")\n",
    "kg_movies"
   ]
  },
  {
   "cell_type": "code",
   "execution_count": 9,
   "id": "e67f1128",
   "metadata": {},
   "outputs": [
    {
     "name": "stdout",
     "output_type": "stream",
     "text": [
      "--- KG Stats ---\n",
      "Number of items:\t 9535\n",
      "Number of prop:\t\t 23\n",
      "Number of obj:\t\t 69487\n",
      "N triplet:\t\t 295787\n"
     ]
    }
   ],
   "source": [
    "print('''--- KG Stats ---''')\n",
    "print(f'''Number of items:\\t {kg_movies[\"movieId\"].nunique()}''')\n",
    "print(f'''Number of prop:\\t\\t {kg_movies[\"prop\"].nunique()}''')\n",
    "print(f'''Number of obj:\\t\\t {kg_movies[\"obj\"].nunique()}''')\n",
    "print(f'''N triplet:\\t\\t {kg_movies.shape[0]}''')"
   ]
  },
  {
   "cell_type": "code",
   "execution_count": 10,
   "id": "2fb3a66e",
   "metadata": {},
   "outputs": [
    {
     "name": "stdout",
     "output_type": "stream",
     "text": [
      "Percentage of items on KG:\t 0.9805635540929658\n"
     ]
    }
   ],
   "source": [
    "print(f'''Percentage of items on KG:\\t {kg_movies[\"movieId\"].nunique()/ml_small[\"movieId\"].nunique()}''')"
   ]
  },
  {
   "cell_type": "code",
   "execution_count": 11,
   "id": "b41412f3",
   "metadata": {},
   "outputs": [
    {
     "name": "stdout",
     "output_type": "stream",
     "text": [
      "Percentage of items on KG:\t 0.9981122181436812\n"
     ]
    }
   ],
   "source": [
    "print(f'''Percentage of items on KG:\\t {p_ml_small[\"movieId\"].nunique()/kg_movies[\"movieId\"].nunique()}''')"
   ]
  },
  {
   "cell_type": "code",
   "execution_count": 12,
   "id": "00c293f9",
   "metadata": {},
   "outputs": [
    {
     "name": "stdout",
     "output_type": "stream",
     "text": [
      "Percentage of items on KG:\t 9517 - 9535\n"
     ]
    }
   ],
   "source": [
    "print(f'''Percentage of items on KG:\\t {p_ml_small[\"movieId\"].nunique()} - {kg_movies[\"movieId\"].nunique()}''')"
   ]
  },
  {
   "cell_type": "code",
   "execution_count": 13,
   "id": "a2c4435e",
   "metadata": {},
   "outputs": [
    {
     "data": {
      "text/plain": [
       "(<cornac.data.dataset.Dataset at 0x23b584c6fc0>,\n",
       " None,\n",
       " <cornac.data.dataset.Dataset at 0x23b591a69c0>)"
      ]
     },
     "execution_count": 13,
     "metadata": {},
     "output_type": "execute_result"
    }
   ],
   "source": [
    "ds = MovieLens100K(gen_dataset=False)\n",
    "ds.load_fold(-1)"
   ]
  },
  {
   "cell_type": "code",
   "execution_count": 14,
   "id": "263862e1",
   "metadata": {},
   "outputs": [
    {
     "name": "stdout",
     "output_type": "stream",
     "text": [
      "#### Fold -1 statistics ####\n",
      "--- Training Raw Stats ---\n",
      "Number of users:\t 610\n",
      "Number of items:\t 8820\n",
      "Number of ratings:\t 80418\n",
      "Average of rating:\t 1.0\n",
      "\n",
      "--- Test Raw Stats ---\n",
      "Number of users:\t 610\n",
      "Number of items:\t 5096\n",
      "Number of ratings:\t 20103\n",
      "Average of rating:\t 1.0\n",
      "\n",
      "--- Dataset Percentage Stats ---\n",
      "Training percentage:\t 0.8000119378040409\n",
      "Test percentage:\t\t 0.19998806219595905\n",
      "Full dataset used:\t\t 1.0\n",
      "\n",
      "--- Dataset Raw Stats ---\n",
      "Total fold size:\t 100521\n",
      "Full Dataset size:\t 100521\n",
      "\n"
     ]
    }
   ],
   "source": [
    "ds.fold_percentage()"
   ]
  },
  {
   "cell_type": "markdown",
   "id": "b2af4cd0",
   "metadata": {},
   "source": [
    "### LastFM Dataset"
   ]
  },
  {
   "cell_type": "code",
   "execution_count": 15,
   "id": "81aa4c60",
   "metadata": {},
   "outputs": [
    {
     "data": {
      "application/vnd.microsoft.datawrangler.viewer.v0+json": {
       "columns": [
        {
         "name": "index",
         "rawType": "int64",
         "type": "integer"
        },
        {
         "name": "userID",
         "rawType": "int64",
         "type": "integer"
        },
        {
         "name": "artistID",
         "rawType": "int64",
         "type": "integer"
        },
        {
         "name": "weight",
         "rawType": "int64",
         "type": "integer"
        }
       ],
       "ref": "b3ce914d-cd0e-4c05-af73-e787758acc8f",
       "rows": [
        [
         "0",
         "2",
         "51",
         "13883"
        ],
        [
         "1",
         "2",
         "52",
         "11690"
        ],
        [
         "2",
         "2",
         "53",
         "11351"
        ],
        [
         "3",
         "2",
         "54",
         "10300"
        ],
        [
         "4",
         "2",
         "55",
         "8983"
        ]
       ],
       "shape": {
        "columns": 3,
        "rows": 5
       }
      },
      "text/html": [
       "<div>\n",
       "<style scoped>\n",
       "    .dataframe tbody tr th:only-of-type {\n",
       "        vertical-align: middle;\n",
       "    }\n",
       "\n",
       "    .dataframe tbody tr th {\n",
       "        vertical-align: top;\n",
       "    }\n",
       "\n",
       "    .dataframe thead th {\n",
       "        text-align: right;\n",
       "    }\n",
       "</style>\n",
       "<table border=\"1\" class=\"dataframe\">\n",
       "  <thead>\n",
       "    <tr style=\"text-align: right;\">\n",
       "      <th></th>\n",
       "      <th>userID</th>\n",
       "      <th>artistID</th>\n",
       "      <th>weight</th>\n",
       "    </tr>\n",
       "  </thead>\n",
       "  <tbody>\n",
       "    <tr>\n",
       "      <th>0</th>\n",
       "      <td>2</td>\n",
       "      <td>51</td>\n",
       "      <td>13883</td>\n",
       "    </tr>\n",
       "    <tr>\n",
       "      <th>1</th>\n",
       "      <td>2</td>\n",
       "      <td>52</td>\n",
       "      <td>11690</td>\n",
       "    </tr>\n",
       "    <tr>\n",
       "      <th>2</th>\n",
       "      <td>2</td>\n",
       "      <td>53</td>\n",
       "      <td>11351</td>\n",
       "    </tr>\n",
       "    <tr>\n",
       "      <th>3</th>\n",
       "      <td>2</td>\n",
       "      <td>54</td>\n",
       "      <td>10300</td>\n",
       "    </tr>\n",
       "    <tr>\n",
       "      <th>4</th>\n",
       "      <td>2</td>\n",
       "      <td>55</td>\n",
       "      <td>8983</td>\n",
       "    </tr>\n",
       "  </tbody>\n",
       "</table>\n",
       "</div>"
      ],
      "text/plain": [
       "   userID  artistID  weight\n",
       "0       2        51   13883\n",
       "1       2        52   11690\n",
       "2       2        53   11351\n",
       "3       2        54   10300\n",
       "4       2        55    8983"
      ]
     },
     "execution_count": 15,
     "metadata": {},
     "output_type": "execute_result"
    }
   ],
   "source": [
    "lastfm = pd.read_csv(\"./datasets/hetrec2011-lastfm-2k/user_artists.dat\", sep='\\t')\n",
    "lastfm.head()"
   ]
  },
  {
   "cell_type": "code",
   "execution_count": 16,
   "id": "74e1e5c1",
   "metadata": {},
   "outputs": [
    {
     "name": "stdout",
     "output_type": "stream",
     "text": [
      "--- Dataset Raw Stats ---\n",
      "Number of users:\t 1892\n",
      "Number of items:\t 17632\n",
      "Number of ratings:\t 92834\n"
     ]
    }
   ],
   "source": [
    "print('''--- Dataset Raw Stats ---''')\n",
    "print(f'''Number of users:\\t {lastfm[\"userID\"].nunique()}''')\n",
    "print(f'''Number of items:\\t {lastfm[\"artistID\"].nunique()}''')\n",
    "print(f'''Number of ratings:\\t {lastfm.shape[0]}''')"
   ]
  },
  {
   "cell_type": "code",
   "execution_count": 17,
   "id": "cccb4d97",
   "metadata": {},
   "outputs": [
    {
     "data": {
      "application/vnd.microsoft.datawrangler.viewer.v0+json": {
       "columns": [
        {
         "name": "index",
         "rawType": "int64",
         "type": "integer"
        },
        {
         "name": "userID",
         "rawType": "int64",
         "type": "integer"
        },
        {
         "name": "artistID",
         "rawType": "int64",
         "type": "integer"
        },
        {
         "name": "weight",
         "rawType": "int64",
         "type": "integer"
        }
       ],
       "ref": "f0225540-c90e-46ff-a9db-593d3ca7bf61",
       "rows": [
        [
         "0",
         "2",
         "51",
         "13883"
        ],
        [
         "1",
         "2",
         "52",
         "11690"
        ],
        [
         "2",
         "2",
         "53",
         "11351"
        ],
        [
         "3",
         "2",
         "54",
         "10300"
        ],
        [
         "4",
         "2",
         "55",
         "8983"
        ]
       ],
       "shape": {
        "columns": 3,
        "rows": 5
       }
      },
      "text/html": [
       "<div>\n",
       "<style scoped>\n",
       "    .dataframe tbody tr th:only-of-type {\n",
       "        vertical-align: middle;\n",
       "    }\n",
       "\n",
       "    .dataframe tbody tr th {\n",
       "        vertical-align: top;\n",
       "    }\n",
       "\n",
       "    .dataframe thead th {\n",
       "        text-align: right;\n",
       "    }\n",
       "</style>\n",
       "<table border=\"1\" class=\"dataframe\">\n",
       "  <thead>\n",
       "    <tr style=\"text-align: right;\">\n",
       "      <th></th>\n",
       "      <th>userID</th>\n",
       "      <th>artistID</th>\n",
       "      <th>weight</th>\n",
       "    </tr>\n",
       "  </thead>\n",
       "  <tbody>\n",
       "    <tr>\n",
       "      <th>0</th>\n",
       "      <td>2</td>\n",
       "      <td>51</td>\n",
       "      <td>13883</td>\n",
       "    </tr>\n",
       "    <tr>\n",
       "      <th>1</th>\n",
       "      <td>2</td>\n",
       "      <td>52</td>\n",
       "      <td>11690</td>\n",
       "    </tr>\n",
       "    <tr>\n",
       "      <th>2</th>\n",
       "      <td>2</td>\n",
       "      <td>53</td>\n",
       "      <td>11351</td>\n",
       "    </tr>\n",
       "    <tr>\n",
       "      <th>3</th>\n",
       "      <td>2</td>\n",
       "      <td>54</td>\n",
       "      <td>10300</td>\n",
       "    </tr>\n",
       "    <tr>\n",
       "      <th>4</th>\n",
       "      <td>2</td>\n",
       "      <td>55</td>\n",
       "      <td>8983</td>\n",
       "    </tr>\n",
       "  </tbody>\n",
       "</table>\n",
       "</div>"
      ],
      "text/plain": [
       "   userID  artistID  weight\n",
       "0       2        51   13883\n",
       "1       2        52   11690\n",
       "2       2        53   11351\n",
       "3       2        54   10300\n",
       "4       2        55    8983"
      ]
     },
     "execution_count": 17,
     "metadata": {},
     "output_type": "execute_result"
    }
   ],
   "source": [
    "p_lastfm = pd.read_csv(\"./datasets/hetrec2011-lastfm-2k/ratings_processed.csv\")\n",
    "p_lastfm.head()"
   ]
  },
  {
   "cell_type": "code",
   "execution_count": 18,
   "id": "9d099ffe",
   "metadata": {},
   "outputs": [
    {
     "name": "stdout",
     "output_type": "stream",
     "text": [
      "--- Processed Raw Stats ---\n",
      "Number of users:\t 1884\n",
      "Number of items:\t 11646\n",
      "Number of ratings:\t 83038\n"
     ]
    }
   ],
   "source": [
    "print('''--- Processed Raw Stats ---''')\n",
    "print(f'''Number of users:\\t {p_lastfm[\"userID\"].nunique()}''')\n",
    "print(f'''Number of items:\\t {p_lastfm[\"artistID\"].nunique()}''')\n",
    "print(f'''Number of ratings:\\t {p_lastfm.shape[0]}''')"
   ]
  },
  {
   "cell_type": "code",
   "execution_count": 19,
   "id": "e85036c4",
   "metadata": {},
   "outputs": [
    {
     "name": "stdout",
     "output_type": "stream",
     "text": [
      " Percentage of Data Remained:\t 89.44783161341749\n"
     ]
    }
   ],
   "source": [
    "print(f''' Percentage of Data Remained:\\t {p_lastfm.shape[0] / lastfm.shape[0] * 100}''') "
   ]
  },
  {
   "cell_type": "code",
   "execution_count": 20,
   "id": "9f3b1ebd",
   "metadata": {},
   "outputs": [
    {
     "data": {
      "application/vnd.microsoft.datawrangler.viewer.v0+json": {
       "columns": [
        {
         "name": "index",
         "rawType": "int64",
         "type": "integer"
        },
        {
         "name": "id",
         "rawType": "int64",
         "type": "integer"
        },
        {
         "name": "artist",
         "rawType": "object",
         "type": "string"
        },
        {
         "name": "prop",
         "rawType": "object",
         "type": "string"
        },
        {
         "name": "obj",
         "rawType": "object",
         "type": "string"
        },
        {
         "name": "wiki_id",
         "rawType": "object",
         "type": "string"
        },
        {
         "name": "name",
         "rawType": "object",
         "type": "string"
        }
       ],
       "ref": "896d2c6a-9fed-4d78-bc7a-9ae020e499ae",
       "rows": [
        [
         "0",
         "1",
         "Malice Mizer",
         "work period (start)",
         "1992-01-01T00:00:00Z",
         "Q853545",
         "MALICE MIZER"
        ],
        [
         "1",
         "1",
         "Malice Mizer",
         "has part",
         "Mana",
         "Q853545",
         "MALICE MIZER"
        ],
        [
         "2",
         "1",
         "Malice Mizer",
         "country of origin",
         "Japan",
         "Q853545",
         "MALICE MIZER"
        ],
        [
         "3",
         "1",
         "Malice Mizer",
         "record label",
         "Nippon Columbia",
         "Q853545",
         "MALICE MIZER"
        ],
        [
         "4",
         "1",
         "Malice Mizer",
         "record label",
         "Columbia Records",
         "Q853545",
         "MALICE MIZER"
        ],
        [
         "5",
         "1",
         "Malice Mizer",
         "genre",
         "art rock",
         "Q853545",
         "MALICE MIZER"
        ],
        [
         "6",
         "1",
         "Malice Mizer",
         "genre",
         "progressive rock",
         "Q853545",
         "MALICE MIZER"
        ],
        [
         "7",
         "1",
         "Malice Mizer",
         "inception",
         "1992-01-01T00:00:00Z",
         "Q853545",
         "MALICE MIZER"
        ],
        [
         "8",
         "2",
         "Diary of Dreams",
         "work period (start)",
         "1989-01-01T00:00:00Z",
         "Q703936",
         "Diary of Dreams"
        ],
        [
         "9",
         "2",
         "Diary of Dreams",
         "location of formation",
         "Düsseldorf",
         "Q703936",
         "Diary of Dreams"
        ],
        [
         "10",
         "2",
         "Diary of Dreams",
         "country of origin",
         "Germany",
         "Q703936",
         "Diary of Dreams"
        ],
        [
         "11",
         "2",
         "Diary of Dreams",
         "record label",
         "Accession Records",
         "Q703936",
         "Diary of Dreams"
        ],
        [
         "12",
         "2",
         "Diary of Dreams",
         "genre",
         "dark wave",
         "Q703936",
         "Diary of Dreams"
        ],
        [
         "13",
         "2",
         "Diary of Dreams",
         "genre",
         "electro-industrial",
         "Q703936",
         "Diary of Dreams"
        ],
        [
         "14",
         "2",
         "Diary of Dreams",
         "country",
         "Germany",
         "Q703936",
         "Diary of Dreams"
        ],
        [
         "15",
         "3",
         "Carpathian Forest",
         "record label",
         "Avantgarde Music",
         "Q160111",
         "Carpathian Forest"
        ],
        [
         "16",
         "3",
         "Carpathian Forest",
         "genre",
         "black metal",
         "Q160111",
         "Carpathian Forest"
        ],
        [
         "17",
         "3",
         "Carpathian Forest",
         "has part",
         "Nattefrost",
         "Q160111",
         "Carpathian Forest"
        ],
        [
         "18",
         "3",
         "Carpathian Forest",
         "inception",
         "1990-01-01T00:00:00Z",
         "Q160111",
         "Carpathian Forest"
        ],
        [
         "19",
         "3",
         "Carpathian Forest",
         "country of origin",
         "Norway",
         "Q160111",
         "Carpathian Forest"
        ],
        [
         "20",
         "3",
         "Carpathian Forest",
         "location of formation",
         "Sandnes",
         "Q160111",
         "Carpathian Forest"
        ],
        [
         "21",
         "3",
         "Carpathian Forest",
         "work period (start)",
         "1990-01-01T00:00:00Z",
         "Q160111",
         "Carpathian Forest"
        ],
        [
         "22",
         "4",
         "Moi dix Mois",
         "country",
         "Japan",
         "Q163604",
         "Moi dix Mois"
        ],
        [
         "23",
         "4",
         "Moi dix Mois",
         "has part",
         "Mana",
         "Q163604",
         "Moi dix Mois"
        ],
        [
         "24",
         "4",
         "Moi dix Mois",
         "genre",
         "symphonic metal",
         "Q163604",
         "Moi dix Mois"
        ],
        [
         "25",
         "4",
         "Moi dix Mois",
         "record label",
         "Midi:Nette M.†.M",
         "Q163604",
         "Moi dix Mois"
        ],
        [
         "26",
         "4",
         "Moi dix Mois",
         "country of origin",
         "Japan",
         "Q163604",
         "Moi dix Mois"
        ],
        [
         "27",
         "4",
         "Moi dix Mois",
         "inception",
         "2002-01-01T00:00:00Z",
         "Q163604",
         "Moi dix Mois"
        ],
        [
         "28",
         "4",
         "Moi dix Mois",
         "location of formation",
         "Japan",
         "Q163604",
         "Moi dix Mois"
        ],
        [
         "29",
         "4",
         "Moi dix Mois",
         "work period (start)",
         "2002-01-01T00:00:00Z",
         "Q163604",
         "Moi dix Mois"
        ],
        [
         "30",
         "4",
         "Moi dix Mois",
         "genre",
         "gothic metal",
         "Q163604",
         "Moi dix Mois"
        ],
        [
         "31",
         "5",
         "Bella Morte",
         "work period (start)",
         "1996-01-01T00:00:00Z",
         "Q2290242",
         "Bella Morte"
        ],
        [
         "32",
         "5",
         "Bella Morte",
         "country",
         "United States of America",
         "Q2290242",
         "Bella Morte"
        ],
        [
         "33",
         "5",
         "Bella Morte",
         "genre",
         "punk rock",
         "Q2290242",
         "Bella Morte"
        ],
        [
         "34",
         "5",
         "Bella Morte",
         "genre",
         "dark wave",
         "Q2290242",
         "Bella Morte"
        ],
        [
         "35",
         "5",
         "Bella Morte",
         "record label",
         "Metropolis Records",
         "Q2290242",
         "Bella Morte"
        ],
        [
         "36",
         "5",
         "Bella Morte",
         "country of origin",
         "United States of America",
         "Q2290242",
         "Bella Morte"
        ],
        [
         "37",
         "5",
         "Bella Morte",
         "inception",
         "1996-01-01T00:00:00Z",
         "Q2290242",
         "Bella Morte"
        ],
        [
         "38",
         "5",
         "Bella Morte",
         "languages spoken, written or signed",
         "English",
         "Q2290242",
         "Bella Morte"
        ],
        [
         "39",
         "5",
         "Bella Morte",
         "location of formation",
         "Charlottesville",
         "Q2290242",
         "Bella Morte"
        ],
        [
         "40",
         "6",
         "Moonspell",
         "country of origin",
         "Portugal",
         "Q914074",
         "Moonspell"
        ],
        [
         "41",
         "6",
         "Moonspell",
         "record label",
         "Napalm Records",
         "Q914074",
         "Moonspell"
        ],
        [
         "42",
         "6",
         "Moonspell",
         "has part",
         "Fernando Ribeiro",
         "Q914074",
         "Moonspell"
        ],
        [
         "43",
         "6",
         "Moonspell",
         "has part",
         "Aires Pereira",
         "Q914074",
         "Moonspell"
        ],
        [
         "44",
         "6",
         "Moonspell",
         "has part",
         "Pedro Paixão",
         "Q914074",
         "Moonspell"
        ],
        [
         "45",
         "6",
         "Moonspell",
         "has part",
         "Ricardo Amorim",
         "Q914074",
         "Moonspell"
        ],
        [
         "46",
         "6",
         "Moonspell",
         "inception",
         "1992-01-01T00:00:00Z",
         "Q914074",
         "Moonspell"
        ],
        [
         "47",
         "6",
         "Moonspell",
         "location of formation",
         "Amadora",
         "Q914074",
         "Moonspell"
        ],
        [
         "48",
         "6",
         "Moonspell",
         "work period (start)",
         "1992-01-01T00:00:00Z",
         "Q914074",
         "Moonspell"
        ],
        [
         "49",
         "6",
         "Moonspell",
         "genre",
         "gothic metal",
         "Q914074",
         "Moonspell"
        ]
       ],
       "shape": {
        "columns": 6,
        "rows": 134197
       }
      },
      "text/html": [
       "<div>\n",
       "<style scoped>\n",
       "    .dataframe tbody tr th:only-of-type {\n",
       "        vertical-align: middle;\n",
       "    }\n",
       "\n",
       "    .dataframe tbody tr th {\n",
       "        vertical-align: top;\n",
       "    }\n",
       "\n",
       "    .dataframe thead th {\n",
       "        text-align: right;\n",
       "    }\n",
       "</style>\n",
       "<table border=\"1\" class=\"dataframe\">\n",
       "  <thead>\n",
       "    <tr style=\"text-align: right;\">\n",
       "      <th></th>\n",
       "      <th>id</th>\n",
       "      <th>artist</th>\n",
       "      <th>prop</th>\n",
       "      <th>obj</th>\n",
       "      <th>wiki_id</th>\n",
       "      <th>name</th>\n",
       "    </tr>\n",
       "  </thead>\n",
       "  <tbody>\n",
       "    <tr>\n",
       "      <th>0</th>\n",
       "      <td>1</td>\n",
       "      <td>Malice Mizer</td>\n",
       "      <td>work period (start)</td>\n",
       "      <td>1992-01-01T00:00:00Z</td>\n",
       "      <td>Q853545</td>\n",
       "      <td>MALICE MIZER</td>\n",
       "    </tr>\n",
       "    <tr>\n",
       "      <th>1</th>\n",
       "      <td>1</td>\n",
       "      <td>Malice Mizer</td>\n",
       "      <td>has part</td>\n",
       "      <td>Mana</td>\n",
       "      <td>Q853545</td>\n",
       "      <td>MALICE MIZER</td>\n",
       "    </tr>\n",
       "    <tr>\n",
       "      <th>2</th>\n",
       "      <td>1</td>\n",
       "      <td>Malice Mizer</td>\n",
       "      <td>country of origin</td>\n",
       "      <td>Japan</td>\n",
       "      <td>Q853545</td>\n",
       "      <td>MALICE MIZER</td>\n",
       "    </tr>\n",
       "    <tr>\n",
       "      <th>3</th>\n",
       "      <td>1</td>\n",
       "      <td>Malice Mizer</td>\n",
       "      <td>record label</td>\n",
       "      <td>Nippon Columbia</td>\n",
       "      <td>Q853545</td>\n",
       "      <td>MALICE MIZER</td>\n",
       "    </tr>\n",
       "    <tr>\n",
       "      <th>4</th>\n",
       "      <td>1</td>\n",
       "      <td>Malice Mizer</td>\n",
       "      <td>record label</td>\n",
       "      <td>Columbia Records</td>\n",
       "      <td>Q853545</td>\n",
       "      <td>MALICE MIZER</td>\n",
       "    </tr>\n",
       "    <tr>\n",
       "      <th>...</th>\n",
       "      <td>...</td>\n",
       "      <td>...</td>\n",
       "      <td>...</td>\n",
       "      <td>...</td>\n",
       "      <td>...</td>\n",
       "      <td>...</td>\n",
       "    </tr>\n",
       "    <tr>\n",
       "      <th>134192</th>\n",
       "      <td>18517</td>\n",
       "      <td>V Factory</td>\n",
       "      <td>has part</td>\n",
       "      <td>Jared Murillo</td>\n",
       "      <td>Q3305177</td>\n",
       "      <td>V Factory</td>\n",
       "    </tr>\n",
       "    <tr>\n",
       "      <th>134193</th>\n",
       "      <td>18517</td>\n",
       "      <td>V Factory</td>\n",
       "      <td>country of origin</td>\n",
       "      <td>United States of America</td>\n",
       "      <td>Q3305177</td>\n",
       "      <td>V Factory</td>\n",
       "    </tr>\n",
       "    <tr>\n",
       "      <th>134194</th>\n",
       "      <td>18517</td>\n",
       "      <td>V Factory</td>\n",
       "      <td>record label</td>\n",
       "      <td>Warner Bros. Records</td>\n",
       "      <td>Q3305177</td>\n",
       "      <td>V Factory</td>\n",
       "    </tr>\n",
       "    <tr>\n",
       "      <th>134195</th>\n",
       "      <td>18517</td>\n",
       "      <td>V Factory</td>\n",
       "      <td>genre</td>\n",
       "      <td>rhythm and blues</td>\n",
       "      <td>Q3305177</td>\n",
       "      <td>V Factory</td>\n",
       "    </tr>\n",
       "    <tr>\n",
       "      <th>134196</th>\n",
       "      <td>18517</td>\n",
       "      <td>V Factory</td>\n",
       "      <td>work period (start)</td>\n",
       "      <td>2006-01-01T00:00:00Z</td>\n",
       "      <td>Q3305177</td>\n",
       "      <td>V Factory</td>\n",
       "    </tr>\n",
       "  </tbody>\n",
       "</table>\n",
       "<p>134197 rows × 6 columns</p>\n",
       "</div>"
      ],
      "text/plain": [
       "           id        artist                 prop                       obj  \\\n",
       "0           1  Malice Mizer  work period (start)      1992-01-01T00:00:00Z   \n",
       "1           1  Malice Mizer             has part                      Mana   \n",
       "2           1  Malice Mizer    country of origin                     Japan   \n",
       "3           1  Malice Mizer         record label           Nippon Columbia   \n",
       "4           1  Malice Mizer         record label          Columbia Records   \n",
       "...       ...           ...                  ...                       ...   \n",
       "134192  18517     V Factory             has part             Jared Murillo   \n",
       "134193  18517     V Factory    country of origin  United States of America   \n",
       "134194  18517     V Factory         record label      Warner Bros. Records   \n",
       "134195  18517     V Factory                genre          rhythm and blues   \n",
       "134196  18517     V Factory  work period (start)      2006-01-01T00:00:00Z   \n",
       "\n",
       "         wiki_id          name  \n",
       "0        Q853545  MALICE MIZER  \n",
       "1        Q853545  MALICE MIZER  \n",
       "2        Q853545  MALICE MIZER  \n",
       "3        Q853545  MALICE MIZER  \n",
       "4        Q853545  MALICE MIZER  \n",
       "...          ...           ...  \n",
       "134192  Q3305177     V Factory  \n",
       "134193  Q3305177     V Factory  \n",
       "134194  Q3305177     V Factory  \n",
       "134195  Q3305177     V Factory  \n",
       "134196  Q3305177     V Factory  \n",
       "\n",
       "[134197 rows x 6 columns]"
      ]
     },
     "execution_count": 20,
     "metadata": {},
     "output_type": "execute_result"
    }
   ],
   "source": [
    "kg_artist = pd.read_csv(\"./knowledge-graphs/props_artists_id.csv\")\n",
    "kg_artist"
   ]
  },
  {
   "cell_type": "code",
   "execution_count": 21,
   "id": "72601622",
   "metadata": {},
   "outputs": [
    {
     "name": "stdout",
     "output_type": "stream",
     "text": [
      "--- KG Stats ---\n",
      "Number of items:\t 11646\n",
      "Number of prop:\t\t 33\n",
      "Number of obj:\t\t 23001\n",
      "N triplet:\t\t 134197\n"
     ]
    }
   ],
   "source": [
    "print('''--- KG Stats ---''')\n",
    "print(f'''Number of items:\\t {kg_artist[\"id\"].nunique()}''')\n",
    "print(f'''Number of prop:\\t\\t {kg_artist[\"prop\"].nunique()}''')\n",
    "print(f'''Number of obj:\\t\\t {kg_artist[\"obj\"].nunique()}''')\n",
    "print(f'''N triplet:\\t\\t {kg_artist.shape[0]}''')"
   ]
  },
  {
   "cell_type": "code",
   "execution_count": 22,
   "id": "2219400f",
   "metadata": {},
   "outputs": [
    {
     "name": "stdout",
     "output_type": "stream",
     "text": [
      "Percentage of items on KG:\t 0.6605036297640653\n"
     ]
    }
   ],
   "source": [
    "print(f'''Percentage of items on KG:\\t {kg_artist[\"id\"].nunique()/lastfm[\"artistID\"].nunique()}''')"
   ]
  },
  {
   "cell_type": "code",
   "execution_count": 23,
   "id": "40718c88",
   "metadata": {},
   "outputs": [
    {
     "data": {
      "text/plain": [
       "(<cornac.data.dataset.Dataset at 0x23b556d7170>,\n",
       " None,\n",
       " <cornac.data.dataset.Dataset at 0x23b583bf350>)"
      ]
     },
     "execution_count": 23,
     "metadata": {},
     "output_type": "execute_result"
    }
   ],
   "source": [
    "ds = LastFM(gen_dataset=False)\n",
    "ds.load_fold(-1)"
   ]
  },
  {
   "cell_type": "code",
   "execution_count": 24,
   "id": "7ded48c1",
   "metadata": {},
   "outputs": [
    {
     "name": "stdout",
     "output_type": "stream",
     "text": [
      "#### Fold -1 statistics ####\n",
      "--- Training Raw Stats ---\n",
      "Number of users:\t 1884\n",
      "Number of items:\t 10395\n",
      "Number of ratings:\t 66357\n",
      "Average of rating:\t 1.0\n",
      "\n",
      "--- Test Raw Stats ---\n",
      "Number of users:\t 1880\n",
      "Number of items:\t 4899\n",
      "Number of ratings:\t 16681\n",
      "Average of rating:\t 1.0\n",
      "\n",
      "--- Dataset Percentage Stats ---\n",
      "Training percentage:\t 0.7991160673426624\n",
      "Test percentage:\t\t 0.20088393265733762\n",
      "Full dataset used:\t\t 1.0\n",
      "\n",
      "--- Dataset Raw Stats ---\n",
      "Total fold size:\t 83038\n",
      "Full Dataset size:\t 83038\n",
      "\n"
     ]
    }
   ],
   "source": [
    "ds.fold_percentage()"
   ]
  }
 ],
 "metadata": {
  "kernelspec": {
   "display_name": "recsys",
   "language": "python",
   "name": "python3"
  },
  "language_info": {
   "codemirror_mode": {
    "name": "ipython",
    "version": 3
   },
   "file_extension": ".py",
   "mimetype": "text/x-python",
   "name": "python",
   "nbconvert_exporter": "python",
   "pygments_lexer": "ipython3",
   "version": "3.12.3"
  }
 },
 "nbformat": 4,
 "nbformat_minor": 5
}

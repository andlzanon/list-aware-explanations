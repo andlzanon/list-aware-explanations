{
 "cells": [
  {
   "cell_type": "code",
   "execution_count": 1,
   "id": "69aad4cf",
   "metadata": {},
   "outputs": [],
   "source": [
    "import cornac\n",
    "from cornac.data import Reader, Dataset\n",
    "from recommenders.evaluation.python_evaluation import map, ndcg_at_k, precision_at_k, recall_at_k\n",
    "from recommenders.models.cornac.cornac_utils import predict_ranking\n",
    "import pandas as pd"
   ]
  },
  {
   "cell_type": "code",
   "execution_count": 2,
   "id": "57e5d8aa",
   "metadata": {},
   "outputs": [],
   "source": [
    "reader = Reader(bin_threshold=0)\n",
    "train = pd.read_csv(\"../datasets/ml-latest-small/stratified_split\" + '''/train.csv''', sep=',', dtype='object')\n",
    "test = pd.read_csv(\"../datasets/ml-latest-small/stratified_split\" + '''/test.csv''', sep=',', dtype='object')\n",
    "train_set = Dataset.from_uirt(reader.read(\"../datasets/ml-latest-small/stratified_split\" + '''/train.csv''', sep=',', skip_lines=1, fmt=\"UIRT\"))\n",
    "test_set = Dataset.from_uirt(reader.read(\"../datasets/ml-latest-small/stratified_split\" + '''/test.csv''', sep=',', skip_lines=1, fmt=\"UIRT\"))"
   ]
  },
  {
   "cell_type": "code",
   "execution_count": 3,
   "id": "60d94aeb",
   "metadata": {},
   "outputs": [],
   "source": [
    "bpr = cornac.models.BPR(k=200, max_iter=200, learning_rate=0.01, lambda_reg=1e-3, seed=42, verbose=True)"
   ]
  },
  {
   "cell_type": "code",
   "execution_count": 4,
   "id": "8d0d262c",
   "metadata": {},
   "outputs": [
    {
     "data": {
      "application/vnd.jupyter.widget-view+json": {
       "model_id": "76a021a4c13140e3bb44836a554367f8",
       "version_major": 2,
       "version_minor": 0
      },
      "text/plain": [
       "  0%|          | 0/200 [00:00<?, ?it/s]"
      ]
     },
     "metadata": {},
     "output_type": "display_data"
    },
    {
     "name": "stdout",
     "output_type": "stream",
     "text": [
      "Optimization finished!\n"
     ]
    },
    {
     "data": {
      "text/plain": [
       "<cornac.models.bpr.recom_bpr.BPR at 0x2e37c47a120>"
      ]
     },
     "execution_count": 4,
     "metadata": {},
     "output_type": "execute_result"
    }
   ],
   "source": [
    "bpr.fit(train_set=train_set)"
   ]
  },
  {
   "cell_type": "code",
   "execution_count": 5,
   "id": "6d400de3",
   "metadata": {},
   "outputs": [
    {
     "data": {
      "application/vnd.microsoft.datawrangler.viewer.v0+json": {
       "columns": [
        {
         "name": "index",
         "rawType": "int64",
         "type": "integer"
        },
        {
         "name": "userId",
         "rawType": "object",
         "type": "string"
        },
        {
         "name": "movieId",
         "rawType": "object",
         "type": "string"
        },
        {
         "name": "prediction",
         "rawType": "float64",
         "type": "float"
        }
       ],
       "ref": "065b74f5-3865-4da4-bd38-59d39e2a6e09",
       "rows": [
        [
         "1",
         "1",
         "10",
         "5.828435897827148"
        ],
        [
         "2",
         "1",
         "100",
         "1.077690601348877"
        ],
        [
         "3",
         "1",
         "100044",
         "-1.8505196571350098"
        ],
        [
         "4",
         "1",
         "100068",
         "-0.5974873900413513"
        ],
        [
         "5",
         "1",
         "100083",
         "-2.710454225540161"
        ],
        [
         "6",
         "1",
         "100159",
         "-1.8434072732925415"
        ],
        [
         "7",
         "1",
         "100163",
         "-2.100820541381836"
        ],
        [
         "8",
         "1",
         "100226",
         "-1.2437143325805664"
        ],
        [
         "9",
         "1",
         "100277",
         "-1.9635343551635742"
        ],
        [
         "10",
         "1",
         "1003",
         "-0.7465612292289734"
        ],
        [
         "11",
         "1",
         "100302",
         "-2.844395399093628"
        ],
        [
         "12",
         "1",
         "100304",
         "-1.2682029008865356"
        ],
        [
         "13",
         "1",
         "100306",
         "-0.565487265586853"
        ],
        [
         "14",
         "1",
         "100326",
         "-1.1728861331939697"
        ],
        [
         "15",
         "1",
         "100383",
         "-2.81754732131958"
        ],
        [
         "16",
         "1",
         "100390",
         "-3.3800485134124756"
        ],
        [
         "17",
         "1",
         "1004",
         "1.9561176300048828"
        ],
        [
         "18",
         "1",
         "100487",
         "-1.1832679510116577"
        ],
        [
         "19",
         "1",
         "100498",
         "-1.3272565603256226"
        ],
        [
         "20",
         "1",
         "1005",
         "3.2980329990386963"
        ],
        [
         "21",
         "1",
         "100507",
         "-2.9517922401428223"
        ],
        [
         "22",
         "1",
         "100527",
         "-2.7385101318359375"
        ],
        [
         "23",
         "1",
         "100553",
         "-2.9264450073242188"
        ],
        [
         "24",
         "1",
         "100579",
         "-2.018731117248535"
        ],
        [
         "25",
         "1",
         "1006",
         "-0.42738407850265503"
        ],
        [
         "26",
         "1",
         "100611",
         "-2.677950382232666"
        ],
        [
         "27",
         "1",
         "1007",
         "3.5668139457702637"
        ],
        [
         "28",
         "1",
         "100714",
         "-3.5153322219848633"
        ],
        [
         "29",
         "1",
         "100737",
         "-2.2090322971343994"
        ],
        [
         "30",
         "1",
         "100810",
         "-2.474252700805664"
        ],
        [
         "31",
         "1",
         "100882",
         "-3.167717933654785"
        ],
        [
         "33",
         "1",
         "100906",
         "-1.947083592414856"
        ],
        [
         "35",
         "1",
         "1010",
         "2.77638578414917"
        ],
        [
         "36",
         "1",
         "101025",
         "-1.4528391361236572"
        ],
        [
         "37",
         "1",
         "101070",
         "-3.021329641342163"
        ],
        [
         "38",
         "1",
         "101072",
         "-2.7025957107543945"
        ],
        [
         "39",
         "1",
         "101074",
         "-1.3588151931762695"
        ],
        [
         "40",
         "1",
         "101076",
         "-0.6336405873298645"
        ],
        [
         "41",
         "1",
         "101088",
         "-3.0178844928741455"
        ],
        [
         "42",
         "1",
         "1011",
         "2.385298252105713"
        ],
        [
         "43",
         "1",
         "101112",
         "-3.4116504192352295"
        ],
        [
         "44",
         "1",
         "101142",
         "-2.2810416221618652"
        ],
        [
         "45",
         "1",
         "1012",
         "2.6996660232543945"
        ],
        [
         "46",
         "1",
         "101283",
         "-1.405773639678955"
        ],
        [
         "47",
         "1",
         "1013",
         "2.478942632675171"
        ],
        [
         "48",
         "1",
         "101360",
         "-1.1002165079116821"
        ],
        [
         "49",
         "1",
         "101362",
         "-1.039033055305481"
        ],
        [
         "50",
         "1",
         "1014",
         "2.2132468223571777"
        ],
        [
         "51",
         "1",
         "101415",
         "-1.1711010932922363"
        ],
        [
         "52",
         "1",
         "101423",
         "-1.3225717544555664"
        ]
       ],
       "shape": {
        "columns": 3,
        "rows": 5299782
       }
      },
      "text/html": [
       "<div>\n",
       "<style scoped>\n",
       "    .dataframe tbody tr th:only-of-type {\n",
       "        vertical-align: middle;\n",
       "    }\n",
       "\n",
       "    .dataframe tbody tr th {\n",
       "        vertical-align: top;\n",
       "    }\n",
       "\n",
       "    .dataframe thead th {\n",
       "        text-align: right;\n",
       "    }\n",
       "</style>\n",
       "<table border=\"1\" class=\"dataframe\">\n",
       "  <thead>\n",
       "    <tr style=\"text-align: right;\">\n",
       "      <th></th>\n",
       "      <th>userId</th>\n",
       "      <th>movieId</th>\n",
       "      <th>prediction</th>\n",
       "    </tr>\n",
       "  </thead>\n",
       "  <tbody>\n",
       "    <tr>\n",
       "      <th>1</th>\n",
       "      <td>1</td>\n",
       "      <td>10</td>\n",
       "      <td>5.828436</td>\n",
       "    </tr>\n",
       "    <tr>\n",
       "      <th>2</th>\n",
       "      <td>1</td>\n",
       "      <td>100</td>\n",
       "      <td>1.077691</td>\n",
       "    </tr>\n",
       "    <tr>\n",
       "      <th>3</th>\n",
       "      <td>1</td>\n",
       "      <td>100044</td>\n",
       "      <td>-1.850520</td>\n",
       "    </tr>\n",
       "    <tr>\n",
       "      <th>4</th>\n",
       "      <td>1</td>\n",
       "      <td>100068</td>\n",
       "      <td>-0.597487</td>\n",
       "    </tr>\n",
       "    <tr>\n",
       "      <th>5</th>\n",
       "      <td>1</td>\n",
       "      <td>100083</td>\n",
       "      <td>-2.710454</td>\n",
       "    </tr>\n",
       "    <tr>\n",
       "      <th>...</th>\n",
       "      <td>...</td>\n",
       "      <td>...</td>\n",
       "      <td>...</td>\n",
       "    </tr>\n",
       "    <tr>\n",
       "      <th>5380195</th>\n",
       "      <td>99</td>\n",
       "      <td>99853</td>\n",
       "      <td>-0.555906</td>\n",
       "    </tr>\n",
       "    <tr>\n",
       "      <th>5380196</th>\n",
       "      <td>99</td>\n",
       "      <td>999</td>\n",
       "      <td>1.657978</td>\n",
       "    </tr>\n",
       "    <tr>\n",
       "      <th>5380197</th>\n",
       "      <td>99</td>\n",
       "      <td>99910</td>\n",
       "      <td>-1.207250</td>\n",
       "    </tr>\n",
       "    <tr>\n",
       "      <th>5380198</th>\n",
       "      <td>99</td>\n",
       "      <td>99917</td>\n",
       "      <td>-0.417304</td>\n",
       "    </tr>\n",
       "    <tr>\n",
       "      <th>5380199</th>\n",
       "      <td>99</td>\n",
       "      <td>99992</td>\n",
       "      <td>-0.910138</td>\n",
       "    </tr>\n",
       "  </tbody>\n",
       "</table>\n",
       "<p>5299782 rows × 3 columns</p>\n",
       "</div>"
      ],
      "text/plain": [
       "        userId movieId  prediction\n",
       "1            1      10    5.828436\n",
       "2            1     100    1.077691\n",
       "3            1  100044   -1.850520\n",
       "4            1  100068   -0.597487\n",
       "5            1  100083   -2.710454\n",
       "...        ...     ...         ...\n",
       "5380195     99   99853   -0.555906\n",
       "5380196     99     999    1.657978\n",
       "5380197     99   99910   -1.207250\n",
       "5380198     99   99917   -0.417304\n",
       "5380199     99   99992   -0.910138\n",
       "\n",
       "[5299782 rows x 3 columns]"
      ]
     },
     "execution_count": 5,
     "metadata": {},
     "output_type": "execute_result"
    }
   ],
   "source": [
    "all_predictions = predict_ranking(bpr, train, usercol='userId', itemcol='movieId', predcol='prediction', remove_seen=True)\n",
    "all_predictions"
   ]
  },
  {
   "cell_type": "code",
   "execution_count": 6,
   "id": "984c4388",
   "metadata": {},
   "outputs": [
    {
     "name": "stdout",
     "output_type": "stream",
     "text": [
      "NDCG@5: 0.2771635087571633\n",
      "NDCG@10: 0.26402331482342045\n",
      "NDCG@20: 0.2586989322310322\n",
      "NDCG@30: 0.2645775324719106\n",
      "NDCG@50: 0.2837745895461244\n",
      "NDCG@100: 0.3191461225806324\n"
     ]
    }
   ],
   "source": [
    "k_list = [5, 10, 20, 30, 50, 100]\n",
    "for k in k_list:\n",
    "    eval_ndcg = ndcg_at_k(test, all_predictions, col_user='userId',\n",
    "        col_item='movieId',\n",
    "        col_prediction='prediction', k=k)\n",
    "\n",
    "    print(f'''NDCG@{k}: {eval_ndcg}''')"
   ]
  },
  {
   "cell_type": "code",
   "execution_count": 7,
   "id": "02780cde",
   "metadata": {},
   "outputs": [
    {
     "name": "stdout",
     "output_type": "stream",
     "text": [
      "NDCG@10: 0.26402331482342045\n",
      "MAP@10: 0.06652183905982624\n",
      "Precision@10: 0.23770491803278687\n",
      "Recall@10: 0.11925884665384252\n"
     ]
    }
   ],
   "source": [
    "k = 10\n",
    "eval_map = map(test, all_predictions, col_user='userId',\n",
    "    col_item='movieId',\n",
    "    col_prediction='prediction', k=k)\n",
    "eval_precision = precision_at_k(test, all_predictions, col_user='userId',\n",
    "    col_item='movieId', col_prediction='prediction', k=k)\n",
    "eval_recall = recall_at_k(test, all_predictions, col_user='userId',\n",
    "    col_item='movieId', col_prediction='prediction', k=k)\n",
    "eval_ndcg = ndcg_at_k(test, all_predictions, col_user='userId',\n",
    "    col_item='movieId',\n",
    "    col_prediction='prediction', k=k)\n",
    "\n",
    "print(f'''NDCG@{k}: {eval_ndcg}''')\n",
    "print(f'''MAP@{k}: {eval_map}''')\n",
    "print(f'''Precision@{k}: {eval_precision}''')\n",
    "print(f'''Recall@{k}: {eval_recall}''')"
   ]
  }
 ],
 "metadata": {
  "kernelspec": {
   "display_name": "recsys",
   "language": "python",
   "name": "python3"
  },
  "language_info": {
   "codemirror_mode": {
    "name": "ipython",
    "version": 3
   },
   "file_extension": ".py",
   "mimetype": "text/x-python",
   "name": "python",
   "nbconvert_exporter": "python",
   "pygments_lexer": "ipython3",
   "version": "3.12.3"
  }
 },
 "nbformat": 4,
 "nbformat_minor": 5
}

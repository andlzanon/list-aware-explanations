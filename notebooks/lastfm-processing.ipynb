{
 "cells": [
  {
   "cell_type": "code",
   "execution_count": 1,
   "id": "c95e9aa9",
   "metadata": {},
   "outputs": [],
   "source": [
    "import numpy as np\n",
    "import pandas as pd\n"
   ]
  },
  {
   "cell_type": "code",
   "execution_count": 2,
   "id": "867a7a7d",
   "metadata": {},
   "outputs": [
    {
     "data": {
      "application/vnd.microsoft.datawrangler.viewer.v0+json": {
       "columns": [
        {
         "name": "index",
         "rawType": "int64",
         "type": "integer"
        },
        {
         "name": "userID",
         "rawType": "int64",
         "type": "integer"
        },
        {
         "name": "artistID",
         "rawType": "int64",
         "type": "integer"
        },
        {
         "name": "weight",
         "rawType": "int64",
         "type": "integer"
        }
       ],
       "ref": "bb8b882b-c088-43be-a1cf-cf4aa9492184",
       "rows": [
        [
         "0",
         "2",
         "51",
         "13883"
        ],
        [
         "1",
         "2",
         "52",
         "11690"
        ],
        [
         "2",
         "2",
         "53",
         "11351"
        ],
        [
         "3",
         "2",
         "54",
         "10300"
        ],
        [
         "4",
         "2",
         "55",
         "8983"
        ]
       ],
       "shape": {
        "columns": 3,
        "rows": 5
       }
      },
      "text/html": [
       "<div>\n",
       "<style scoped>\n",
       "    .dataframe tbody tr th:only-of-type {\n",
       "        vertical-align: middle;\n",
       "    }\n",
       "\n",
       "    .dataframe tbody tr th {\n",
       "        vertical-align: top;\n",
       "    }\n",
       "\n",
       "    .dataframe thead th {\n",
       "        text-align: right;\n",
       "    }\n",
       "</style>\n",
       "<table border=\"1\" class=\"dataframe\">\n",
       "  <thead>\n",
       "    <tr style=\"text-align: right;\">\n",
       "      <th></th>\n",
       "      <th>userID</th>\n",
       "      <th>artistID</th>\n",
       "      <th>weight</th>\n",
       "    </tr>\n",
       "  </thead>\n",
       "  <tbody>\n",
       "    <tr>\n",
       "      <th>0</th>\n",
       "      <td>2</td>\n",
       "      <td>51</td>\n",
       "      <td>13883</td>\n",
       "    </tr>\n",
       "    <tr>\n",
       "      <th>1</th>\n",
       "      <td>2</td>\n",
       "      <td>52</td>\n",
       "      <td>11690</td>\n",
       "    </tr>\n",
       "    <tr>\n",
       "      <th>2</th>\n",
       "      <td>2</td>\n",
       "      <td>53</td>\n",
       "      <td>11351</td>\n",
       "    </tr>\n",
       "    <tr>\n",
       "      <th>3</th>\n",
       "      <td>2</td>\n",
       "      <td>54</td>\n",
       "      <td>10300</td>\n",
       "    </tr>\n",
       "    <tr>\n",
       "      <th>4</th>\n",
       "      <td>2</td>\n",
       "      <td>55</td>\n",
       "      <td>8983</td>\n",
       "    </tr>\n",
       "  </tbody>\n",
       "</table>\n",
       "</div>"
      ],
      "text/plain": [
       "   userID  artistID  weight\n",
       "0       2        51   13883\n",
       "1       2        52   11690\n",
       "2       2        53   11351\n",
       "3       2        54   10300\n",
       "4       2        55    8983"
      ]
     },
     "execution_count": 2,
     "metadata": {},
     "output_type": "execute_result"
    }
   ],
   "source": [
    "lastfm = pd.read_csv(\"../datasets/hetrec2011-lastfm-2k/user_artists.dat\", sep='\\t')\n",
    "lastfm.head()"
   ]
  },
  {
   "cell_type": "code",
   "execution_count": 3,
   "id": "e7a36cae",
   "metadata": {},
   "outputs": [
    {
     "data": {
      "application/vnd.microsoft.datawrangler.viewer.v0+json": {
       "columns": [
        {
         "name": "index",
         "rawType": "int64",
         "type": "integer"
        },
        {
         "name": "id",
         "rawType": "int64",
         "type": "integer"
        },
        {
         "name": "name",
         "rawType": "object",
         "type": "string"
        },
        {
         "name": "url",
         "rawType": "object",
         "type": "string"
        },
        {
         "name": "pictureURL",
         "rawType": "object",
         "type": "string"
        }
       ],
       "ref": "5df0fa64-aff2-470b-930e-f5668596480d",
       "rows": [
        [
         "0",
         "1",
         "MALICE MIZER",
         "http://www.last.fm/music/MALICE+MIZER",
         "http://userserve-ak.last.fm/serve/252/10808.jpg"
        ],
        [
         "1",
         "2",
         "Diary of Dreams",
         "http://www.last.fm/music/Diary+of+Dreams",
         "http://userserve-ak.last.fm/serve/252/3052066.jpg"
        ],
        [
         "2",
         "3",
         "Carpathian Forest",
         "http://www.last.fm/music/Carpathian+Forest",
         "http://userserve-ak.last.fm/serve/252/40222717.jpg"
        ],
        [
         "3",
         "4",
         "Moi dix Mois",
         "http://www.last.fm/music/Moi+dix+Mois",
         "http://userserve-ak.last.fm/serve/252/54697835.png"
        ],
        [
         "4",
         "5",
         "Bella Morte",
         "http://www.last.fm/music/Bella+Morte",
         "http://userserve-ak.last.fm/serve/252/14789013.jpg"
        ]
       ],
       "shape": {
        "columns": 4,
        "rows": 5
       }
      },
      "text/html": [
       "<div>\n",
       "<style scoped>\n",
       "    .dataframe tbody tr th:only-of-type {\n",
       "        vertical-align: middle;\n",
       "    }\n",
       "\n",
       "    .dataframe tbody tr th {\n",
       "        vertical-align: top;\n",
       "    }\n",
       "\n",
       "    .dataframe thead th {\n",
       "        text-align: right;\n",
       "    }\n",
       "</style>\n",
       "<table border=\"1\" class=\"dataframe\">\n",
       "  <thead>\n",
       "    <tr style=\"text-align: right;\">\n",
       "      <th></th>\n",
       "      <th>id</th>\n",
       "      <th>name</th>\n",
       "      <th>url</th>\n",
       "      <th>pictureURL</th>\n",
       "    </tr>\n",
       "  </thead>\n",
       "  <tbody>\n",
       "    <tr>\n",
       "      <th>0</th>\n",
       "      <td>1</td>\n",
       "      <td>MALICE MIZER</td>\n",
       "      <td>http://www.last.fm/music/MALICE+MIZER</td>\n",
       "      <td>http://userserve-ak.last.fm/serve/252/10808.jpg</td>\n",
       "    </tr>\n",
       "    <tr>\n",
       "      <th>1</th>\n",
       "      <td>2</td>\n",
       "      <td>Diary of Dreams</td>\n",
       "      <td>http://www.last.fm/music/Diary+of+Dreams</td>\n",
       "      <td>http://userserve-ak.last.fm/serve/252/3052066.jpg</td>\n",
       "    </tr>\n",
       "    <tr>\n",
       "      <th>2</th>\n",
       "      <td>3</td>\n",
       "      <td>Carpathian Forest</td>\n",
       "      <td>http://www.last.fm/music/Carpathian+Forest</td>\n",
       "      <td>http://userserve-ak.last.fm/serve/252/40222717...</td>\n",
       "    </tr>\n",
       "    <tr>\n",
       "      <th>3</th>\n",
       "      <td>4</td>\n",
       "      <td>Moi dix Mois</td>\n",
       "      <td>http://www.last.fm/music/Moi+dix+Mois</td>\n",
       "      <td>http://userserve-ak.last.fm/serve/252/54697835...</td>\n",
       "    </tr>\n",
       "    <tr>\n",
       "      <th>4</th>\n",
       "      <td>5</td>\n",
       "      <td>Bella Morte</td>\n",
       "      <td>http://www.last.fm/music/Bella+Morte</td>\n",
       "      <td>http://userserve-ak.last.fm/serve/252/14789013...</td>\n",
       "    </tr>\n",
       "  </tbody>\n",
       "</table>\n",
       "</div>"
      ],
      "text/plain": [
       "   id               name                                         url  \\\n",
       "0   1       MALICE MIZER       http://www.last.fm/music/MALICE+MIZER   \n",
       "1   2    Diary of Dreams    http://www.last.fm/music/Diary+of+Dreams   \n",
       "2   3  Carpathian Forest  http://www.last.fm/music/Carpathian+Forest   \n",
       "3   4       Moi dix Mois       http://www.last.fm/music/Moi+dix+Mois   \n",
       "4   5        Bella Morte        http://www.last.fm/music/Bella+Morte   \n",
       "\n",
       "                                          pictureURL  \n",
       "0    http://userserve-ak.last.fm/serve/252/10808.jpg  \n",
       "1  http://userserve-ak.last.fm/serve/252/3052066.jpg  \n",
       "2  http://userserve-ak.last.fm/serve/252/40222717...  \n",
       "3  http://userserve-ak.last.fm/serve/252/54697835...  \n",
       "4  http://userserve-ak.last.fm/serve/252/14789013...  "
      ]
     },
     "execution_count": 3,
     "metadata": {},
     "output_type": "execute_result"
    }
   ],
   "source": [
    "artists = pd.read_csv(\"../datasets/hetrec2011-lastfm-2k/artists.dat\", sep='\\t')\n",
    "artists.head()"
   ]
  },
  {
   "cell_type": "code",
   "execution_count": 4,
   "id": "c207e754",
   "metadata": {},
   "outputs": [
    {
     "data": {
      "application/vnd.microsoft.datawrangler.viewer.v0+json": {
       "columns": [
        {
         "name": "index",
         "rawType": "int64",
         "type": "integer"
        },
        {
         "name": "id",
         "rawType": "int64",
         "type": "integer"
        },
        {
         "name": "artist",
         "rawType": "object",
         "type": "string"
        },
        {
         "name": "prop",
         "rawType": "object",
         "type": "string"
        },
        {
         "name": "obj",
         "rawType": "object",
         "type": "string"
        },
        {
         "name": "wiki_id",
         "rawType": "object",
         "type": "string"
        },
        {
         "name": "name",
         "rawType": "object",
         "type": "string"
        }
       ],
       "ref": "161cc43c-f0c9-4b27-a502-39944f8d4b73",
       "rows": [
        [
         "0",
         "1",
         "Malice Mizer",
         "work period (start)",
         "1992-01-01T00:00:00Z",
         "Q853545",
         "MALICE MIZER"
        ],
        [
         "1",
         "1",
         "Malice Mizer",
         "has part",
         "Mana",
         "Q853545",
         "MALICE MIZER"
        ],
        [
         "2",
         "1",
         "Malice Mizer",
         "country of origin",
         "Japan",
         "Q853545",
         "MALICE MIZER"
        ],
        [
         "3",
         "1",
         "Malice Mizer",
         "record label",
         "Nippon Columbia",
         "Q853545",
         "MALICE MIZER"
        ],
        [
         "4",
         "1",
         "Malice Mizer",
         "record label",
         "Columbia Records",
         "Q853545",
         "MALICE MIZER"
        ]
       ],
       "shape": {
        "columns": 6,
        "rows": 5
       }
      },
      "text/html": [
       "<div>\n",
       "<style scoped>\n",
       "    .dataframe tbody tr th:only-of-type {\n",
       "        vertical-align: middle;\n",
       "    }\n",
       "\n",
       "    .dataframe tbody tr th {\n",
       "        vertical-align: top;\n",
       "    }\n",
       "\n",
       "    .dataframe thead th {\n",
       "        text-align: right;\n",
       "    }\n",
       "</style>\n",
       "<table border=\"1\" class=\"dataframe\">\n",
       "  <thead>\n",
       "    <tr style=\"text-align: right;\">\n",
       "      <th></th>\n",
       "      <th>id</th>\n",
       "      <th>artist</th>\n",
       "      <th>prop</th>\n",
       "      <th>obj</th>\n",
       "      <th>wiki_id</th>\n",
       "      <th>name</th>\n",
       "    </tr>\n",
       "  </thead>\n",
       "  <tbody>\n",
       "    <tr>\n",
       "      <th>0</th>\n",
       "      <td>1</td>\n",
       "      <td>Malice Mizer</td>\n",
       "      <td>work period (start)</td>\n",
       "      <td>1992-01-01T00:00:00Z</td>\n",
       "      <td>Q853545</td>\n",
       "      <td>MALICE MIZER</td>\n",
       "    </tr>\n",
       "    <tr>\n",
       "      <th>1</th>\n",
       "      <td>1</td>\n",
       "      <td>Malice Mizer</td>\n",
       "      <td>has part</td>\n",
       "      <td>Mana</td>\n",
       "      <td>Q853545</td>\n",
       "      <td>MALICE MIZER</td>\n",
       "    </tr>\n",
       "    <tr>\n",
       "      <th>2</th>\n",
       "      <td>1</td>\n",
       "      <td>Malice Mizer</td>\n",
       "      <td>country of origin</td>\n",
       "      <td>Japan</td>\n",
       "      <td>Q853545</td>\n",
       "      <td>MALICE MIZER</td>\n",
       "    </tr>\n",
       "    <tr>\n",
       "      <th>3</th>\n",
       "      <td>1</td>\n",
       "      <td>Malice Mizer</td>\n",
       "      <td>record label</td>\n",
       "      <td>Nippon Columbia</td>\n",
       "      <td>Q853545</td>\n",
       "      <td>MALICE MIZER</td>\n",
       "    </tr>\n",
       "    <tr>\n",
       "      <th>4</th>\n",
       "      <td>1</td>\n",
       "      <td>Malice Mizer</td>\n",
       "      <td>record label</td>\n",
       "      <td>Columbia Records</td>\n",
       "      <td>Q853545</td>\n",
       "      <td>MALICE MIZER</td>\n",
       "    </tr>\n",
       "  </tbody>\n",
       "</table>\n",
       "</div>"
      ],
      "text/plain": [
       "   id        artist                 prop                   obj  wiki_id  \\\n",
       "0   1  Malice Mizer  work period (start)  1992-01-01T00:00:00Z  Q853545   \n",
       "1   1  Malice Mizer             has part                  Mana  Q853545   \n",
       "2   1  Malice Mizer    country of origin                 Japan  Q853545   \n",
       "3   1  Malice Mizer         record label       Nippon Columbia  Q853545   \n",
       "4   1  Malice Mizer         record label      Columbia Records  Q853545   \n",
       "\n",
       "           name  \n",
       "0  MALICE MIZER  \n",
       "1  MALICE MIZER  \n",
       "2  MALICE MIZER  \n",
       "3  MALICE MIZER  \n",
       "4  MALICE MIZER  "
      ]
     },
     "execution_count": 4,
     "metadata": {},
     "output_type": "execute_result"
    }
   ],
   "source": [
    "kg_artists = pd.read_csv(\"../knowledge-graphs/props_artists_id.csv\")\n",
    "kg_artists.head()"
   ]
  },
  {
   "cell_type": "code",
   "execution_count": 5,
   "id": "495f6ae6",
   "metadata": {},
   "outputs": [
    {
     "name": "stdout",
     "output_type": "stream",
     "text": [
      "17632\n"
     ]
    }
   ],
   "source": [
    "# number of unique movies that are on movie interactions\n",
    "artits_id = lastfm[\"artistID\"].unique()\n",
    "print(len(artits_id))"
   ]
  },
  {
   "cell_type": "code",
   "execution_count": 6,
   "id": "edd49d7c",
   "metadata": {},
   "outputs": [
    {
     "name": "stdout",
     "output_type": "stream",
     "text": [
      "17632\n"
     ]
    }
   ],
   "source": [
    "# number of movies in listed in the item file\n",
    "all_artists_id = artists[\"id\"].unique()\n",
    "print(len(all_artists_id))"
   ]
  },
  {
   "cell_type": "code",
   "execution_count": 7,
   "id": "a6e59306",
   "metadata": {},
   "outputs": [
    {
     "name": "stdout",
     "output_type": "stream",
     "text": [
      "11646\n"
     ]
    }
   ],
   "source": [
    "kg_artits_id = kg_artists[\"id\"].unique()\n",
    "print(len(kg_artits_id))"
   ]
  },
  {
   "cell_type": "code",
   "execution_count": 8,
   "id": "f6cedbd1",
   "metadata": {},
   "outputs": [
    {
     "data": {
      "text/plain": [
       "[1, 2, 3, 4, 5, 6, 7, 8, 9, 10]"
      ]
     },
     "execution_count": 8,
     "metadata": {},
     "output_type": "execute_result"
    }
   ],
   "source": [
    "intersection = set(artits_id).intersection(set(kg_artits_id))\n",
    "list(intersection)[:10]"
   ]
  },
  {
   "cell_type": "code",
   "execution_count": 9,
   "id": "08a6b333",
   "metadata": {},
   "outputs": [
    {
     "data": {
      "text/plain": [
       "11646"
      ]
     },
     "execution_count": 9,
     "metadata": {},
     "output_type": "execute_result"
    }
   ],
   "source": [
    "len(intersection)"
   ]
  },
  {
   "cell_type": "code",
   "execution_count": 10,
   "id": "6b35278b",
   "metadata": {},
   "outputs": [
    {
     "data": {
      "text/plain": [
       "[]"
      ]
     },
     "execution_count": 10,
     "metadata": {},
     "output_type": "execute_result"
    }
   ],
   "source": [
    "list(set(kg_artits_id).difference(set(artits_id)))"
   ]
  },
  {
   "cell_type": "code",
   "execution_count": 11,
   "id": "e855de58",
   "metadata": {},
   "outputs": [
    {
     "data": {
      "text/plain": [
       "17632"
      ]
     },
     "execution_count": 11,
     "metadata": {},
     "output_type": "execute_result"
    }
   ],
   "source": [
    "union = set(artits_id).union(set(kg_artits_id))\n",
    "len(list(union))"
   ]
  },
  {
   "cell_type": "code",
   "execution_count": 12,
   "id": "5f4f5e21",
   "metadata": {},
   "outputs": [
    {
     "data": {
      "text/plain": [
       "0.6605036297640653"
      ]
     },
     "execution_count": 12,
     "metadata": {},
     "output_type": "execute_result"
    }
   ],
   "source": [
    "len(list(intersection)) / len(list(union))"
   ]
  },
  {
   "cell_type": "code",
   "execution_count": 13,
   "id": "aa70afc3",
   "metadata": {},
   "outputs": [
    {
     "data": {
      "application/vnd.microsoft.datawrangler.viewer.v0+json": {
       "columns": [
        {
         "name": "index",
         "rawType": "int64",
         "type": "integer"
        },
        {
         "name": "userID",
         "rawType": "int64",
         "type": "integer"
        },
        {
         "name": "artistID",
         "rawType": "int64",
         "type": "integer"
        },
        {
         "name": "weight",
         "rawType": "int64",
         "type": "integer"
        }
       ],
       "ref": "b4cdd606-8dc3-4ebc-b6d7-8c0cad385b58",
       "rows": [
        [
         "0",
         "2",
         "51",
         "13883"
        ],
        [
         "1",
         "2",
         "52",
         "11690"
        ],
        [
         "2",
         "2",
         "53",
         "11351"
        ],
        [
         "3",
         "2",
         "54",
         "10300"
        ],
        [
         "4",
         "2",
         "55",
         "8983"
        ]
       ],
       "shape": {
        "columns": 3,
        "rows": 5
       }
      },
      "text/html": [
       "<div>\n",
       "<style scoped>\n",
       "    .dataframe tbody tr th:only-of-type {\n",
       "        vertical-align: middle;\n",
       "    }\n",
       "\n",
       "    .dataframe tbody tr th {\n",
       "        vertical-align: top;\n",
       "    }\n",
       "\n",
       "    .dataframe thead th {\n",
       "        text-align: right;\n",
       "    }\n",
       "</style>\n",
       "<table border=\"1\" class=\"dataframe\">\n",
       "  <thead>\n",
       "    <tr style=\"text-align: right;\">\n",
       "      <th></th>\n",
       "      <th>userID</th>\n",
       "      <th>artistID</th>\n",
       "      <th>weight</th>\n",
       "    </tr>\n",
       "  </thead>\n",
       "  <tbody>\n",
       "    <tr>\n",
       "      <th>0</th>\n",
       "      <td>2</td>\n",
       "      <td>51</td>\n",
       "      <td>13883</td>\n",
       "    </tr>\n",
       "    <tr>\n",
       "      <th>1</th>\n",
       "      <td>2</td>\n",
       "      <td>52</td>\n",
       "      <td>11690</td>\n",
       "    </tr>\n",
       "    <tr>\n",
       "      <th>2</th>\n",
       "      <td>2</td>\n",
       "      <td>53</td>\n",
       "      <td>11351</td>\n",
       "    </tr>\n",
       "    <tr>\n",
       "      <th>3</th>\n",
       "      <td>2</td>\n",
       "      <td>54</td>\n",
       "      <td>10300</td>\n",
       "    </tr>\n",
       "    <tr>\n",
       "      <th>4</th>\n",
       "      <td>2</td>\n",
       "      <td>55</td>\n",
       "      <td>8983</td>\n",
       "    </tr>\n",
       "  </tbody>\n",
       "</table>\n",
       "</div>"
      ],
      "text/plain": [
       "   userID  artistID  weight\n",
       "0       2        51   13883\n",
       "1       2        52   11690\n",
       "2       2        53   11351\n",
       "3       2        54   10300\n",
       "4       2        55    8983"
      ]
     },
     "execution_count": 13,
     "metadata": {},
     "output_type": "execute_result"
    }
   ],
   "source": [
    "lastfm.head()"
   ]
  },
  {
   "cell_type": "markdown",
   "id": "3fc3c2df",
   "metadata": {},
   "source": [
    "### Keeping in the dataset only artists contained in the KG"
   ]
  },
  {
   "cell_type": "code",
   "execution_count": 14,
   "id": "1b15d099",
   "metadata": {},
   "outputs": [
    {
     "data": {
      "application/vnd.microsoft.datawrangler.viewer.v0+json": {
       "columns": [
        {
         "name": "index",
         "rawType": "int64",
         "type": "integer"
        },
        {
         "name": "userID",
         "rawType": "int64",
         "type": "integer"
        },
        {
         "name": "artistID",
         "rawType": "int64",
         "type": "integer"
        },
        {
         "name": "weight",
         "rawType": "int64",
         "type": "integer"
        }
       ],
       "ref": "5e20108e-a2f5-4a4f-a2d4-fcf5223ef363",
       "rows": [
        [
         "0",
         "2",
         "51",
         "13883"
        ],
        [
         "1",
         "2",
         "52",
         "11690"
        ],
        [
         "2",
         "2",
         "53",
         "11351"
        ],
        [
         "3",
         "2",
         "54",
         "10300"
        ],
        [
         "4",
         "2",
         "55",
         "8983"
        ]
       ],
       "shape": {
        "columns": 3,
        "rows": 5
       }
      },
      "text/html": [
       "<div>\n",
       "<style scoped>\n",
       "    .dataframe tbody tr th:only-of-type {\n",
       "        vertical-align: middle;\n",
       "    }\n",
       "\n",
       "    .dataframe tbody tr th {\n",
       "        vertical-align: top;\n",
       "    }\n",
       "\n",
       "    .dataframe thead th {\n",
       "        text-align: right;\n",
       "    }\n",
       "</style>\n",
       "<table border=\"1\" class=\"dataframe\">\n",
       "  <thead>\n",
       "    <tr style=\"text-align: right;\">\n",
       "      <th></th>\n",
       "      <th>userID</th>\n",
       "      <th>artistID</th>\n",
       "      <th>weight</th>\n",
       "    </tr>\n",
       "  </thead>\n",
       "  <tbody>\n",
       "    <tr>\n",
       "      <th>0</th>\n",
       "      <td>2</td>\n",
       "      <td>51</td>\n",
       "      <td>13883</td>\n",
       "    </tr>\n",
       "    <tr>\n",
       "      <th>1</th>\n",
       "      <td>2</td>\n",
       "      <td>52</td>\n",
       "      <td>11690</td>\n",
       "    </tr>\n",
       "    <tr>\n",
       "      <th>2</th>\n",
       "      <td>2</td>\n",
       "      <td>53</td>\n",
       "      <td>11351</td>\n",
       "    </tr>\n",
       "    <tr>\n",
       "      <th>3</th>\n",
       "      <td>2</td>\n",
       "      <td>54</td>\n",
       "      <td>10300</td>\n",
       "    </tr>\n",
       "    <tr>\n",
       "      <th>4</th>\n",
       "      <td>2</td>\n",
       "      <td>55</td>\n",
       "      <td>8983</td>\n",
       "    </tr>\n",
       "  </tbody>\n",
       "</table>\n",
       "</div>"
      ],
      "text/plain": [
       "   userID  artistID  weight\n",
       "0       2        51   13883\n",
       "1       2        52   11690\n",
       "2       2        53   11351\n",
       "3       2        54   10300\n",
       "4       2        55    8983"
      ]
     },
     "execution_count": 14,
     "metadata": {},
     "output_type": "execute_result"
    }
   ],
   "source": [
    "processed = lastfm.loc[lastfm[\"artistID\"].isin(list(intersection))]\n",
    "processed.head()"
   ]
  },
  {
   "cell_type": "code",
   "execution_count": 15,
   "id": "959d5e99",
   "metadata": {},
   "outputs": [
    {
     "data": {
      "text/plain": [
       "(92834, 3)"
      ]
     },
     "execution_count": 15,
     "metadata": {},
     "output_type": "execute_result"
    }
   ],
   "source": [
    "lastfm.shape"
   ]
  },
  {
   "cell_type": "code",
   "execution_count": 16,
   "id": "7b36c87e",
   "metadata": {},
   "outputs": [
    {
     "data": {
      "text/plain": [
       "(83038, 3)"
      ]
     },
     "execution_count": 16,
     "metadata": {},
     "output_type": "execute_result"
    }
   ],
   "source": [
    "processed.shape"
   ]
  },
  {
   "cell_type": "code",
   "execution_count": 17,
   "id": "d518c799",
   "metadata": {},
   "outputs": [
    {
     "data": {
      "text/plain": [
       "0.8944783161341749"
      ]
     },
     "execution_count": 17,
     "metadata": {},
     "output_type": "execute_result"
    }
   ],
   "source": [
    "processed.shape[0]/lastfm.shape[0]"
   ]
  },
  {
   "cell_type": "code",
   "execution_count": 18,
   "id": "0228b6a2",
   "metadata": {},
   "outputs": [],
   "source": [
    "# saving new dataset\n",
    "processed.to_csv(\"../datasets/hetrec2011-lastfm-2k/ratings_processed.csv\", header=True, index=False)"
   ]
  },
  {
   "cell_type": "code",
   "execution_count": 19,
   "id": "73a1dc4a",
   "metadata": {},
   "outputs": [
    {
     "name": "stdout",
     "output_type": "stream",
     "text": [
      "0.8944783161341749\n"
     ]
    }
   ],
   "source": [
    "# reading new dataset \n",
    "r_processed = pd.read_csv(\"../datasets/hetrec2011-lastfm-2k/ratings_processed.csv\")\n",
    "print(r_processed.shape[0]/lastfm.shape[0])"
   ]
  },
  {
   "cell_type": "code",
   "execution_count": 20,
   "id": "bea2e5a1",
   "metadata": {},
   "outputs": [
    {
     "data": {
      "application/vnd.microsoft.datawrangler.viewer.v0+json": {
       "columns": [
        {
         "name": "index",
         "rawType": "int64",
         "type": "integer"
        },
        {
         "name": "userID",
         "rawType": "int64",
         "type": "integer"
        },
        {
         "name": "artistID",
         "rawType": "int64",
         "type": "integer"
        },
        {
         "name": "weight",
         "rawType": "int64",
         "type": "integer"
        }
       ],
       "ref": "60085ebb-722d-416d-8c7c-43bc22e23e18",
       "rows": [
        [
         "0",
         "2",
         "51",
         "13883"
        ],
        [
         "1",
         "2",
         "52",
         "11690"
        ],
        [
         "2",
         "2",
         "53",
         "11351"
        ],
        [
         "3",
         "2",
         "54",
         "10300"
        ],
        [
         "4",
         "2",
         "55",
         "8983"
        ]
       ],
       "shape": {
        "columns": 3,
        "rows": 5
       }
      },
      "text/html": [
       "<div>\n",
       "<style scoped>\n",
       "    .dataframe tbody tr th:only-of-type {\n",
       "        vertical-align: middle;\n",
       "    }\n",
       "\n",
       "    .dataframe tbody tr th {\n",
       "        vertical-align: top;\n",
       "    }\n",
       "\n",
       "    .dataframe thead th {\n",
       "        text-align: right;\n",
       "    }\n",
       "</style>\n",
       "<table border=\"1\" class=\"dataframe\">\n",
       "  <thead>\n",
       "    <tr style=\"text-align: right;\">\n",
       "      <th></th>\n",
       "      <th>userID</th>\n",
       "      <th>artistID</th>\n",
       "      <th>weight</th>\n",
       "    </tr>\n",
       "  </thead>\n",
       "  <tbody>\n",
       "    <tr>\n",
       "      <th>0</th>\n",
       "      <td>2</td>\n",
       "      <td>51</td>\n",
       "      <td>13883</td>\n",
       "    </tr>\n",
       "    <tr>\n",
       "      <th>1</th>\n",
       "      <td>2</td>\n",
       "      <td>52</td>\n",
       "      <td>11690</td>\n",
       "    </tr>\n",
       "    <tr>\n",
       "      <th>2</th>\n",
       "      <td>2</td>\n",
       "      <td>53</td>\n",
       "      <td>11351</td>\n",
       "    </tr>\n",
       "    <tr>\n",
       "      <th>3</th>\n",
       "      <td>2</td>\n",
       "      <td>54</td>\n",
       "      <td>10300</td>\n",
       "    </tr>\n",
       "    <tr>\n",
       "      <th>4</th>\n",
       "      <td>2</td>\n",
       "      <td>55</td>\n",
       "      <td>8983</td>\n",
       "    </tr>\n",
       "  </tbody>\n",
       "</table>\n",
       "</div>"
      ],
      "text/plain": [
       "   userID  artistID  weight\n",
       "0       2        51   13883\n",
       "1       2        52   11690\n",
       "2       2        53   11351\n",
       "3       2        54   10300\n",
       "4       2        55    8983"
      ]
     },
     "execution_count": 20,
     "metadata": {},
     "output_type": "execute_result"
    }
   ],
   "source": [
    "r_processed.head()"
   ]
  },
  {
   "cell_type": "code",
   "execution_count": 21,
   "id": "1a1c486f",
   "metadata": {},
   "outputs": [
    {
     "data": {
      "text/plain": [
       "(83038, 3)"
      ]
     },
     "execution_count": 21,
     "metadata": {},
     "output_type": "execute_result"
    }
   ],
   "source": [
    "r_processed.shape"
   ]
  },
  {
   "cell_type": "code",
   "execution_count": 22,
   "id": "62af7790",
   "metadata": {},
   "outputs": [
    {
     "name": "stdout",
     "output_type": "stream",
     "text": [
      "11646\n"
     ]
    }
   ],
   "source": [
    "processsed_artists = r_processed['artistID'].unique()\n",
    "print(len(processsed_artists))"
   ]
  },
  {
   "cell_type": "code",
   "execution_count": 23,
   "id": "d0ff0a0c",
   "metadata": {},
   "outputs": [
    {
     "name": "stdout",
     "output_type": "stream",
     "text": [
      "True\n"
     ]
    }
   ],
   "source": [
    "kg_artits_id.sort()\n",
    "processsed_artists.sort()\n",
    "print(np.array_equal(kg_artits_id, processsed_artists))"
   ]
  },
  {
   "cell_type": "code",
   "execution_count": 24,
   "id": "8eb00dc6",
   "metadata": {},
   "outputs": [
    {
     "name": "stdout",
     "output_type": "stream",
     "text": [
      "[    1     2     3 ... 18514 18516 18517]\n",
      "[    1     2     3 ... 18514 18516 18517]\n"
     ]
    }
   ],
   "source": [
    "print(processsed_artists)\n",
    "print(kg_artits_id)"
   ]
  }
 ],
 "metadata": {
  "kernelspec": {
   "display_name": "recsys",
   "language": "python",
   "name": "python3"
  },
  "language_info": {
   "codemirror_mode": {
    "name": "ipython",
    "version": 3
   },
   "file_extension": ".py",
   "mimetype": "text/x-python",
   "name": "python",
   "nbconvert_exporter": "python",
   "pygments_lexer": "ipython3",
   "version": "3.12.3"
  }
 },
 "nbformat": 4,
 "nbformat_minor": 5
}

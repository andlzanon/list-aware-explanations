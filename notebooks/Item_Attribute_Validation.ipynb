{
 "cells": [
  {
   "cell_type": "code",
   "execution_count": 1,
   "metadata": {},
   "outputs": [],
   "source": [
    "import numpy as np\n",
    "import pandas as pd"
   ]
  },
  {
   "cell_type": "code",
   "execution_count": 2,
   "metadata": {},
   "outputs": [
    {
     "data": {
      "application/vnd.microsoft.datawrangler.viewer.v0+json": {
       "columns": [
        {
         "name": "index",
         "rawType": "int64",
         "type": "integer"
        },
        {
         "name": "movieId",
         "rawType": "int64",
         "type": "integer"
        },
        {
         "name": "title",
         "rawType": "object",
         "type": "string"
        },
        {
         "name": "prop",
         "rawType": "object",
         "type": "string"
        },
        {
         "name": "obj",
         "rawType": "object",
         "type": "string"
        }
       ],
       "conversionMethod": "pd.DataFrame",
       "ref": "a75ac5d1-ee99-49ba-9e3c-2496a0dbe667",
       "rows": [
        [
         "0",
         "199",
         "The Umbrellas of Cherbourg",
         "director",
         "Jacques Demy"
        ],
        [
         "1",
         "199",
         "The Umbrellas of Cherbourg",
         "screenwriter",
         "Jacques Demy"
        ],
        [
         "2",
         "199",
         "The Umbrellas of Cherbourg",
         "composer",
         "Michel Legrand"
        ],
        [
         "3",
         "199",
         "The Umbrellas of Cherbourg",
         "genre",
         "drama"
        ],
        [
         "4",
         "199",
         "The Umbrellas of Cherbourg",
         "genre",
         "musical film"
        ],
        [
         "5",
         "199",
         "The Umbrellas of Cherbourg",
         "genre",
         "romance film"
        ],
        [
         "6",
         "199",
         "The Umbrellas of Cherbourg",
         "cast member",
         "Catherine Deneuve"
        ],
        [
         "7",
         "199",
         "The Umbrellas of Cherbourg",
         "cast member",
         "Jacques Demy"
        ],
        [
         "8",
         "199",
         "The Umbrellas of Cherbourg",
         "cast member",
         "Michel Legrand"
        ],
        [
         "9",
         "199",
         "The Umbrellas of Cherbourg",
         "cast member",
         "Anne Vernon"
        ],
        [
         "10",
         "199",
         "The Umbrellas of Cherbourg",
         "cast member",
         "Christiane Legrand"
        ],
        [
         "11",
         "199",
         "The Umbrellas of Cherbourg",
         "cast member",
         "Nino Castelnuovo"
        ],
        [
         "12",
         "199",
         "The Umbrellas of Cherbourg",
         "cast member",
         "Claire Leclerc"
        ],
        [
         "13",
         "199",
         "The Umbrellas of Cherbourg",
         "cast member",
         "Danielle Licari"
        ],
        [
         "14",
         "199",
         "The Umbrellas of Cherbourg",
         "cast member",
         "Dorothée Blanck"
        ],
        [
         "15",
         "199",
         "The Umbrellas of Cherbourg",
         "cast member",
         "Ellen Farner"
        ],
        [
         "16",
         "199",
         "The Umbrellas of Cherbourg",
         "cast member",
         "Georges Blaness"
        ],
        [
         "17",
         "199",
         "The Umbrellas of Cherbourg",
         "cast member",
         "Gisèle Grandpré"
        ],
        [
         "18",
         "199",
         "The Umbrellas of Cherbourg",
         "cast member",
         "Harald Wolff"
        ],
        [
         "19",
         "199",
         "The Umbrellas of Cherbourg",
         "cast member",
         "Jean-Claude Briodin"
        ],
        [
         "20",
         "199",
         "The Umbrellas of Cherbourg",
         "cast member",
         "Jean Champion"
        ],
        [
         "21",
         "199",
         "The Umbrellas of Cherbourg",
         "cast member",
         "José Bartel"
        ],
        [
         "22",
         "199",
         "The Umbrellas of Cherbourg",
         "cast member",
         "Marc Michel"
        ],
        [
         "23",
         "199",
         "The Umbrellas of Cherbourg",
         "cast member",
         "Mireille Perrey"
        ],
        [
         "24",
         "199",
         "The Umbrellas of Cherbourg",
         "cast member",
         "Patrick Bricard"
        ],
        [
         "25",
         "199",
         "The Umbrellas of Cherbourg",
         "cast member",
         "Philippe Dumat"
        ],
        [
         "26",
         "199",
         "The Umbrellas of Cherbourg",
         "cast member",
         "Raoul Curet"
        ],
        [
         "27",
         "199",
         "The Umbrellas of Cherbourg",
         "cast member",
         "Rosalie Varda"
        ],
        [
         "28",
         "199",
         "The Umbrellas of Cherbourg",
         "cast member",
         "Jean Cussac"
        ],
        [
         "29",
         "199",
         "The Umbrellas of Cherbourg",
         "cast member",
         "Hervé Legrand"
        ],
        [
         "30",
         "199",
         "The Umbrellas of Cherbourg",
         "cast member",
         "Jean-Pierre Dorat"
        ],
        [
         "31",
         "199",
         "The Umbrellas of Cherbourg",
         "cast member",
         "Claudine Meunier"
        ],
        [
         "32",
         "199",
         "The Umbrellas of Cherbourg",
         "cast member",
         "Myriam Michelson"
        ],
        [
         "33",
         "199",
         "The Umbrellas of Cherbourg",
         "cast member",
         "José Germain"
        ],
        [
         "34",
         "199",
         "The Umbrellas of Cherbourg",
         "cast member",
         "Jean Valière"
        ],
        [
         "35",
         "199",
         "The Umbrellas of Cherbourg",
         "producer",
         "Mag Bodard"
        ],
        [
         "36",
         "199",
         "The Umbrellas of Cherbourg",
         "award received",
         "Palme d'Or"
        ],
        [
         "37",
         "199",
         "The Umbrellas of Cherbourg",
         "award received",
         "Louis Delluc Prize"
        ],
        [
         "38",
         "199",
         "The Umbrellas of Cherbourg",
         "director of photography",
         "Jean Rabier"
        ],
        [
         "39",
         "199",
         "The Umbrellas of Cherbourg",
         "country of origin",
         "France"
        ],
        [
         "40",
         "199",
         "The Umbrellas of Cherbourg",
         "country of origin",
         "Germany"
        ],
        [
         "41",
         "199",
         "The Umbrellas of Cherbourg",
         "filming location",
         "passage Pommeraye"
        ],
        [
         "42",
         "199",
         "The Umbrellas of Cherbourg",
         "main subject",
         "Algerian War of Independence"
        ],
        [
         "43",
         "199",
         "The Umbrellas of Cherbourg",
         "film editor",
         "Anne-Marie Cotret"
        ],
        [
         "44",
         "199",
         "The Umbrellas of Cherbourg",
         "nominated for",
         "Academy Award for Best Writing, Original Screenplay"
        ],
        [
         "45",
         "199",
         "The Umbrellas of Cherbourg",
         "nominated for",
         "Academy Award for Best Foreign Language Film"
        ],
        [
         "46",
         "199",
         "The Umbrellas of Cherbourg",
         "nominated for",
         "Academy Award for Best Original Score"
        ],
        [
         "47",
         "199",
         "The Umbrellas of Cherbourg",
         "nominated for",
         "Academy Award for Best Score, Adaptation or Treatment"
        ],
        [
         "48",
         "199",
         "The Umbrellas of Cherbourg",
         "title",
         "Les Parapluies de Cherbourg"
        ],
        [
         "49",
         "390",
         "Faster, Pussycat! Kill! Kill!",
         "director",
         "Russ Meyer"
        ]
       ],
       "shape": {
        "columns": 4,
        "rows": 295787
       }
      },
      "text/html": [
       "<div>\n",
       "<style scoped>\n",
       "    .dataframe tbody tr th:only-of-type {\n",
       "        vertical-align: middle;\n",
       "    }\n",
       "\n",
       "    .dataframe tbody tr th {\n",
       "        vertical-align: top;\n",
       "    }\n",
       "\n",
       "    .dataframe thead th {\n",
       "        text-align: right;\n",
       "    }\n",
       "</style>\n",
       "<table border=\"1\" class=\"dataframe\">\n",
       "  <thead>\n",
       "    <tr style=\"text-align: right;\">\n",
       "      <th></th>\n",
       "      <th>movieId</th>\n",
       "      <th>title</th>\n",
       "      <th>prop</th>\n",
       "      <th>obj</th>\n",
       "    </tr>\n",
       "  </thead>\n",
       "  <tbody>\n",
       "    <tr>\n",
       "      <th>0</th>\n",
       "      <td>199</td>\n",
       "      <td>The Umbrellas of Cherbourg</td>\n",
       "      <td>director</td>\n",
       "      <td>Jacques Demy</td>\n",
       "    </tr>\n",
       "    <tr>\n",
       "      <th>1</th>\n",
       "      <td>199</td>\n",
       "      <td>The Umbrellas of Cherbourg</td>\n",
       "      <td>screenwriter</td>\n",
       "      <td>Jacques Demy</td>\n",
       "    </tr>\n",
       "    <tr>\n",
       "      <th>2</th>\n",
       "      <td>199</td>\n",
       "      <td>The Umbrellas of Cherbourg</td>\n",
       "      <td>composer</td>\n",
       "      <td>Michel Legrand</td>\n",
       "    </tr>\n",
       "    <tr>\n",
       "      <th>3</th>\n",
       "      <td>199</td>\n",
       "      <td>The Umbrellas of Cherbourg</td>\n",
       "      <td>genre</td>\n",
       "      <td>drama</td>\n",
       "    </tr>\n",
       "    <tr>\n",
       "      <th>4</th>\n",
       "      <td>199</td>\n",
       "      <td>The Umbrellas of Cherbourg</td>\n",
       "      <td>genre</td>\n",
       "      <td>musical film</td>\n",
       "    </tr>\n",
       "    <tr>\n",
       "      <th>...</th>\n",
       "      <td>...</td>\n",
       "      <td>...</td>\n",
       "      <td>...</td>\n",
       "      <td>...</td>\n",
       "    </tr>\n",
       "    <tr>\n",
       "      <th>295782</th>\n",
       "      <td>179053</td>\n",
       "      <td>2048: Nowhere to Run</td>\n",
       "      <td>cast member</td>\n",
       "      <td>Orion Ben</td>\n",
       "    </tr>\n",
       "    <tr>\n",
       "      <th>295783</th>\n",
       "      <td>179053</td>\n",
       "      <td>2048: Nowhere to Run</td>\n",
       "      <td>director of photography</td>\n",
       "      <td>Pierre Gill</td>\n",
       "    </tr>\n",
       "    <tr>\n",
       "      <th>295784</th>\n",
       "      <td>179053</td>\n",
       "      <td>2048: Nowhere to Run</td>\n",
       "      <td>country of origin</td>\n",
       "      <td>United States of America</td>\n",
       "    </tr>\n",
       "    <tr>\n",
       "      <th>295785</th>\n",
       "      <td>179053</td>\n",
       "      <td>2048: Nowhere to Run</td>\n",
       "      <td>narrative location</td>\n",
       "      <td>Los Angeles</td>\n",
       "    </tr>\n",
       "    <tr>\n",
       "      <th>295786</th>\n",
       "      <td>179053</td>\n",
       "      <td>2048: Nowhere to Run</td>\n",
       "      <td>title</td>\n",
       "      <td>2048: Nowhere to Run</td>\n",
       "    </tr>\n",
       "  </tbody>\n",
       "</table>\n",
       "<p>295787 rows × 4 columns</p>\n",
       "</div>"
      ],
      "text/plain": [
       "        movieId                       title                     prop  \\\n",
       "0           199  The Umbrellas of Cherbourg                 director   \n",
       "1           199  The Umbrellas of Cherbourg             screenwriter   \n",
       "2           199  The Umbrellas of Cherbourg                 composer   \n",
       "3           199  The Umbrellas of Cherbourg                    genre   \n",
       "4           199  The Umbrellas of Cherbourg                    genre   \n",
       "...         ...                         ...                      ...   \n",
       "295782   179053        2048: Nowhere to Run              cast member   \n",
       "295783   179053        2048: Nowhere to Run  director of photography   \n",
       "295784   179053        2048: Nowhere to Run        country of origin   \n",
       "295785   179053        2048: Nowhere to Run       narrative location   \n",
       "295786   179053        2048: Nowhere to Run                    title   \n",
       "\n",
       "                             obj  \n",
       "0                   Jacques Demy  \n",
       "1                   Jacques Demy  \n",
       "2                 Michel Legrand  \n",
       "3                          drama  \n",
       "4                   musical film  \n",
       "...                          ...  \n",
       "295782                 Orion Ben  \n",
       "295783               Pierre Gill  \n",
       "295784  United States of America  \n",
       "295785               Los Angeles  \n",
       "295786      2048: Nowhere to Run  \n",
       "\n",
       "[295787 rows x 4 columns]"
      ]
     },
     "execution_count": 2,
     "metadata": {},
     "output_type": "execute_result"
    }
   ],
   "source": [
    "ml_kg = pd.read_csv(\"../knowledge-graphs/props_wikidata_movielens_small.csv\", \n",
    "                    usecols=[\"movieId\", \"title\", \"prop\", \"obj\"])\n",
    "ml_kg"
   ]
  },
  {
   "cell_type": "code",
   "execution_count": 3,
   "metadata": {},
   "outputs": [],
   "source": [
    "def check_existance(kg: pd.DataFrame, title: str, obj: str, \n",
    "                    title_col: str, obj_col:str) -> tuple:\n",
    "    \n",
    "    rel_rows = kg[(kg[title_col] == title) & (kg[obj_col] == obj)]\n",
    "    item_rows = kg[kg[title_col] == title]\n",
    "    \n",
    "    return rel_rows, item_rows"
   ]
  },
  {
   "cell_type": "code",
   "execution_count": 4,
   "metadata": {},
   "outputs": [
    {
     "data": {
      "application/vnd.microsoft.datawrangler.viewer.v0+json": {
       "columns": [
        {
         "name": "index",
         "rawType": "int64",
         "type": "integer"
        },
        {
         "name": "movieId",
         "rawType": "int64",
         "type": "integer"
        },
        {
         "name": "title",
         "rawType": "object",
         "type": "string"
        },
        {
         "name": "prop",
         "rawType": "object",
         "type": "string"
        },
        {
         "name": "obj",
         "rawType": "object",
         "type": "string"
        }
       ],
       "conversionMethod": "pd.DataFrame",
       "ref": "02e664ed-3321-49bd-8ee1-bde8f5f52676",
       "rows": [
        [
         "4814",
         "150",
         "Apollo 13",
         "cast member",
         "Tom Hanks"
        ]
       ],
       "shape": {
        "columns": 4,
        "rows": 1
       }
      },
      "text/html": [
       "<div>\n",
       "<style scoped>\n",
       "    .dataframe tbody tr th:only-of-type {\n",
       "        vertical-align: middle;\n",
       "    }\n",
       "\n",
       "    .dataframe tbody tr th {\n",
       "        vertical-align: top;\n",
       "    }\n",
       "\n",
       "    .dataframe thead th {\n",
       "        text-align: right;\n",
       "    }\n",
       "</style>\n",
       "<table border=\"1\" class=\"dataframe\">\n",
       "  <thead>\n",
       "    <tr style=\"text-align: right;\">\n",
       "      <th></th>\n",
       "      <th>movieId</th>\n",
       "      <th>title</th>\n",
       "      <th>prop</th>\n",
       "      <th>obj</th>\n",
       "    </tr>\n",
       "  </thead>\n",
       "  <tbody>\n",
       "    <tr>\n",
       "      <th>4814</th>\n",
       "      <td>150</td>\n",
       "      <td>Apollo 13</td>\n",
       "      <td>cast member</td>\n",
       "      <td>Tom Hanks</td>\n",
       "    </tr>\n",
       "  </tbody>\n",
       "</table>\n",
       "</div>"
      ],
      "text/plain": [
       "      movieId      title         prop        obj\n",
       "4814      150  Apollo 13  cast member  Tom Hanks"
      ]
     },
     "execution_count": 4,
     "metadata": {},
     "output_type": "execute_result"
    }
   ],
   "source": [
    "e = check_existance(ml_kg, \"Apollo 13\", \"Tom Hanks\", \"title\", \"obj\")\n",
    "e[0]"
   ]
  },
  {
   "cell_type": "code",
   "execution_count": 5,
   "metadata": {},
   "outputs": [
    {
     "data": {
      "application/vnd.microsoft.datawrangler.viewer.v0+json": {
       "columns": [
        {
         "name": "index",
         "rawType": "int64",
         "type": "integer"
        },
        {
         "name": "movieId",
         "rawType": "int64",
         "type": "integer"
        },
        {
         "name": "title",
         "rawType": "object",
         "type": "string"
        },
        {
         "name": "prop",
         "rawType": "object",
         "type": "string"
        },
        {
         "name": "obj",
         "rawType": "object",
         "type": "string"
        }
       ],
       "conversionMethod": "pd.DataFrame",
       "ref": "0aea195f-9415-417d-b455-5f55fa6fb027",
       "rows": [
        [
         "4801",
         "150",
         "Apollo 13",
         "director",
         "Ron Howard"
        ],
        [
         "4802",
         "150",
         "Apollo 13",
         "screenwriter",
         "Jim Lovell"
        ],
        [
         "4803",
         "150",
         "Apollo 13",
         "screenwriter",
         "Jeffrey Kluger"
        ],
        [
         "4804",
         "150",
         "Apollo 13",
         "screenwriter",
         "Al Reinert"
        ],
        [
         "4805",
         "150",
         "Apollo 13",
         "screenwriter",
         "William Broyles, Jr."
        ],
        [
         "4806",
         "150",
         "Apollo 13",
         "composer",
         "James Horner"
        ],
        [
         "4807",
         "150",
         "Apollo 13",
         "genre",
         "drama"
        ],
        [
         "4808",
         "150",
         "Apollo 13",
         "genre",
         "adventure film"
        ],
        [
         "4809",
         "150",
         "Apollo 13",
         "genre",
         "docudrama"
        ],
        [
         "4810",
         "150",
         "Apollo 13",
         "genre",
         "disaster film"
        ],
        [
         "4811",
         "150",
         "Apollo 13",
         "genre",
         "survival film"
        ],
        [
         "4812",
         "150",
         "Apollo 13",
         "genre",
         "historical film"
        ],
        [
         "4813",
         "150",
         "Apollo 13",
         "genre",
         "film based on books"
        ],
        [
         "4814",
         "150",
         "Apollo 13",
         "cast member",
         "Tom Hanks"
        ],
        [
         "4815",
         "150",
         "Apollo 13",
         "cast member",
         "Walter Cronkite"
        ],
        [
         "4816",
         "150",
         "Apollo 13",
         "cast member",
         "Ed Harris"
        ],
        [
         "4817",
         "150",
         "Apollo 13",
         "cast member",
         "Bill Paxton"
        ],
        [
         "4818",
         "150",
         "Apollo 13",
         "cast member",
         "Jim Lovell"
        ],
        [
         "4819",
         "150",
         "Apollo 13",
         "cast member",
         "Brett Cullen"
        ],
        [
         "4820",
         "150",
         "Apollo 13",
         "cast member",
         "Gary Sinise"
        ],
        [
         "4821",
         "150",
         "Apollo 13",
         "cast member",
         "Joe Spano"
        ],
        [
         "4822",
         "150",
         "Apollo 13",
         "cast member",
         "Brian Markinson"
        ],
        [
         "4823",
         "150",
         "Apollo 13",
         "cast member",
         "Wayne Duvall"
        ],
        [
         "4824",
         "150",
         "Apollo 13",
         "cast member",
         "Bryce Dallas Howard"
        ],
        [
         "4825",
         "150",
         "Apollo 13",
         "cast member",
         "Kathleen Quinlan"
        ],
        [
         "4826",
         "150",
         "Apollo 13",
         "cast member",
         "Roger Corman"
        ],
        [
         "4827",
         "150",
         "Apollo 13",
         "cast member",
         "David Andrews"
        ],
        [
         "4828",
         "150",
         "Apollo 13",
         "cast member",
         "Andy Milder"
        ],
        [
         "4829",
         "150",
         "Apollo 13",
         "cast member",
         "Xander Berkeley"
        ],
        [
         "4830",
         "150",
         "Apollo 13",
         "cast member",
         "Loren Dean"
        ],
        [
         "4831",
         "150",
         "Apollo 13",
         "cast member",
         "Mary Kate Schellhardt"
        ],
        [
         "4832",
         "150",
         "Apollo 13",
         "cast member",
         "Tracy Reiner"
        ],
        [
         "4833",
         "150",
         "Apollo 13",
         "cast member",
         "Chris Ellis"
        ],
        [
         "4834",
         "150",
         "Apollo 13",
         "cast member",
         "Max Grodénchik"
        ],
        [
         "4835",
         "150",
         "Apollo 13",
         "cast member",
         "Austin O'Brien"
        ],
        [
         "4836",
         "150",
         "Apollo 13",
         "cast member",
         "Miko Hughes"
        ],
        [
         "4837",
         "150",
         "Apollo 13",
         "cast member",
         "Christian Clemenson"
        ],
        [
         "4838",
         "150",
         "Apollo 13",
         "cast member",
         "Clint Howard"
        ],
        [
         "4839",
         "150",
         "Apollo 13",
         "cast member",
         "Thom Barry"
        ],
        [
         "4840",
         "150",
         "Apollo 13",
         "cast member",
         "Marc McClure"
        ],
        [
         "4841",
         "150",
         "Apollo 13",
         "cast member",
         "Emily Ann Lloyd"
        ],
        [
         "4842",
         "150",
         "Apollo 13",
         "cast member",
         "Geoffrey Blake"
        ],
        [
         "4843",
         "150",
         "Apollo 13",
         "cast member",
         "Herbert Jefferson, Jr."
        ],
        [
         "4844",
         "150",
         "Apollo 13",
         "cast member",
         "Jeffrey Kluger"
        ],
        [
         "4845",
         "150",
         "Apollo 13",
         "cast member",
         "Max Elliott Slade"
        ],
        [
         "4846",
         "150",
         "Apollo 13",
         "cast member",
         "Steve Rankin"
        ],
        [
         "4847",
         "150",
         "Apollo 13",
         "cast member",
         "Rance Howard"
        ],
        [
         "4848",
         "150",
         "Apollo 13",
         "cast member",
         "Ray McKinnon"
        ],
        [
         "4849",
         "150",
         "Apollo 13",
         "cast member",
         "Todd Louiso"
        ],
        [
         "4850",
         "150",
         "Apollo 13",
         "cast member",
         "Jack Conley"
        ]
       ],
       "shape": {
        "columns": 4,
        "rows": 128
       }
      },
      "text/html": [
       "<div>\n",
       "<style scoped>\n",
       "    .dataframe tbody tr th:only-of-type {\n",
       "        vertical-align: middle;\n",
       "    }\n",
       "\n",
       "    .dataframe tbody tr th {\n",
       "        vertical-align: top;\n",
       "    }\n",
       "\n",
       "    .dataframe thead th {\n",
       "        text-align: right;\n",
       "    }\n",
       "</style>\n",
       "<table border=\"1\" class=\"dataframe\">\n",
       "  <thead>\n",
       "    <tr style=\"text-align: right;\">\n",
       "      <th></th>\n",
       "      <th>movieId</th>\n",
       "      <th>title</th>\n",
       "      <th>prop</th>\n",
       "      <th>obj</th>\n",
       "    </tr>\n",
       "  </thead>\n",
       "  <tbody>\n",
       "    <tr>\n",
       "      <th>4801</th>\n",
       "      <td>150</td>\n",
       "      <td>Apollo 13</td>\n",
       "      <td>director</td>\n",
       "      <td>Ron Howard</td>\n",
       "    </tr>\n",
       "    <tr>\n",
       "      <th>4802</th>\n",
       "      <td>150</td>\n",
       "      <td>Apollo 13</td>\n",
       "      <td>screenwriter</td>\n",
       "      <td>Jim Lovell</td>\n",
       "    </tr>\n",
       "    <tr>\n",
       "      <th>4803</th>\n",
       "      <td>150</td>\n",
       "      <td>Apollo 13</td>\n",
       "      <td>screenwriter</td>\n",
       "      <td>Jeffrey Kluger</td>\n",
       "    </tr>\n",
       "    <tr>\n",
       "      <th>4804</th>\n",
       "      <td>150</td>\n",
       "      <td>Apollo 13</td>\n",
       "      <td>screenwriter</td>\n",
       "      <td>Al Reinert</td>\n",
       "    </tr>\n",
       "    <tr>\n",
       "      <th>4805</th>\n",
       "      <td>150</td>\n",
       "      <td>Apollo 13</td>\n",
       "      <td>screenwriter</td>\n",
       "      <td>William Broyles, Jr.</td>\n",
       "    </tr>\n",
       "    <tr>\n",
       "      <th>...</th>\n",
       "      <td>...</td>\n",
       "      <td>...</td>\n",
       "      <td>...</td>\n",
       "      <td>...</td>\n",
       "    </tr>\n",
       "    <tr>\n",
       "      <th>4924</th>\n",
       "      <td>150</td>\n",
       "      <td>Apollo 13</td>\n",
       "      <td>nominated for</td>\n",
       "      <td>Writers Guild of America Award for Best Adapte...</td>\n",
       "    </tr>\n",
       "    <tr>\n",
       "      <th>4925</th>\n",
       "      <td>150</td>\n",
       "      <td>Apollo 13</td>\n",
       "      <td>nominated for</td>\n",
       "      <td>Academy Award for Best Original Dramatic Score</td>\n",
       "    </tr>\n",
       "    <tr>\n",
       "      <th>4926</th>\n",
       "      <td>150</td>\n",
       "      <td>Apollo 13</td>\n",
       "      <td>executive producer</td>\n",
       "      <td>Todd Hallowell</td>\n",
       "    </tr>\n",
       "    <tr>\n",
       "      <th>4927</th>\n",
       "      <td>150</td>\n",
       "      <td>Apollo 13</td>\n",
       "      <td>title</td>\n",
       "      <td>Apollo 13</td>\n",
       "    </tr>\n",
       "    <tr>\n",
       "      <th>4928</th>\n",
       "      <td>150</td>\n",
       "      <td>Apollo 13</td>\n",
       "      <td>production designer</td>\n",
       "      <td>Merideth</td>\n",
       "    </tr>\n",
       "  </tbody>\n",
       "</table>\n",
       "<p>128 rows × 4 columns</p>\n",
       "</div>"
      ],
      "text/plain": [
       "      movieId      title                 prop  \\\n",
       "4801      150  Apollo 13             director   \n",
       "4802      150  Apollo 13         screenwriter   \n",
       "4803      150  Apollo 13         screenwriter   \n",
       "4804      150  Apollo 13         screenwriter   \n",
       "4805      150  Apollo 13         screenwriter   \n",
       "...       ...        ...                  ...   \n",
       "4924      150  Apollo 13        nominated for   \n",
       "4925      150  Apollo 13        nominated for   \n",
       "4926      150  Apollo 13   executive producer   \n",
       "4927      150  Apollo 13                title   \n",
       "4928      150  Apollo 13  production designer   \n",
       "\n",
       "                                                    obj  \n",
       "4801                                         Ron Howard  \n",
       "4802                                         Jim Lovell  \n",
       "4803                                     Jeffrey Kluger  \n",
       "4804                                         Al Reinert  \n",
       "4805                               William Broyles, Jr.  \n",
       "...                                                 ...  \n",
       "4924  Writers Guild of America Award for Best Adapte...  \n",
       "4925     Academy Award for Best Original Dramatic Score  \n",
       "4926                                     Todd Hallowell  \n",
       "4927                                          Apollo 13  \n",
       "4928                                           Merideth  \n",
       "\n",
       "[128 rows x 4 columns]"
      ]
     },
     "execution_count": 5,
     "metadata": {},
     "output_type": "execute_result"
    }
   ],
   "source": [
    "e[1]"
   ]
  }
 ],
 "metadata": {
  "kernelspec": {
   "display_name": "recsys",
   "language": "python",
   "name": "python3"
  },
  "language_info": {
   "codemirror_mode": {
    "name": "ipython",
    "version": 3
   },
   "file_extension": ".py",
   "mimetype": "text/x-python",
   "name": "python",
   "nbconvert_exporter": "python",
   "pygments_lexer": "ipython3",
   "version": "3.12.3"
  }
 },
 "nbformat": 4,
 "nbformat_minor": 2
}
